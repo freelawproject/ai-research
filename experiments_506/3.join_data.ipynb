{
 "cells": [
  {
   "cell_type": "markdown",
   "id": "57bd61c0-c0b0-4815-9c86-4d22b077e0bf",
   "metadata": {},
   "source": [
    "# Produce a dataset with both issues & documents, also filter for only those with either complaint or opinions"
   ]
  },
  {
   "cell_type": "markdown",
   "id": "8a430726-ed32-466b-9aa1-6926580ef9ae",
   "metadata": {},
   "source": [
    "# Import Libaries"
   ]
  },
  {
   "cell_type": "code",
   "execution_count": 1,
   "id": "0c34f2bc-df77-4a6f-a84f-53b566909138",
   "metadata": {},
   "outputs": [],
   "source": [
    "import pandas as pd"
   ]
  },
  {
   "cell_type": "markdown",
   "id": "acec640f-d560-4903-86fb-7564e8adbedf",
   "metadata": {},
   "source": [
    "# Load the datasets"
   ]
  },
  {
   "cell_type": "code",
   "execution_count": 2,
   "id": "825f08e0-4258-4a99-9cad-92d1cb1f877e",
   "metadata": {},
   "outputs": [],
   "source": [
    "df = pd.read_json(\"data/clean.json\")\n",
    "docs = pd.read_json(\"data/case_documents.json\")"
   ]
  },
  {
   "cell_type": "code",
   "execution_count": 3,
   "id": "8053c612-0b9d-4dc4-8917-edfc475d99fb",
   "metadata": {
    "scrolled": true
   },
   "outputs": [
    {
     "data": {
      "text/html": [
       "<div>\n",
       "<style scoped>\n",
       "    .dataframe tbody tr th:only-of-type {\n",
       "        vertical-align: middle;\n",
       "    }\n",
       "\n",
       "    .dataframe tbody tr th {\n",
       "        vertical-align: top;\n",
       "    }\n",
       "\n",
       "    .dataframe thead th {\n",
       "        text-align: right;\n",
       "    }\n",
       "</style>\n",
       "<table border=\"1\" class=\"dataframe\">\n",
       "  <thead>\n",
       "    <tr style=\"text-align: right;\">\n",
       "      <th></th>\n",
       "      <th>case_id</th>\n",
       "      <th>case_name</th>\n",
       "      <th>case_status</th>\n",
       "      <th>case_state</th>\n",
       "      <th>court_name</th>\n",
       "      <th>case_type</th>\n",
       "      <th>case_ongoing</th>\n",
       "      <th>case_special_collections</th>\n",
       "      <th>case_causes_of_action</th>\n",
       "      <th>issue_category</th>\n",
       "      <th>issues</th>\n",
       "    </tr>\n",
       "  </thead>\n",
       "  <tbody>\n",
       "    <tr>\n",
       "      <th>0</th>\n",
       "      <td>8429</td>\n",
       "      <td>EEOC v. EADS AEROFRAME SERVICES, LLC</td>\n",
       "      <td>Coding Complete</td>\n",
       "      <td>Louisiana</td>\n",
       "      <td>Western District of Louisiana</td>\n",
       "      <td>Equal Employment</td>\n",
       "      <td>No</td>\n",
       "      <td>EEOC Study — in sample, Multi-LexSum (in sample)</td>\n",
       "      <td>Title VII (including PDA), 42 U.S.C.  § 2000e</td>\n",
       "      <td>[Affected National Origin/Ethnicity(s), Affect...</td>\n",
       "      <td>[Black, Conditions of Employment (including as...</td>\n",
       "    </tr>\n",
       "    <tr>\n",
       "      <th>1</th>\n",
       "      <td>9719</td>\n",
       "      <td>Regan v. Salt Lake County</td>\n",
       "      <td>Coding Complete</td>\n",
       "      <td>Utah</td>\n",
       "      <td>District of Utah</td>\n",
       "      <td>Jail Conditions</td>\n",
       "      <td>No</td>\n",
       "      <td>Strip Search Cases</td>\n",
       "      <td>42 U.S.C. § 1983</td>\n",
       "      <td>[Affected Sex/Gender(s), Discrimination Basis,...</td>\n",
       "      <td>[Female, Search policies, Sex discrimination, ...</td>\n",
       "    </tr>\n",
       "    <tr>\n",
       "      <th>2</th>\n",
       "      <td>18526</td>\n",
       "      <td>Kerrigan v. Philadelphia Board of Elections</td>\n",
       "      <td>Coding Complete</td>\n",
       "      <td>Pennsylvania</td>\n",
       "      <td>Eastern District of Pennsylvania</td>\n",
       "      <td>Disability Rights</td>\n",
       "      <td>No</td>\n",
       "      <td>None</td>\n",
       "      <td>Americans with Disabilities Act (ADA), 42 U.S....</td>\n",
       "      <td>[Disability and Disability Rights, Discriminat...</td>\n",
       "      <td>[Disability (inc. reasonable accommodations), ...</td>\n",
       "    </tr>\n",
       "    <tr>\n",
       "      <th>3</th>\n",
       "      <td>6263</td>\n",
       "      <td>EEOC v. TRANSIT MIX CONCRETE</td>\n",
       "      <td>Coding Complete</td>\n",
       "      <td>Texas</td>\n",
       "      <td>Northern District of Texas</td>\n",
       "      <td>Equal Employment</td>\n",
       "      <td>No</td>\n",
       "      <td>EEOC Study — in sample, IWPR/Wage Project Cons...</td>\n",
       "      <td>Title VII (including PDA), 42 U.S.C.  § 2000e</td>\n",
       "      <td>[Affected Race(s), Discrimination Area, Discri...</td>\n",
       "      <td>[Black, Direct Suit on Merits, Disparate Treat...</td>\n",
       "    </tr>\n",
       "    <tr>\n",
       "      <th>4</th>\n",
       "      <td>10082</td>\n",
       "      <td>Shorter v. DC</td>\n",
       "      <td>Coding Complete</td>\n",
       "      <td>District of Columbia</td>\n",
       "      <td>District of District of Columbia</td>\n",
       "      <td>Policing</td>\n",
       "      <td>No</td>\n",
       "      <td>None</td>\n",
       "      <td>42 U.S.C. § 1983</td>\n",
       "      <td>[Disability and Disability Rights, Discriminat...</td>\n",
       "      <td>[Disability (inc. reasonable accommodations), ...</td>\n",
       "    </tr>\n",
       "  </tbody>\n",
       "</table>\n",
       "</div>"
      ],
      "text/plain": [
       "   case_id                                    case_name      case_status  \\\n",
       "0     8429         EEOC v. EADS AEROFRAME SERVICES, LLC  Coding Complete   \n",
       "1     9719                    Regan v. Salt Lake County  Coding Complete   \n",
       "2    18526  Kerrigan v. Philadelphia Board of Elections  Coding Complete   \n",
       "3     6263                 EEOC v. TRANSIT MIX CONCRETE  Coding Complete   \n",
       "4    10082                                Shorter v. DC  Coding Complete   \n",
       "\n",
       "             case_state                        court_name          case_type  \\\n",
       "0             Louisiana     Western District of Louisiana   Equal Employment   \n",
       "1                  Utah                  District of Utah    Jail Conditions   \n",
       "2          Pennsylvania  Eastern District of Pennsylvania  Disability Rights   \n",
       "3                 Texas        Northern District of Texas   Equal Employment   \n",
       "4  District of Columbia  District of District of Columbia           Policing   \n",
       "\n",
       "  case_ongoing                           case_special_collections  \\\n",
       "0           No   EEOC Study — in sample, Multi-LexSum (in sample)   \n",
       "1           No                                 Strip Search Cases   \n",
       "2           No                                               None   \n",
       "3           No  EEOC Study — in sample, IWPR/Wage Project Cons...   \n",
       "4           No                                               None   \n",
       "\n",
       "                               case_causes_of_action  \\\n",
       "0      Title VII (including PDA), 42 U.S.C.  § 2000e   \n",
       "1                                   42 U.S.C. § 1983   \n",
       "2  Americans with Disabilities Act (ADA), 42 U.S....   \n",
       "3      Title VII (including PDA), 42 U.S.C.  § 2000e   \n",
       "4                                   42 U.S.C. § 1983   \n",
       "\n",
       "                                      issue_category  \\\n",
       "0  [Affected National Origin/Ethnicity(s), Affect...   \n",
       "1  [Affected Sex/Gender(s), Discrimination Basis,...   \n",
       "2  [Disability and Disability Rights, Discriminat...   \n",
       "3  [Affected Race(s), Discrimination Area, Discri...   \n",
       "4  [Disability and Disability Rights, Discriminat...   \n",
       "\n",
       "                                              issues  \n",
       "0  [Black, Conditions of Employment (including as...  \n",
       "1  [Female, Search policies, Sex discrimination, ...  \n",
       "2  [Disability (inc. reasonable accommodations), ...  \n",
       "3  [Black, Direct Suit on Merits, Disparate Treat...  \n",
       "4  [Disability (inc. reasonable accommodations), ...  "
      ]
     },
     "execution_count": 3,
     "metadata": {},
     "output_type": "execute_result"
    }
   ],
   "source": [
    "df.head()"
   ]
  },
  {
   "cell_type": "code",
   "execution_count": 4,
   "id": "5c433aa7-f19d-43c6-abab-c1563480fe6c",
   "metadata": {
    "scrolled": true
   },
   "outputs": [
    {
     "data": {
      "text/html": [
       "<div>\n",
       "<style scoped>\n",
       "    .dataframe tbody tr th:only-of-type {\n",
       "        vertical-align: middle;\n",
       "    }\n",
       "\n",
       "    .dataframe tbody tr th {\n",
       "        vertical-align: top;\n",
       "    }\n",
       "\n",
       "    .dataframe thead th {\n",
       "        text-align: right;\n",
       "    }\n",
       "</style>\n",
       "<table border=\"1\" class=\"dataframe\">\n",
       "  <thead>\n",
       "    <tr style=\"text-align: right;\">\n",
       "      <th></th>\n",
       "      <th>case_id</th>\n",
       "      <th>doc_id</th>\n",
       "      <th>doc_title</th>\n",
       "      <th>doc_date</th>\n",
       "      <th>doc_type</th>\n",
       "      <th>doc_source</th>\n",
       "      <th>doc_url</th>\n",
       "      <th>doc_len</th>\n",
       "      <th>complaint_flag</th>\n",
       "      <th>opinion_flag</th>\n",
       "      <th>exhibit_flag</th>\n",
       "    </tr>\n",
       "  </thead>\n",
       "  <tbody>\n",
       "    <tr>\n",
       "      <th>0</th>\n",
       "      <td>44667</td>\n",
       "      <td>145883</td>\n",
       "      <td>USCA Notice of Docketing ROA</td>\n",
       "      <td>2022-03-18</td>\n",
       "      <td>Coding Complete</td>\n",
       "      <td>RECAP</td>\n",
       "      <td>https://www.courtlistener.com/docket/62639631/...</td>\n",
       "      <td>4422</td>\n",
       "      <td>False</td>\n",
       "      <td>False</td>\n",
       "      <td>False</td>\n",
       "    </tr>\n",
       "    <tr>\n",
       "      <th>1</th>\n",
       "      <td>43837</td>\n",
       "      <td>141480</td>\n",
       "      <td>New Document</td>\n",
       "      <td>None</td>\n",
       "      <td>Deleted</td>\n",
       "      <td>None</td>\n",
       "      <td>None</td>\n",
       "      <td>134</td>\n",
       "      <td>False</td>\n",
       "      <td>False</td>\n",
       "      <td>False</td>\n",
       "    </tr>\n",
       "    <tr>\n",
       "      <th>2</th>\n",
       "      <td>689</td>\n",
       "      <td>3434</td>\n",
       "      <td>Memorandum Opinion and Order</td>\n",
       "      <td>1999-11-17</td>\n",
       "      <td>Deleted</td>\n",
       "      <td>None</td>\n",
       "      <td>None</td>\n",
       "      <td>29396</td>\n",
       "      <td>False</td>\n",
       "      <td>True</td>\n",
       "      <td>False</td>\n",
       "    </tr>\n",
       "    <tr>\n",
       "      <th>6</th>\n",
       "      <td>43829</td>\n",
       "      <td>142757</td>\n",
       "      <td>Notice of Appeal</td>\n",
       "      <td>2009-04-30</td>\n",
       "      <td>Coding Complete</td>\n",
       "      <td>PACER [Public Access to Court Electronic Records]</td>\n",
       "      <td>https://www.courtlistener.com/docket/12437212/...</td>\n",
       "      <td>2383</td>\n",
       "      <td>False</td>\n",
       "      <td>False</td>\n",
       "      <td>False</td>\n",
       "    </tr>\n",
       "    <tr>\n",
       "      <th>7</th>\n",
       "      <td>43829</td>\n",
       "      <td>142758</td>\n",
       "      <td>Joint Motion for Relief from Order and Opinion...</td>\n",
       "      <td>2010-05-25</td>\n",
       "      <td>Coding Complete</td>\n",
       "      <td>PACER [Public Access to Court Electronic Records]</td>\n",
       "      <td>https://www.courtlistener.com/docket/12437212/...</td>\n",
       "      <td>550</td>\n",
       "      <td>False</td>\n",
       "      <td>True</td>\n",
       "      <td>False</td>\n",
       "    </tr>\n",
       "  </tbody>\n",
       "</table>\n",
       "</div>"
      ],
      "text/plain": [
       "   case_id  doc_id                                          doc_title  \\\n",
       "0    44667  145883                       USCA Notice of Docketing ROA   \n",
       "1    43837  141480                                       New Document   \n",
       "2      689    3434                       Memorandum Opinion and Order   \n",
       "6    43829  142757                                   Notice of Appeal   \n",
       "7    43829  142758  Joint Motion for Relief from Order and Opinion...   \n",
       "\n",
       "     doc_date         doc_type  \\\n",
       "0  2022-03-18  Coding Complete   \n",
       "1        None          Deleted   \n",
       "2  1999-11-17          Deleted   \n",
       "6  2009-04-30  Coding Complete   \n",
       "7  2010-05-25  Coding Complete   \n",
       "\n",
       "                                          doc_source  \\\n",
       "0                                              RECAP   \n",
       "1                                               None   \n",
       "2                                               None   \n",
       "6  PACER [Public Access to Court Electronic Records]   \n",
       "7  PACER [Public Access to Court Electronic Records]   \n",
       "\n",
       "                                             doc_url  doc_len  complaint_flag  \\\n",
       "0  https://www.courtlistener.com/docket/62639631/...     4422           False   \n",
       "1                                               None      134           False   \n",
       "2                                               None    29396           False   \n",
       "6  https://www.courtlistener.com/docket/12437212/...     2383           False   \n",
       "7  https://www.courtlistener.com/docket/12437212/...      550           False   \n",
       "\n",
       "   opinion_flag  exhibit_flag  \n",
       "0         False         False  \n",
       "1         False         False  \n",
       "2          True         False  \n",
       "6         False         False  \n",
       "7          True         False  "
      ]
     },
     "execution_count": 4,
     "metadata": {},
     "output_type": "execute_result"
    }
   ],
   "source": [
    "docs.head()"
   ]
  },
  {
   "cell_type": "markdown",
   "id": "c7b7990a-23bf-43bf-86e1-cb561b6c9d4c",
   "metadata": {},
   "source": [
    "# Keep only cases that have both documents and assigned issues"
   ]
  },
  {
   "cell_type": "code",
   "execution_count": 5,
   "id": "5cbdf458-e2be-4553-be0d-d5fd8d59fe39",
   "metadata": {},
   "outputs": [
    {
     "data": {
      "text/plain": [
       "10464"
      ]
     },
     "execution_count": 5,
     "metadata": {},
     "output_type": "execute_result"
    }
   ],
   "source": [
    "cases = list(set(df[\"case_id\"].unique()) & set(docs[\"case_id\"].unique()))\n",
    "len(cases)"
   ]
  },
  {
   "cell_type": "code",
   "execution_count": 6,
   "id": "3658529a-28d0-4d2f-b069-17995e403bc6",
   "metadata": {},
   "outputs": [
    {
     "data": {
      "text/plain": [
       "10549"
      ]
     },
     "execution_count": 6,
     "metadata": {},
     "output_type": "execute_result"
    }
   ],
   "source": [
    "len(df)"
   ]
  },
  {
   "cell_type": "code",
   "execution_count": 7,
   "id": "dd8aee87-95ee-41f1-95f0-d1042a085d43",
   "metadata": {},
   "outputs": [
    {
     "data": {
      "text/plain": [
       "10464"
      ]
     },
     "execution_count": 7,
     "metadata": {},
     "output_type": "execute_result"
    }
   ],
   "source": [
    "df = df[df[\"case_id\"].isin(cases)]\n",
    "len(df)"
   ]
  },
  {
   "cell_type": "code",
   "execution_count": 8,
   "id": "0f209a09-7e3b-452b-8ec3-0063b00a096b",
   "metadata": {},
   "outputs": [
    {
     "data": {
      "text/plain": [
       "102811"
      ]
     },
     "execution_count": 8,
     "metadata": {},
     "output_type": "execute_result"
    }
   ],
   "source": [
    "len(docs)"
   ]
  },
  {
   "cell_type": "code",
   "execution_count": 9,
   "id": "902020f6-cd56-410f-9ce4-0dd03da92362",
   "metadata": {},
   "outputs": [
    {
     "data": {
      "text/plain": [
       "84380"
      ]
     },
     "execution_count": 9,
     "metadata": {},
     "output_type": "execute_result"
    }
   ],
   "source": [
    "docs = docs[docs[\"case_id\"].isin(cases)]\n",
    "len(docs)"
   ]
  },
  {
   "cell_type": "markdown",
   "id": "bb85377b-2b0b-4c82-800a-7a40ef24b9ea",
   "metadata": {},
   "source": [
    "## Create a joined issue & document dataset for all future use"
   ]
  },
  {
   "cell_type": "code",
   "execution_count": 10,
   "id": "522f2940-9cc8-4dc3-98c7-c603c359d47e",
   "metadata": {},
   "outputs": [
    {
     "data": {
      "text/plain": [
       "84380"
      ]
     },
     "execution_count": 10,
     "metadata": {},
     "output_type": "execute_result"
    }
   ],
   "source": [
    "result = docs.merge(df, how=\"left\", on=\"case_id\")\n",
    "len(result)"
   ]
  },
  {
   "cell_type": "code",
   "execution_count": 11,
   "id": "8d8ad89a-970b-473f-9516-f77d4bf44450",
   "metadata": {},
   "outputs": [],
   "source": [
    "assert len(docs) == len(result)"
   ]
  },
  {
   "cell_type": "code",
   "execution_count": 12,
   "id": "1bdd5bb1-1426-4b88-b063-3b4c47505742",
   "metadata": {
    "scrolled": true
   },
   "outputs": [
    {
     "data": {
      "text/html": [
       "<div>\n",
       "<style scoped>\n",
       "    .dataframe tbody tr th:only-of-type {\n",
       "        vertical-align: middle;\n",
       "    }\n",
       "\n",
       "    .dataframe tbody tr th {\n",
       "        vertical-align: top;\n",
       "    }\n",
       "\n",
       "    .dataframe thead th {\n",
       "        text-align: right;\n",
       "    }\n",
       "</style>\n",
       "<table border=\"1\" class=\"dataframe\">\n",
       "  <thead>\n",
       "    <tr style=\"text-align: right;\">\n",
       "      <th></th>\n",
       "      <th>case_id</th>\n",
       "      <th>doc_id</th>\n",
       "      <th>doc_title</th>\n",
       "      <th>doc_date</th>\n",
       "      <th>doc_type</th>\n",
       "      <th>doc_source</th>\n",
       "      <th>doc_url</th>\n",
       "      <th>doc_len</th>\n",
       "      <th>complaint_flag</th>\n",
       "      <th>opinion_flag</th>\n",
       "      <th>...</th>\n",
       "      <th>case_name</th>\n",
       "      <th>case_status</th>\n",
       "      <th>case_state</th>\n",
       "      <th>court_name</th>\n",
       "      <th>case_type</th>\n",
       "      <th>case_ongoing</th>\n",
       "      <th>case_special_collections</th>\n",
       "      <th>case_causes_of_action</th>\n",
       "      <th>issue_category</th>\n",
       "      <th>issues</th>\n",
       "    </tr>\n",
       "  </thead>\n",
       "  <tbody>\n",
       "    <tr>\n",
       "      <th>0</th>\n",
       "      <td>43837</td>\n",
       "      <td>141480</td>\n",
       "      <td>New Document</td>\n",
       "      <td>None</td>\n",
       "      <td>Deleted</td>\n",
       "      <td>None</td>\n",
       "      <td>None</td>\n",
       "      <td>134</td>\n",
       "      <td>False</td>\n",
       "      <td>False</td>\n",
       "      <td>...</td>\n",
       "      <td>United States v. State of North Carolina</td>\n",
       "      <td>Approved</td>\n",
       "      <td>North Carolina</td>\n",
       "      <td>Eastern District of North Carolina</td>\n",
       "      <td>Election/Voting Rights</td>\n",
       "      <td>No</td>\n",
       "      <td>Law Firm Antiracism Alliance (LFAA) project</td>\n",
       "      <td>Uniformed and Overseas Citizens Absentia Votin...</td>\n",
       "      <td>[Voting]</td>\n",
       "      <td>[Voting: General &amp; Misc.]</td>\n",
       "    </tr>\n",
       "    <tr>\n",
       "      <th>1</th>\n",
       "      <td>689</td>\n",
       "      <td>3434</td>\n",
       "      <td>Memorandum Opinion and Order</td>\n",
       "      <td>1999-11-17</td>\n",
       "      <td>Deleted</td>\n",
       "      <td>None</td>\n",
       "      <td>None</td>\n",
       "      <td>29396</td>\n",
       "      <td>False</td>\n",
       "      <td>True</td>\n",
       "      <td>...</td>\n",
       "      <td>Williams v. Illinois Department of Corrections</td>\n",
       "      <td>Coding Complete</td>\n",
       "      <td>Illinois</td>\n",
       "      <td>Northern District of Illinois</td>\n",
       "      <td>Prison Conditions</td>\n",
       "      <td>No</td>\n",
       "      <td>None</td>\n",
       "      <td>42 U.S.C. § 1983, Americans with Disabilities ...</td>\n",
       "      <td>[Disability and Disability Rights, Discriminat...</td>\n",
       "      <td>[Disability (inc. reasonable accommodations), ...</td>\n",
       "    </tr>\n",
       "    <tr>\n",
       "      <th>2</th>\n",
       "      <td>43829</td>\n",
       "      <td>142757</td>\n",
       "      <td>Notice of Appeal</td>\n",
       "      <td>2009-04-30</td>\n",
       "      <td>Coding Complete</td>\n",
       "      <td>PACER [Public Access to Court Electronic Records]</td>\n",
       "      <td>https://www.courtlistener.com/docket/12437212/...</td>\n",
       "      <td>2383</td>\n",
       "      <td>False</td>\n",
       "      <td>False</td>\n",
       "      <td>...</td>\n",
       "      <td>City of College Park v. City of Atlanta</td>\n",
       "      <td>Approved</td>\n",
       "      <td>Georgia</td>\n",
       "      <td>Northern District of Georgia</td>\n",
       "      <td>Election/Voting Rights</td>\n",
       "      <td>Yes</td>\n",
       "      <td>Law Firm Antiracism Alliance (LFAA) project</td>\n",
       "      <td>Voting Rights Act, section 5, 52 U.S.C. § 1030...</td>\n",
       "      <td>[Affected Race(s), Discrimination Basis, Voting]</td>\n",
       "      <td>[Black, Race discrimination, Voting: General &amp;...</td>\n",
       "    </tr>\n",
       "    <tr>\n",
       "      <th>3</th>\n",
       "      <td>43829</td>\n",
       "      <td>142758</td>\n",
       "      <td>Joint Motion for Relief from Order and Opinion...</td>\n",
       "      <td>2010-05-25</td>\n",
       "      <td>Coding Complete</td>\n",
       "      <td>PACER [Public Access to Court Electronic Records]</td>\n",
       "      <td>https://www.courtlistener.com/docket/12437212/...</td>\n",
       "      <td>550</td>\n",
       "      <td>False</td>\n",
       "      <td>True</td>\n",
       "      <td>...</td>\n",
       "      <td>City of College Park v. City of Atlanta</td>\n",
       "      <td>Approved</td>\n",
       "      <td>Georgia</td>\n",
       "      <td>Northern District of Georgia</td>\n",
       "      <td>Election/Voting Rights</td>\n",
       "      <td>Yes</td>\n",
       "      <td>Law Firm Antiracism Alliance (LFAA) project</td>\n",
       "      <td>Voting Rights Act, section 5, 52 U.S.C. § 1030...</td>\n",
       "      <td>[Affected Race(s), Discrimination Basis, Voting]</td>\n",
       "      <td>[Black, Race discrimination, Voting: General &amp;...</td>\n",
       "    </tr>\n",
       "    <tr>\n",
       "      <th>4</th>\n",
       "      <td>43829</td>\n",
       "      <td>142765</td>\n",
       "      <td>Order</td>\n",
       "      <td>2010-06-09</td>\n",
       "      <td>Coding Complete</td>\n",
       "      <td>PACER [Public Access to Court Electronic Records]</td>\n",
       "      <td>https://www.courtlistener.com/docket/12437212/...</td>\n",
       "      <td>67</td>\n",
       "      <td>False</td>\n",
       "      <td>False</td>\n",
       "      <td>...</td>\n",
       "      <td>City of College Park v. City of Atlanta</td>\n",
       "      <td>Approved</td>\n",
       "      <td>Georgia</td>\n",
       "      <td>Northern District of Georgia</td>\n",
       "      <td>Election/Voting Rights</td>\n",
       "      <td>Yes</td>\n",
       "      <td>Law Firm Antiracism Alliance (LFAA) project</td>\n",
       "      <td>Voting Rights Act, section 5, 52 U.S.C. § 1030...</td>\n",
       "      <td>[Affected Race(s), Discrimination Basis, Voting]</td>\n",
       "      <td>[Black, Race discrimination, Voting: General &amp;...</td>\n",
       "    </tr>\n",
       "  </tbody>\n",
       "</table>\n",
       "<p>5 rows × 21 columns</p>\n",
       "</div>"
      ],
      "text/plain": [
       "   case_id  doc_id                                          doc_title  \\\n",
       "0    43837  141480                                       New Document   \n",
       "1      689    3434                       Memorandum Opinion and Order   \n",
       "2    43829  142757                                   Notice of Appeal   \n",
       "3    43829  142758  Joint Motion for Relief from Order and Opinion...   \n",
       "4    43829  142765                                              Order   \n",
       "\n",
       "     doc_date         doc_type  \\\n",
       "0        None          Deleted   \n",
       "1  1999-11-17          Deleted   \n",
       "2  2009-04-30  Coding Complete   \n",
       "3  2010-05-25  Coding Complete   \n",
       "4  2010-06-09  Coding Complete   \n",
       "\n",
       "                                          doc_source  \\\n",
       "0                                               None   \n",
       "1                                               None   \n",
       "2  PACER [Public Access to Court Electronic Records]   \n",
       "3  PACER [Public Access to Court Electronic Records]   \n",
       "4  PACER [Public Access to Court Electronic Records]   \n",
       "\n",
       "                                             doc_url  doc_len  complaint_flag  \\\n",
       "0                                               None      134           False   \n",
       "1                                               None    29396           False   \n",
       "2  https://www.courtlistener.com/docket/12437212/...     2383           False   \n",
       "3  https://www.courtlistener.com/docket/12437212/...      550           False   \n",
       "4  https://www.courtlistener.com/docket/12437212/...       67           False   \n",
       "\n",
       "   opinion_flag  ...                                       case_name  \\\n",
       "0         False  ...        United States v. State of North Carolina   \n",
       "1          True  ...  Williams v. Illinois Department of Corrections   \n",
       "2         False  ...         City of College Park v. City of Atlanta   \n",
       "3          True  ...         City of College Park v. City of Atlanta   \n",
       "4         False  ...         City of College Park v. City of Atlanta   \n",
       "\n",
       "       case_status      case_state                          court_name  \\\n",
       "0         Approved  North Carolina  Eastern District of North Carolina   \n",
       "1  Coding Complete        Illinois       Northern District of Illinois   \n",
       "2         Approved         Georgia        Northern District of Georgia   \n",
       "3         Approved         Georgia        Northern District of Georgia   \n",
       "4         Approved         Georgia        Northern District of Georgia   \n",
       "\n",
       "                case_type case_ongoing  \\\n",
       "0  Election/Voting Rights           No   \n",
       "1       Prison Conditions           No   \n",
       "2  Election/Voting Rights          Yes   \n",
       "3  Election/Voting Rights          Yes   \n",
       "4  Election/Voting Rights          Yes   \n",
       "\n",
       "                      case_special_collections  \\\n",
       "0  Law Firm Antiracism Alliance (LFAA) project   \n",
       "1                                         None   \n",
       "2  Law Firm Antiracism Alliance (LFAA) project   \n",
       "3  Law Firm Antiracism Alliance (LFAA) project   \n",
       "4  Law Firm Antiracism Alliance (LFAA) project   \n",
       "\n",
       "                               case_causes_of_action  \\\n",
       "0  Uniformed and Overseas Citizens Absentia Votin...   \n",
       "1  42 U.S.C. § 1983, Americans with Disabilities ...   \n",
       "2  Voting Rights Act, section 5, 52 U.S.C. § 1030...   \n",
       "3  Voting Rights Act, section 5, 52 U.S.C. § 1030...   \n",
       "4  Voting Rights Act, section 5, 52 U.S.C. § 1030...   \n",
       "\n",
       "                                      issue_category  \\\n",
       "0                                           [Voting]   \n",
       "1  [Disability and Disability Rights, Discriminat...   \n",
       "2   [Affected Race(s), Discrimination Basis, Voting]   \n",
       "3   [Affected Race(s), Discrimination Basis, Voting]   \n",
       "4   [Affected Race(s), Discrimination Basis, Voting]   \n",
       "\n",
       "                                              issues  \n",
       "0                          [Voting: General & Misc.]  \n",
       "1  [Disability (inc. reasonable accommodations), ...  \n",
       "2  [Black, Race discrimination, Voting: General &...  \n",
       "3  [Black, Race discrimination, Voting: General &...  \n",
       "4  [Black, Race discrimination, Voting: General &...  \n",
       "\n",
       "[5 rows x 21 columns]"
      ]
     },
     "execution_count": 12,
     "metadata": {},
     "output_type": "execute_result"
    }
   ],
   "source": [
    "result.head()"
   ]
  },
  {
   "cell_type": "markdown",
   "id": "a3543654-1b2e-4d80-b46b-a6e26b99da2d",
   "metadata": {},
   "source": [
    "## Save the result df for future use"
   ]
  },
  {
   "cell_type": "code",
   "execution_count": 13,
   "id": "f3eab9df-9778-422b-b3ab-5392a7e715fc",
   "metadata": {},
   "outputs": [],
   "source": [
    "result.to_json(\"data/case_issues_documents.json\")"
   ]
  },
  {
   "cell_type": "markdown",
   "id": "3f25cac5-b96f-4aba-afc2-9857a4d744c5",
   "metadata": {},
   "source": [
    "## Do some EDA"
   ]
  },
  {
   "cell_type": "code",
   "execution_count": 14,
   "id": "c451ab6f-6df7-4d26-b121-4b75dcdcb82e",
   "metadata": {},
   "outputs": [
    {
     "data": {
      "text/plain": [
       "10464"
      ]
     },
     "execution_count": 14,
     "metadata": {},
     "output_type": "execute_result"
    }
   ],
   "source": [
    "result[\"case_id\"].nunique()"
   ]
  },
  {
   "cell_type": "markdown",
   "id": "04e50c24-0847-48c5-b3ad-b44a20fe79eb",
   "metadata": {},
   "source": [
    "Of ~10K cases, ~6.8K have at least one complaint document"
   ]
  },
  {
   "cell_type": "code",
   "execution_count": 15,
   "id": "2d1f1cec-c1fa-4d70-894e-12d7d86d3d18",
   "metadata": {},
   "outputs": [
    {
     "data": {
      "text/plain": [
       "6838"
      ]
     },
     "execution_count": 15,
     "metadata": {},
     "output_type": "execute_result"
    }
   ],
   "source": [
    "result[result['complaint_flag'] == 1]['case_id'].nunique()"
   ]
  },
  {
   "cell_type": "markdown",
   "id": "99861f2e-7d18-4f01-8eb6-ef1e11c67bc3",
   "metadata": {},
   "source": [
    "Of ~10K cases, ~8.3K have at least one complaint document or at least one opinion document"
   ]
  },
  {
   "cell_type": "code",
   "execution_count": 16,
   "id": "13988072-e2e6-4e1d-b078-0f831abac28d",
   "metadata": {},
   "outputs": [
    {
     "data": {
      "text/plain": [
       "8265"
      ]
     },
     "execution_count": 16,
     "metadata": {},
     "output_type": "execute_result"
    }
   ],
   "source": [
    "result[(result['complaint_flag'] == 1) | (result['opinion_flag'] == 1)]['case_id'].nunique()"
   ]
  },
  {
   "cell_type": "markdown",
   "id": "ec5f4815-d9b4-4f3a-8a07-918befc5758d",
   "metadata": {},
   "source": [
    "## Given the complaint & opinion have the most useful information, filter for only complaints & opinions"
   ]
  },
  {
   "cell_type": "code",
   "execution_count": 17,
   "id": "111ce3e7-a080-4bf8-a130-1bb869f2c305",
   "metadata": {},
   "outputs": [
    {
     "data": {
      "text/plain": [
       "22966"
      ]
     },
     "execution_count": 17,
     "metadata": {},
     "output_type": "execute_result"
    }
   ],
   "source": [
    "meaningful = result[(result['complaint_flag'] == 1) | (result['opinion_flag'] == 1)]\n",
    "len(meaningful)"
   ]
  },
  {
   "cell_type": "code",
   "execution_count": 18,
   "id": "228a7247-646e-4856-9912-d180c2556343",
   "metadata": {
    "scrolled": true
   },
   "outputs": [
    {
     "data": {
      "text/html": [
       "<div>\n",
       "<style scoped>\n",
       "    .dataframe tbody tr th:only-of-type {\n",
       "        vertical-align: middle;\n",
       "    }\n",
       "\n",
       "    .dataframe tbody tr th {\n",
       "        vertical-align: top;\n",
       "    }\n",
       "\n",
       "    .dataframe thead th {\n",
       "        text-align: right;\n",
       "    }\n",
       "</style>\n",
       "<table border=\"1\" class=\"dataframe\">\n",
       "  <thead>\n",
       "    <tr style=\"text-align: right;\">\n",
       "      <th></th>\n",
       "      <th>case_id</th>\n",
       "      <th>doc_id</th>\n",
       "      <th>doc_title</th>\n",
       "      <th>doc_date</th>\n",
       "      <th>doc_type</th>\n",
       "      <th>doc_source</th>\n",
       "      <th>doc_url</th>\n",
       "      <th>doc_len</th>\n",
       "      <th>complaint_flag</th>\n",
       "      <th>opinion_flag</th>\n",
       "      <th>...</th>\n",
       "      <th>case_name</th>\n",
       "      <th>case_status</th>\n",
       "      <th>case_state</th>\n",
       "      <th>court_name</th>\n",
       "      <th>case_type</th>\n",
       "      <th>case_ongoing</th>\n",
       "      <th>case_special_collections</th>\n",
       "      <th>case_causes_of_action</th>\n",
       "      <th>issue_category</th>\n",
       "      <th>issues</th>\n",
       "    </tr>\n",
       "  </thead>\n",
       "  <tbody>\n",
       "    <tr>\n",
       "      <th>1</th>\n",
       "      <td>689</td>\n",
       "      <td>3434</td>\n",
       "      <td>Memorandum Opinion and Order</td>\n",
       "      <td>1999-11-17</td>\n",
       "      <td>Deleted</td>\n",
       "      <td>None</td>\n",
       "      <td>None</td>\n",
       "      <td>29396</td>\n",
       "      <td>False</td>\n",
       "      <td>True</td>\n",
       "      <td>...</td>\n",
       "      <td>Williams v. Illinois Department of Corrections</td>\n",
       "      <td>Coding Complete</td>\n",
       "      <td>Illinois</td>\n",
       "      <td>Northern District of Illinois</td>\n",
       "      <td>Prison Conditions</td>\n",
       "      <td>No</td>\n",
       "      <td>None</td>\n",
       "      <td>42 U.S.C. § 1983, Americans with Disabilities ...</td>\n",
       "      <td>[Disability and Disability Rights, Discriminat...</td>\n",
       "      <td>[Disability (inc. reasonable accommodations), ...</td>\n",
       "    </tr>\n",
       "    <tr>\n",
       "      <th>3</th>\n",
       "      <td>43829</td>\n",
       "      <td>142758</td>\n",
       "      <td>Joint Motion for Relief from Order and Opinion...</td>\n",
       "      <td>2010-05-25</td>\n",
       "      <td>Coding Complete</td>\n",
       "      <td>PACER [Public Access to Court Electronic Records]</td>\n",
       "      <td>https://www.courtlistener.com/docket/12437212/...</td>\n",
       "      <td>550</td>\n",
       "      <td>False</td>\n",
       "      <td>True</td>\n",
       "      <td>...</td>\n",
       "      <td>City of College Park v. City of Atlanta</td>\n",
       "      <td>Approved</td>\n",
       "      <td>Georgia</td>\n",
       "      <td>Northern District of Georgia</td>\n",
       "      <td>Election/Voting Rights</td>\n",
       "      <td>Yes</td>\n",
       "      <td>Law Firm Antiracism Alliance (LFAA) project</td>\n",
       "      <td>Voting Rights Act, section 5, 52 U.S.C. § 1030...</td>\n",
       "      <td>[Affected Race(s), Discrimination Basis, Voting]</td>\n",
       "      <td>[Black, Race discrimination, Voting: General &amp;...</td>\n",
       "    </tr>\n",
       "    <tr>\n",
       "      <th>9</th>\n",
       "      <td>17891</td>\n",
       "      <td>110352</td>\n",
       "      <td>Opinion</td>\n",
       "      <td>2020-10-23</td>\n",
       "      <td>Coding Complete</td>\n",
       "      <td>None</td>\n",
       "      <td>None</td>\n",
       "      <td>19824</td>\n",
       "      <td>False</td>\n",
       "      <td>True</td>\n",
       "      <td>...</td>\n",
       "      <td>Common Cause Indiana v. Lawson</td>\n",
       "      <td>Coding Complete</td>\n",
       "      <td>Indiana</td>\n",
       "      <td>Southern District of Indiana</td>\n",
       "      <td>Election/Voting Rights</td>\n",
       "      <td>No</td>\n",
       "      <td>COVID-19 (novel coronavirus), Healthy Election...</td>\n",
       "      <td>42 U.S.C. § 1983</td>\n",
       "      <td>[Voting]</td>\n",
       "      <td>[Election administration, Voting: General &amp; Mi...</td>\n",
       "    </tr>\n",
       "    <tr>\n",
       "      <th>28</th>\n",
       "      <td>199</td>\n",
       "      <td>885</td>\n",
       "      <td>Opinion and Order (Granting in part and denyin...</td>\n",
       "      <td>2000-06-06</td>\n",
       "      <td>Deleted</td>\n",
       "      <td>Westlaw</td>\n",
       "      <td>None</td>\n",
       "      <td>99451</td>\n",
       "      <td>False</td>\n",
       "      <td>True</td>\n",
       "      <td>...</td>\n",
       "      <td>Benjamin v. Horn</td>\n",
       "      <td>Approved</td>\n",
       "      <td>New York</td>\n",
       "      <td>Southern District of New York</td>\n",
       "      <td>Jail Conditions</td>\n",
       "      <td>Yes</td>\n",
       "      <td>None</td>\n",
       "      <td>42 U.S.C. § 1983</td>\n",
       "      <td>[Affected Sex/Gender(s), General/Misc., Jails,...</td>\n",
       "      <td>[Access to lawyers or judicial system, Bathing...</td>\n",
       "    </tr>\n",
       "    <tr>\n",
       "      <th>37</th>\n",
       "      <td>12206</td>\n",
       "      <td>42378</td>\n",
       "      <td>Complaint</td>\n",
       "      <td>2010-03-08</td>\n",
       "      <td>Coding Complete</td>\n",
       "      <td>State Court Website</td>\n",
       "      <td>None</td>\n",
       "      <td>41688</td>\n",
       "      <td>True</td>\n",
       "      <td>False</td>\n",
       "      <td>...</td>\n",
       "      <td>Jones v. Hobbs</td>\n",
       "      <td>Approved</td>\n",
       "      <td>Arkansas</td>\n",
       "      <td>Arkansas state trial court</td>\n",
       "      <td>Criminal Justice (Other)</td>\n",
       "      <td>Yes</td>\n",
       "      <td>None</td>\n",
       "      <td>State law</td>\n",
       "      <td>[Death Penalty]</td>\n",
       "      <td>[Lethal Injection - Chemicals Used, Lethal Inj...</td>\n",
       "    </tr>\n",
       "  </tbody>\n",
       "</table>\n",
       "<p>5 rows × 21 columns</p>\n",
       "</div>"
      ],
      "text/plain": [
       "    case_id  doc_id                                          doc_title  \\\n",
       "1       689    3434                       Memorandum Opinion and Order   \n",
       "3     43829  142758  Joint Motion for Relief from Order and Opinion...   \n",
       "9     17891  110352                                            Opinion   \n",
       "28      199     885  Opinion and Order (Granting in part and denyin...   \n",
       "37    12206   42378                                          Complaint   \n",
       "\n",
       "      doc_date         doc_type  \\\n",
       "1   1999-11-17          Deleted   \n",
       "3   2010-05-25  Coding Complete   \n",
       "9   2020-10-23  Coding Complete   \n",
       "28  2000-06-06          Deleted   \n",
       "37  2010-03-08  Coding Complete   \n",
       "\n",
       "                                           doc_source  \\\n",
       "1                                                None   \n",
       "3   PACER [Public Access to Court Electronic Records]   \n",
       "9                                                None   \n",
       "28                                            Westlaw   \n",
       "37                                State Court Website   \n",
       "\n",
       "                                              doc_url  doc_len  \\\n",
       "1                                                None    29396   \n",
       "3   https://www.courtlistener.com/docket/12437212/...      550   \n",
       "9                                                None    19824   \n",
       "28                                               None    99451   \n",
       "37                                               None    41688   \n",
       "\n",
       "    complaint_flag  opinion_flag  ...  \\\n",
       "1            False          True  ...   \n",
       "3            False          True  ...   \n",
       "9            False          True  ...   \n",
       "28           False          True  ...   \n",
       "37            True         False  ...   \n",
       "\n",
       "                                         case_name      case_status  \\\n",
       "1   Williams v. Illinois Department of Corrections  Coding Complete   \n",
       "3          City of College Park v. City of Atlanta         Approved   \n",
       "9                   Common Cause Indiana v. Lawson  Coding Complete   \n",
       "28                                Benjamin v. Horn         Approved   \n",
       "37                                  Jones v. Hobbs         Approved   \n",
       "\n",
       "   case_state                     court_name                 case_type  \\\n",
       "1    Illinois  Northern District of Illinois         Prison Conditions   \n",
       "3     Georgia   Northern District of Georgia    Election/Voting Rights   \n",
       "9     Indiana   Southern District of Indiana    Election/Voting Rights   \n",
       "28   New York  Southern District of New York           Jail Conditions   \n",
       "37   Arkansas     Arkansas state trial court  Criminal Justice (Other)   \n",
       "\n",
       "   case_ongoing                           case_special_collections  \\\n",
       "1            No                                               None   \n",
       "3           Yes        Law Firm Antiracism Alliance (LFAA) project   \n",
       "9            No  COVID-19 (novel coronavirus), Healthy Election...   \n",
       "28          Yes                                               None   \n",
       "37          Yes                                               None   \n",
       "\n",
       "                                case_causes_of_action  \\\n",
       "1   42 U.S.C. § 1983, Americans with Disabilities ...   \n",
       "3   Voting Rights Act, section 5, 52 U.S.C. § 1030...   \n",
       "9                                    42 U.S.C. § 1983   \n",
       "28                                   42 U.S.C. § 1983   \n",
       "37                                          State law   \n",
       "\n",
       "                                       issue_category  \\\n",
       "1   [Disability and Disability Rights, Discriminat...   \n",
       "3    [Affected Race(s), Discrimination Basis, Voting]   \n",
       "9                                            [Voting]   \n",
       "28  [Affected Sex/Gender(s), General/Misc., Jails,...   \n",
       "37                                    [Death Penalty]   \n",
       "\n",
       "                                               issues  \n",
       "1   [Disability (inc. reasonable accommodations), ...  \n",
       "3   [Black, Race discrimination, Voting: General &...  \n",
       "9   [Election administration, Voting: General & Mi...  \n",
       "28  [Access to lawyers or judicial system, Bathing...  \n",
       "37  [Lethal Injection - Chemicals Used, Lethal Inj...  \n",
       "\n",
       "[5 rows x 21 columns]"
      ]
     },
     "execution_count": 18,
     "metadata": {},
     "output_type": "execute_result"
    }
   ],
   "source": [
    "meaningful.head()"
   ]
  },
  {
   "cell_type": "markdown",
   "id": "c8f96b68-6a63-4fd3-92ad-3ecadbf5c2ef",
   "metadata": {},
   "source": [
    "Majority of the cases have at most 3 documents, given they could have more than one complaint or opinion for each case. Some cases have many documents, this is for cases that have numerous dockets that span across years."
   ]
  },
  {
   "cell_type": "code",
   "execution_count": 19,
   "id": "ca8e8360-b044-411b-9903-d26ee4677f88",
   "metadata": {
    "scrolled": true
   },
   "outputs": [
    {
     "data": {
      "text/plain": [
       "count    8265.000000\n",
       "mean        2.778705\n",
       "std         3.468365\n",
       "min         1.000000\n",
       "25%         1.000000\n",
       "50%         2.000000\n",
       "75%         3.000000\n",
       "max        86.000000\n",
       "Name: count, dtype: float64"
      ]
     },
     "execution_count": 19,
     "metadata": {},
     "output_type": "execute_result"
    }
   ],
   "source": [
    "meaningful[\"case_id\"].value_counts().describe()"
   ]
  },
  {
   "cell_type": "markdown",
   "id": "4f80b92c",
   "metadata": {},
   "source": [
    "## Remove any documents have fewer than \\~250 tokens (\\~1000 chars) as they are unlikely to contain meaningful information for the prediction"
   ]
  },
  {
   "cell_type": "code",
   "execution_count": 20,
   "id": "c47ad46a",
   "metadata": {},
   "outputs": [
    {
     "data": {
      "text/plain": [
       "22391"
      ]
     },
     "execution_count": 20,
     "metadata": {},
     "output_type": "execute_result"
    }
   ],
   "source": [
    "meaningful = meaningful[meaningful[\"doc_len\"] > (250 * 4)]\n",
    "len(meaningful)"
   ]
  },
  {
   "cell_type": "code",
   "execution_count": 21,
   "id": "34efa4bd",
   "metadata": {},
   "outputs": [
    {
     "data": {
      "text/plain": [
       "8170"
      ]
     },
     "execution_count": 21,
     "metadata": {},
     "output_type": "execute_result"
    }
   ],
   "source": [
    "meaningful[\"case_id\"].nunique()"
   ]
  },
  {
   "cell_type": "markdown",
   "id": "34a80738-6f42-4882-b742-2c613c45ac27",
   "metadata": {},
   "source": [
    "## Save complaint & opinion df for future use"
   ]
  },
  {
   "cell_type": "code",
   "execution_count": 22,
   "id": "36d3bfc5-1c67-48d6-8503-1442c8eb314a",
   "metadata": {},
   "outputs": [],
   "source": [
    "meaningful.to_json(\"data/case_with_complaint_opinion.json\")"
   ]
  }
 ],
 "metadata": {
  "kernelspec": {
   "display_name": "Python 3 (ipykernel)",
   "language": "python",
   "name": "python3"
  },
  "language_info": {
   "codemirror_mode": {
    "name": "ipython",
    "version": 3
   },
   "file_extension": ".py",
   "mimetype": "text/x-python",
   "name": "python",
   "nbconvert_exporter": "python",
   "pygments_lexer": "ipython3",
   "version": "3.11.11"
  }
 },
 "nbformat": 4,
 "nbformat_minor": 5
}
