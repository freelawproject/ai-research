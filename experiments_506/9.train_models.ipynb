{
 "cells": [
  {
   "cell_type": "markdown",
   "id": "dbd5e98c-51de-4c03-baa8-eafb17644a0b",
   "metadata": {},
   "source": [
    "# Train Models\n",
    "\n",
    "Each notebook in the 9-series outlines the steps I undertook to train each binary classification model using the case content embeddings. The logistic regression models were trained through manual tuning by observing the training curves, the other models were trained through grid search to find the best hyperparameters based on validation performance.\n",
    "\n",
    "All the trained models are saved in the models folder for future inference. Different issue categories may use different algorithms, depending on the validation performance."
   ]
  }
 ],
 "metadata": {
  "kernelspec": {
   "display_name": "Python 3 (ipykernel)",
   "language": "python",
   "name": "python3"
  },
  "language_info": {
   "codemirror_mode": {
    "name": "ipython",
    "version": 3
   },
   "file_extension": ".py",
   "mimetype": "text/x-python",
   "name": "python",
   "nbconvert_exporter": "python",
   "pygments_lexer": "ipython3",
   "version": "3.11.11"
  }
 },
 "nbformat": 4,
 "nbformat_minor": 5
}
