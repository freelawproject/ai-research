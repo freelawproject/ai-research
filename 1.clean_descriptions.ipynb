{
 "cells": [
  {
   "cell_type": "markdown",
   "id": "0153d21d-afae-492c-9011-95b801a0f74a",
   "metadata": {},
   "source": [
    "# Clean the RECAP docket and document descriptions\n",
    "\n",
    "This notebook outlines the steps undertook to clean the RECAP docket and document descriptions for creating an eval dataset"
   ]
  },
  {
   "cell_type": "markdown",
   "id": "c9a5913b-ba1b-48da-b03c-59f1e1ab783d",
   "metadata": {},
   "source": [
    "# Import Libaries"
   ]
  },
  {
   "cell_type": "code",
   "execution_count": 1,
   "id": "4e9675f9-6563-46d0-b486-bee5998b9989",
   "metadata": {},
   "outputs": [],
   "source": [
    "import numpy as np\n",
    "import pandas as pd"
   ]
  },
  {
   "cell_type": "markdown",
   "id": "a2aafe54-682b-4693-8671-d5a1076910b1",
   "metadata": {},
   "source": [
    "# Load the data"
   ]
  },
  {
   "cell_type": "code",
   "execution_count": 2,
   "id": "cac73425-1bee-4ad5-87cf-036e7ea6c62a",
   "metadata": {},
   "outputs": [
    {
     "data": {
      "text/plain": [
       "8209"
      ]
     },
     "execution_count": 2,
     "metadata": {},
     "output_type": "execute_result"
    }
   ],
   "source": [
    "df = pd.read_csv(\"data/dockets.csv\")\n",
    "df = df[~df[\"docket_entry_id\"].isna()]\n",
    "len(df)"
   ]
  },
  {
   "cell_type": "code",
   "execution_count": 3,
   "id": "74aa939f-5443-4577-82f5-cc11d7eee40e",
   "metadata": {
    "scrolled": true
   },
   "outputs": [
    {
     "data": {
      "text/plain": [
       "Index(['docket_id', 'docket_date_created', 'docket_case_name_short',\n",
       "       'docket_case_name', 'docket_case_name_full', 'docket_slug',\n",
       "       'docket_number', 'blocked', 'docket_court_id', 'assigned_to_id',\n",
       "       'assigned_to_str', 'cause', 'date_filed', 'date_last_filing',\n",
       "       'date_terminated', 'jurisdiction_type', 'jury_demand', 'nature_of_suit',\n",
       "       'docket_pacer_case_id', 'appeal_from_id', 'appeal_from_str',\n",
       "       'appellate_case_type_information', 'originating_court_information_id',\n",
       "       'docket_number_core', 'idb_data_id', 'parent_docket_id',\n",
       "       'docket_entry_id', 'docket_entry_date_created', 'entry_number',\n",
       "       'description', 'docket_entry_docket_id', 'pacer_sequence_number',\n",
       "       'recap_sequence_number', 'recap_document_id', 'recap_date_created',\n",
       "       'recap_document_type', 'recap_document_number',\n",
       "       'recap_attachment_number', 'recap_pacer_doc_id', 'is_available',\n",
       "       'recap_docket_entry_id', 'recap_description', 'ocr_status',\n",
       "       'plain_text', 'page_count', 'court_id', 'in_use', 'position',\n",
       "       'citation_string', 'court_short_name', 'court_full_name',\n",
       "       'court_jurisdiction', 'pacer_court_id', 'fjc_court_id',\n",
       "       'parent_court_id'],\n",
       "      dtype='object')"
      ]
     },
     "execution_count": 3,
     "metadata": {},
     "output_type": "execute_result"
    }
   ],
   "source": [
    "df.columns"
   ]
  },
  {
   "cell_type": "markdown",
   "id": "85209e59-6224-4bb1-b609-157a12037ea0",
   "metadata": {},
   "source": [
    "# Clean up the data"
   ]
  },
  {
   "cell_type": "code",
   "execution_count": 4,
   "id": "64279c6d-e4ba-4613-8dd5-72e43a9b66cd",
   "metadata": {
    "scrolled": true
   },
   "outputs": [
    {
     "data": {
      "text/html": [
       "<div>\n",
       "<style scoped>\n",
       "    .dataframe tbody tr th:only-of-type {\n",
       "        vertical-align: middle;\n",
       "    }\n",
       "\n",
       "    .dataframe tbody tr th {\n",
       "        vertical-align: top;\n",
       "    }\n",
       "\n",
       "    .dataframe thead th {\n",
       "        text-align: right;\n",
       "    }\n",
       "</style>\n",
       "<table border=\"1\" class=\"dataframe\">\n",
       "  <thead>\n",
       "    <tr style=\"text-align: right;\">\n",
       "      <th></th>\n",
       "      <th>docket_id</th>\n",
       "      <th>docket_number</th>\n",
       "      <th>court_id</th>\n",
       "      <th>court_short_name</th>\n",
       "      <th>entry_id</th>\n",
       "      <th>entry_number</th>\n",
       "      <th>entry_description</th>\n",
       "      <th>recap_document_id</th>\n",
       "      <th>recap_document_number</th>\n",
       "      <th>recap_description</th>\n",
       "      <th>recap_document</th>\n",
       "    </tr>\n",
       "  </thead>\n",
       "  <tbody>\n",
       "    <tr>\n",
       "      <th>8</th>\n",
       "      <td>66759071</td>\n",
       "      <td>1:23-cv-00078</td>\n",
       "      <td>txwd</td>\n",
       "      <td>W.D. Texas</td>\n",
       "      <td>400962733.0</td>\n",
       "      <td>26.0</td>\n",
       "      <td>NaN</td>\n",
       "      <td>410207044.0</td>\n",
       "      <td>26.0</td>\n",
       "      <td>Order AND ~Util - Terminate Civil Case</td>\n",
       "      <td>NaN</td>\n",
       "    </tr>\n",
       "    <tr>\n",
       "      <th>9</th>\n",
       "      <td>66759071</td>\n",
       "      <td>1:23-cv-00078</td>\n",
       "      <td>txwd</td>\n",
       "      <td>W.D. Texas</td>\n",
       "      <td>400873530.0</td>\n",
       "      <td>25.0</td>\n",
       "      <td>NaN</td>\n",
       "      <td>410116604.0</td>\n",
       "      <td>25.0</td>\n",
       "      <td>Stipulation of Dismissal</td>\n",
       "      <td>NaN</td>\n",
       "    </tr>\n",
       "    <tr>\n",
       "      <th>10</th>\n",
       "      <td>66759071</td>\n",
       "      <td>1:23-cv-00078</td>\n",
       "      <td>txwd</td>\n",
       "      <td>W.D. Texas</td>\n",
       "      <td>400255673.0</td>\n",
       "      <td>24.0</td>\n",
       "      <td>NaN</td>\n",
       "      <td>409484496.0</td>\n",
       "      <td>24.0</td>\n",
       "      <td>Order AND ~Util - Set Hearings</td>\n",
       "      <td>NaN</td>\n",
       "    </tr>\n",
       "    <tr>\n",
       "      <th>11</th>\n",
       "      <td>66759071</td>\n",
       "      <td>1:23-cv-00078</td>\n",
       "      <td>txwd</td>\n",
       "      <td>W.D. Texas</td>\n",
       "      <td>390150565.0</td>\n",
       "      <td>23.0</td>\n",
       "      <td>NaN</td>\n",
       "      <td>399087857.0</td>\n",
       "      <td>23.0</td>\n",
       "      <td>Order AND ~Util - Terminate Hearings</td>\n",
       "      <td>NaN</td>\n",
       "    </tr>\n",
       "    <tr>\n",
       "      <th>12</th>\n",
       "      <td>66759071</td>\n",
       "      <td>1:23-cv-00078</td>\n",
       "      <td>txwd</td>\n",
       "      <td>W.D. Texas</td>\n",
       "      <td>382121924.0</td>\n",
       "      <td>22.0</td>\n",
       "      <td>NaN</td>\n",
       "      <td>389933428.0</td>\n",
       "      <td>22.0</td>\n",
       "      <td>Notice</td>\n",
       "      <td>NaN</td>\n",
       "    </tr>\n",
       "  </tbody>\n",
       "</table>\n",
       "</div>"
      ],
      "text/plain": [
       "    docket_id  docket_number court_id court_short_name     entry_id  \\\n",
       "8    66759071  1:23-cv-00078     txwd       W.D. Texas  400962733.0   \n",
       "9    66759071  1:23-cv-00078     txwd       W.D. Texas  400873530.0   \n",
       "10   66759071  1:23-cv-00078     txwd       W.D. Texas  400255673.0   \n",
       "11   66759071  1:23-cv-00078     txwd       W.D. Texas  390150565.0   \n",
       "12   66759071  1:23-cv-00078     txwd       W.D. Texas  382121924.0   \n",
       "\n",
       "    entry_number entry_description  recap_document_id  recap_document_number  \\\n",
       "8           26.0               NaN        410207044.0                   26.0   \n",
       "9           25.0               NaN        410116604.0                   25.0   \n",
       "10          24.0               NaN        409484496.0                   24.0   \n",
       "11          23.0               NaN        399087857.0                   23.0   \n",
       "12          22.0               NaN        389933428.0                   22.0   \n",
       "\n",
       "                         recap_description recap_document  \n",
       "8   Order AND ~Util - Terminate Civil Case            NaN  \n",
       "9                 Stipulation of Dismissal            NaN  \n",
       "10          Order AND ~Util - Set Hearings            NaN  \n",
       "11    Order AND ~Util - Terminate Hearings            NaN  \n",
       "12                                  Notice            NaN  "
      ]
     },
     "execution_count": 4,
     "metadata": {},
     "output_type": "execute_result"
    }
   ],
   "source": [
    "df = df[[\"docket_id\", \"docket_number\", \"court_id\", \"court_short_name\", \n",
    "         \"docket_entry_id\", \"entry_number\", \"description\", \n",
    "        'recap_document_id', 'recap_document_number', \"recap_description\", \n",
    "         \"plain_text\"]]\n",
    "\n",
    "df = df.rename(columns={\"docket_entry_id\": \"entry_id\",\n",
    "                        \"description\": \"entry_description\",\n",
    "                        \"plain_text\": \"recap_document\"})\n",
    "\n",
    "df.head()"
   ]
  },
  {
   "cell_type": "code",
   "execution_count": 5,
   "id": "138a10ac-ce92-4792-a25f-f7129d72fa35",
   "metadata": {},
   "outputs": [
    {
     "data": {
      "text/html": [
       "<div>\n",
       "<style scoped>\n",
       "    .dataframe tbody tr th:only-of-type {\n",
       "        vertical-align: middle;\n",
       "    }\n",
       "\n",
       "    .dataframe tbody tr th {\n",
       "        vertical-align: top;\n",
       "    }\n",
       "\n",
       "    .dataframe thead th {\n",
       "        text-align: right;\n",
       "    }\n",
       "</style>\n",
       "<table border=\"1\" class=\"dataframe\">\n",
       "  <thead>\n",
       "    <tr style=\"text-align: right;\">\n",
       "      <th></th>\n",
       "      <th>docket_id</th>\n",
       "      <th>docket_number</th>\n",
       "      <th>court_id</th>\n",
       "      <th>court_short_name</th>\n",
       "      <th>entry_id</th>\n",
       "      <th>entry_number</th>\n",
       "      <th>entry_description</th>\n",
       "      <th>recap_document_id</th>\n",
       "      <th>recap_document_number</th>\n",
       "      <th>recap_description</th>\n",
       "      <th>recap_document</th>\n",
       "    </tr>\n",
       "  </thead>\n",
       "  <tbody>\n",
       "    <tr>\n",
       "      <th>8</th>\n",
       "      <td>66759071</td>\n",
       "      <td>1:23-cv-00078</td>\n",
       "      <td>txwd</td>\n",
       "      <td>W.D. Texas</td>\n",
       "      <td>400962733</td>\n",
       "      <td>26.0</td>\n",
       "      <td>NaN</td>\n",
       "      <td>410207044</td>\n",
       "      <td>26.0</td>\n",
       "      <td>Order AND ~Util - Terminate Civil Case</td>\n",
       "      <td>NaN</td>\n",
       "    </tr>\n",
       "    <tr>\n",
       "      <th>9</th>\n",
       "      <td>66759071</td>\n",
       "      <td>1:23-cv-00078</td>\n",
       "      <td>txwd</td>\n",
       "      <td>W.D. Texas</td>\n",
       "      <td>400873530</td>\n",
       "      <td>25.0</td>\n",
       "      <td>NaN</td>\n",
       "      <td>410116604</td>\n",
       "      <td>25.0</td>\n",
       "      <td>Stipulation of Dismissal</td>\n",
       "      <td>NaN</td>\n",
       "    </tr>\n",
       "    <tr>\n",
       "      <th>10</th>\n",
       "      <td>66759071</td>\n",
       "      <td>1:23-cv-00078</td>\n",
       "      <td>txwd</td>\n",
       "      <td>W.D. Texas</td>\n",
       "      <td>400255673</td>\n",
       "      <td>24.0</td>\n",
       "      <td>NaN</td>\n",
       "      <td>409484496</td>\n",
       "      <td>24.0</td>\n",
       "      <td>Order AND ~Util - Set Hearings</td>\n",
       "      <td>NaN</td>\n",
       "    </tr>\n",
       "    <tr>\n",
       "      <th>11</th>\n",
       "      <td>66759071</td>\n",
       "      <td>1:23-cv-00078</td>\n",
       "      <td>txwd</td>\n",
       "      <td>W.D. Texas</td>\n",
       "      <td>390150565</td>\n",
       "      <td>23.0</td>\n",
       "      <td>NaN</td>\n",
       "      <td>399087857</td>\n",
       "      <td>23.0</td>\n",
       "      <td>Order AND ~Util - Terminate Hearings</td>\n",
       "      <td>NaN</td>\n",
       "    </tr>\n",
       "    <tr>\n",
       "      <th>12</th>\n",
       "      <td>66759071</td>\n",
       "      <td>1:23-cv-00078</td>\n",
       "      <td>txwd</td>\n",
       "      <td>W.D. Texas</td>\n",
       "      <td>382121924</td>\n",
       "      <td>22.0</td>\n",
       "      <td>NaN</td>\n",
       "      <td>389933428</td>\n",
       "      <td>22.0</td>\n",
       "      <td>Notice</td>\n",
       "      <td>NaN</td>\n",
       "    </tr>\n",
       "  </tbody>\n",
       "</table>\n",
       "</div>"
      ],
      "text/plain": [
       "    docket_id  docket_number court_id court_short_name   entry_id  \\\n",
       "8    66759071  1:23-cv-00078     txwd       W.D. Texas  400962733   \n",
       "9    66759071  1:23-cv-00078     txwd       W.D. Texas  400873530   \n",
       "10   66759071  1:23-cv-00078     txwd       W.D. Texas  400255673   \n",
       "11   66759071  1:23-cv-00078     txwd       W.D. Texas  390150565   \n",
       "12   66759071  1:23-cv-00078     txwd       W.D. Texas  382121924   \n",
       "\n",
       "    entry_number entry_description  recap_document_id  recap_document_number  \\\n",
       "8           26.0               NaN          410207044                   26.0   \n",
       "9           25.0               NaN          410116604                   25.0   \n",
       "10          24.0               NaN          409484496                   24.0   \n",
       "11          23.0               NaN          399087857                   23.0   \n",
       "12          22.0               NaN          389933428                   22.0   \n",
       "\n",
       "                         recap_description recap_document  \n",
       "8   Order AND ~Util - Terminate Civil Case            NaN  \n",
       "9                 Stipulation of Dismissal            NaN  \n",
       "10          Order AND ~Util - Set Hearings            NaN  \n",
       "11    Order AND ~Util - Terminate Hearings            NaN  \n",
       "12                                  Notice            NaN  "
      ]
     },
     "execution_count": 5,
     "metadata": {},
     "output_type": "execute_result"
    }
   ],
   "source": [
    "for each in [\"docket_id\", \"entry_id\", \"entry_number\", \"recap_document_id\", \"recap_document_number\"]:\n",
    "    df[each] = df[each].apply(lambda x: np.nan if (pd.isna(x) or np.isinf(x)) else int(x))\n",
    "\n",
    "df.head()"
   ]
  },
  {
   "cell_type": "code",
   "execution_count": 6,
   "id": "894d279b-8916-4fff-8acb-b05ff459e383",
   "metadata": {},
   "outputs": [
    {
     "data": {
      "text/html": [
       "<div>\n",
       "<style scoped>\n",
       "    .dataframe tbody tr th:only-of-type {\n",
       "        vertical-align: middle;\n",
       "    }\n",
       "\n",
       "    .dataframe tbody tr th {\n",
       "        vertical-align: top;\n",
       "    }\n",
       "\n",
       "    .dataframe thead th {\n",
       "        text-align: right;\n",
       "    }\n",
       "</style>\n",
       "<table border=\"1\" class=\"dataframe\">\n",
       "  <thead>\n",
       "    <tr style=\"text-align: right;\">\n",
       "      <th></th>\n",
       "      <th>docket_id</th>\n",
       "      <th>docket_number</th>\n",
       "      <th>court_id</th>\n",
       "      <th>court_short_name</th>\n",
       "      <th>entry_id</th>\n",
       "      <th>entry_number</th>\n",
       "      <th>entry_description</th>\n",
       "      <th>recap_document_id</th>\n",
       "      <th>recap_document_number</th>\n",
       "      <th>recap_description</th>\n",
       "      <th>recap_document</th>\n",
       "      <th>unique_id</th>\n",
       "    </tr>\n",
       "  </thead>\n",
       "  <tbody>\n",
       "    <tr>\n",
       "      <th>8</th>\n",
       "      <td>66759071</td>\n",
       "      <td>1:23-cv-00078</td>\n",
       "      <td>txwd</td>\n",
       "      <td>W.D. Texas</td>\n",
       "      <td>400962733</td>\n",
       "      <td>26.0</td>\n",
       "      <td>NaN</td>\n",
       "      <td>410207044</td>\n",
       "      <td>26.0</td>\n",
       "      <td>Order AND ~Util - Terminate Civil Case</td>\n",
       "      <td>NaN</td>\n",
       "      <td>66759071-400962733-410207044</td>\n",
       "    </tr>\n",
       "    <tr>\n",
       "      <th>9</th>\n",
       "      <td>66759071</td>\n",
       "      <td>1:23-cv-00078</td>\n",
       "      <td>txwd</td>\n",
       "      <td>W.D. Texas</td>\n",
       "      <td>400873530</td>\n",
       "      <td>25.0</td>\n",
       "      <td>NaN</td>\n",
       "      <td>410116604</td>\n",
       "      <td>25.0</td>\n",
       "      <td>Stipulation of Dismissal</td>\n",
       "      <td>NaN</td>\n",
       "      <td>66759071-400873530-410116604</td>\n",
       "    </tr>\n",
       "    <tr>\n",
       "      <th>10</th>\n",
       "      <td>66759071</td>\n",
       "      <td>1:23-cv-00078</td>\n",
       "      <td>txwd</td>\n",
       "      <td>W.D. Texas</td>\n",
       "      <td>400255673</td>\n",
       "      <td>24.0</td>\n",
       "      <td>NaN</td>\n",
       "      <td>409484496</td>\n",
       "      <td>24.0</td>\n",
       "      <td>Order AND ~Util - Set Hearings</td>\n",
       "      <td>NaN</td>\n",
       "      <td>66759071-400255673-409484496</td>\n",
       "    </tr>\n",
       "    <tr>\n",
       "      <th>11</th>\n",
       "      <td>66759071</td>\n",
       "      <td>1:23-cv-00078</td>\n",
       "      <td>txwd</td>\n",
       "      <td>W.D. Texas</td>\n",
       "      <td>390150565</td>\n",
       "      <td>23.0</td>\n",
       "      <td>NaN</td>\n",
       "      <td>399087857</td>\n",
       "      <td>23.0</td>\n",
       "      <td>Order AND ~Util - Terminate Hearings</td>\n",
       "      <td>NaN</td>\n",
       "      <td>66759071-390150565-399087857</td>\n",
       "    </tr>\n",
       "    <tr>\n",
       "      <th>12</th>\n",
       "      <td>66759071</td>\n",
       "      <td>1:23-cv-00078</td>\n",
       "      <td>txwd</td>\n",
       "      <td>W.D. Texas</td>\n",
       "      <td>382121924</td>\n",
       "      <td>22.0</td>\n",
       "      <td>NaN</td>\n",
       "      <td>389933428</td>\n",
       "      <td>22.0</td>\n",
       "      <td>Notice</td>\n",
       "      <td>NaN</td>\n",
       "      <td>66759071-382121924-389933428</td>\n",
       "    </tr>\n",
       "  </tbody>\n",
       "</table>\n",
       "</div>"
      ],
      "text/plain": [
       "    docket_id  docket_number court_id court_short_name   entry_id  \\\n",
       "8    66759071  1:23-cv-00078     txwd       W.D. Texas  400962733   \n",
       "9    66759071  1:23-cv-00078     txwd       W.D. Texas  400873530   \n",
       "10   66759071  1:23-cv-00078     txwd       W.D. Texas  400255673   \n",
       "11   66759071  1:23-cv-00078     txwd       W.D. Texas  390150565   \n",
       "12   66759071  1:23-cv-00078     txwd       W.D. Texas  382121924   \n",
       "\n",
       "    entry_number entry_description  recap_document_id  recap_document_number  \\\n",
       "8           26.0               NaN          410207044                   26.0   \n",
       "9           25.0               NaN          410116604                   25.0   \n",
       "10          24.0               NaN          409484496                   24.0   \n",
       "11          23.0               NaN          399087857                   23.0   \n",
       "12          22.0               NaN          389933428                   22.0   \n",
       "\n",
       "                         recap_description recap_document  \\\n",
       "8   Order AND ~Util - Terminate Civil Case            NaN   \n",
       "9                 Stipulation of Dismissal            NaN   \n",
       "10          Order AND ~Util - Set Hearings            NaN   \n",
       "11    Order AND ~Util - Terminate Hearings            NaN   \n",
       "12                                  Notice            NaN   \n",
       "\n",
       "                       unique_id  \n",
       "8   66759071-400962733-410207044  \n",
       "9   66759071-400873530-410116604  \n",
       "10  66759071-400255673-409484496  \n",
       "11  66759071-390150565-399087857  \n",
       "12  66759071-382121924-389933428  "
      ]
     },
     "execution_count": 6,
     "metadata": {},
     "output_type": "execute_result"
    }
   ],
   "source": [
    "for each in [\"docket_id\", \"entry_id\", \"recap_document_id\"]:\n",
    "    df[f'str_{each}'] = df[each].apply(lambda x: '9999999999' if pd.isna(x) else str(x))\n",
    "    \n",
    "df['unique_id'] = df['str_docket_id'] + '-' + df['str_entry_id'] + '-' + df['str_recap_document_id']\n",
    "assert df['unique_id'].nunique() == len(df)\n",
    "\n",
    "df = df.drop(columns=['str_docket_id', 'str_entry_id', 'str_recap_document_id'])\n",
    "df.head()"
   ]
  },
  {
   "cell_type": "markdown",
   "id": "afe535af-c6e7-4027-92d9-0ba8781c4642",
   "metadata": {},
   "source": [
    "# Keep only the docket entries, the recap description, and the attachment description"
   ]
  },
  {
   "cell_type": "code",
   "execution_count": 7,
   "id": "2f869e8b-39a7-4e87-99b8-65be98c756da",
   "metadata": {},
   "outputs": [
    {
     "data": {
      "text/plain": [
       "2228"
      ]
     },
     "execution_count": 7,
     "metadata": {},
     "output_type": "execute_result"
    }
   ],
   "source": [
    "entry = df[[\"unique_id\", \"entry_description\"]].dropna(subset=['entry_description'])\n",
    "entry = entry.rename(columns={\"entry_description\": \"text\"})\n",
    "len(entry)"
   ]
  },
  {
   "cell_type": "code",
   "execution_count": 8,
   "id": "798cec3d-b06a-4cd5-8439-b81a8db72e15",
   "metadata": {},
   "outputs": [
    {
     "data": {
      "text/plain": [
       "6583"
      ]
     },
     "execution_count": 8,
     "metadata": {},
     "output_type": "execute_result"
    }
   ],
   "source": [
    "recap = df[[\"unique_id\", \"recap_description\"]].dropna(subset=['recap_description'])\n",
    "recap = recap.rename(columns={\"recap_description\":\"text\"})\n",
    "len(recap)"
   ]
  },
  {
   "cell_type": "code",
   "execution_count": 9,
   "id": "6f66f00c-35a8-4621-ae70-b5eb46d8cad9",
   "metadata": {},
   "outputs": [
    {
     "data": {
      "text/plain": [
       "205"
      ]
     },
     "execution_count": 9,
     "metadata": {},
     "output_type": "execute_result"
    }
   ],
   "source": [
    "attachment = df[[\"unique_id\", \"recap_document\"]].dropna(subset=['recap_document'])\n",
    "attachment = attachment.rename(columns={\"recap_document\":\"text\"})\n",
    "len(attachment)"
   ]
  },
  {
   "cell_type": "markdown",
   "id": "b0ad2788-3214-42e2-a3f7-299b29fc7e33",
   "metadata": {},
   "source": [
    "# Save for future use"
   ]
  },
  {
   "cell_type": "code",
   "execution_count": 10,
   "id": "00a580c3-520e-4dfe-a60e-092d59459afa",
   "metadata": {},
   "outputs": [],
   "source": [
    "df.to_csv(\"data/clean_dockets.csv\", index=False)\n",
    "entry.to_csv(\"data/entry.csv\", index=False)\n",
    "recap.to_csv(\"data/recap.csv\", index=False)\n",
    "attachment.to_csv(\"data/attachment.csv\", index=False)"
   ]
  }
 ],
 "metadata": {
  "kernelspec": {
   "display_name": "Python 3 (ipykernel)",
   "language": "python",
   "name": "python3"
  },
  "language_info": {
   "codemirror_mode": {
    "name": "ipython",
    "version": 3
   },
   "file_extension": ".py",
   "mimetype": "text/x-python",
   "name": "python",
   "nbconvert_exporter": "python",
   "pygments_lexer": "ipython3",
   "version": "3.10.16"
  }
 },
 "nbformat": 4,
 "nbformat_minor": 5
}
