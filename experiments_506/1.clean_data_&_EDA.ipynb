{
 "cells": [
  {
   "cell_type": "markdown",
   "id": "209f0fc2",
   "metadata": {},
   "source": [
    "# Clean Clearinghouse Dataset\n",
    "\n",
    "The dataset \"clearinghouse.csv\" is provided by clearinghouse through their internal SQL query. This dataset contains the case metadata for each case that has a complete coding. This notebook outlines the steps I undertook to clean this dataset for building the ML model to predict case issues/issue categories."
   ]
  },
  {
   "cell_type": "markdown",
   "id": "b592c553",
   "metadata": {},
   "source": [
    "# Import Libaries"
   ]
  },
  {
   "cell_type": "code",
   "execution_count": null,
   "id": "3192353d",
   "metadata": {},
   "outputs": [],
   "source": [
    "import pandas as pd\n",
    "\n",
    "from sklearn.preprocessing import MultiLabelBinarizer"
   ]
  },
  {
   "cell_type": "markdown",
   "id": "7e1178b5",
   "metadata": {},
   "source": [
    "# Join the issues dataset to the clearinghouse dataset that contains all the other metadatas"
   ]
  },
  {
   "cell_type": "code",
   "execution_count": null,
   "id": "95702fb3",
   "metadata": {},
   "outputs": [],
   "source": [
    "issue_data = pd.read_json(\"data/case_issues.json\")"
   ]
  },
  {
   "cell_type": "code",
   "execution_count": null,
   "id": "43d28fd0",
   "metadata": {},
   "outputs": [
    {
     "data": {
      "text/plain": [
       "10796"
      ]
     },
     "metadata": {},
     "output_type": "display_data"
    }
   ],
   "source": [
    "cases = pd.read_csv(\"data/clearinghouse.csv\")\n",
    "len(cases)"
   ]
  },
  {
   "cell_type": "code",
   "execution_count": null,
   "id": "9da94d41",
   "metadata": {},
   "outputs": [
    {
     "data": {
      "text/plain": [
       "10796"
      ]
     },
     "metadata": {},
     "output_type": "display_data"
    }
   ],
   "source": [
    "result = cases.merge(issue_data, on=\"case_id\", how=\"left\")\n",
    "len(result)"
   ]
  },
  {
   "cell_type": "code",
   "execution_count": null,
   "id": "085ffcd0",
   "metadata": {},
   "outputs": [
    {
     "data": {
      "text/html": [
       "<div>\n",
       "<style scoped>\n",
       "    .dataframe tbody tr th:only-of-type {\n",
       "        vertical-align: middle;\n",
       "    }\n",
       "\n",
       "    .dataframe tbody tr th {\n",
       "        vertical-align: top;\n",
       "    }\n",
       "\n",
       "    .dataframe thead th {\n",
       "        text-align: right;\n",
       "    }\n",
       "</style>\n",
       "<table border=\"1\" class=\"dataframe\">\n",
       "  <thead>\n",
       "    <tr style=\"text-align: right;\">\n",
       "      <th></th>\n",
       "      <th>case_id</th>\n",
       "      <th>case_name</th>\n",
       "      <th>case_status</th>\n",
       "      <th>case_state</th>\n",
       "      <th>court_name</th>\n",
       "      <th>case_type</th>\n",
       "      <th>case_ongoing</th>\n",
       "      <th>case_special_collections</th>\n",
       "      <th>case_causes_of_action</th>\n",
       "      <th>case_issues</th>\n",
       "      <th>issue_data</th>\n",
       "    </tr>\n",
       "  </thead>\n",
       "  <tbody>\n",
       "    <tr>\n",
       "      <th>0</th>\n",
       "      <td>8429</td>\n",
       "      <td>EEOC v. EADS AEROFRAME SERVICES, LLC</td>\n",
       "      <td>Coding Complete</td>\n",
       "      <td>Louisiana</td>\n",
       "      <td>Western District of Louisiana</td>\n",
       "      <td>Equal Employment</td>\n",
       "      <td>No</td>\n",
       "      <td>EEOC Study — in sample, Multi-LexSum (in sample)</td>\n",
       "      <td>Title VII (including PDA), 42 U.S.C.  § 2000e</td>\n",
       "      <td>Race discrimination, Black, Hispanic, White, R...</td>\n",
       "      <td>{'Affected National Origin/Ethnicity(s)': ['Hi...</td>\n",
       "    </tr>\n",
       "    <tr>\n",
       "      <th>1</th>\n",
       "      <td>9719</td>\n",
       "      <td>Regan v. Salt Lake County</td>\n",
       "      <td>Coding Complete</td>\n",
       "      <td>Utah</td>\n",
       "      <td>District of Utah</td>\n",
       "      <td>Jail Conditions</td>\n",
       "      <td>No</td>\n",
       "      <td>Strip Search Cases</td>\n",
       "      <td>42 U.S.C. § 1983</td>\n",
       "      <td>Search policies, Strip search policy (faciliti...</td>\n",
       "      <td>{'Affected Sex/Gender(s)': ['Female'], 'Discri...</td>\n",
       "    </tr>\n",
       "    <tr>\n",
       "      <th>2</th>\n",
       "      <td>18526</td>\n",
       "      <td>Kerrigan v. Philadelphia Board of Elections</td>\n",
       "      <td>Coding Complete</td>\n",
       "      <td>Pennsylvania</td>\n",
       "      <td>Eastern District of Pennsylvania</td>\n",
       "      <td>Disability Rights</td>\n",
       "      <td>No</td>\n",
       "      <td>NaN</td>\n",
       "      <td>Americans with Disabilities Act (ADA), 42 U.S....</td>\n",
       "      <td>Disability (inc. reasonable accommodations), M...</td>\n",
       "      <td>{'Disability and Disability Rights': ['Mobilit...</td>\n",
       "    </tr>\n",
       "    <tr>\n",
       "      <th>3</th>\n",
       "      <td>6263</td>\n",
       "      <td>EEOC v. TRANSIT MIX CONCRETE</td>\n",
       "      <td>Coding Complete</td>\n",
       "      <td>Texas</td>\n",
       "      <td>Northern District of Texas</td>\n",
       "      <td>Equal Employment</td>\n",
       "      <td>No</td>\n",
       "      <td>EEOC Study — in sample, IWPR/Wage Project Cons...</td>\n",
       "      <td>Title VII (including PDA), 42 U.S.C.  § 2000e</td>\n",
       "      <td>Race discrimination, Black, Disparate Treatmen...</td>\n",
       "      <td>{'Affected Race(s)': ['Black'], 'Discriminatio...</td>\n",
       "    </tr>\n",
       "    <tr>\n",
       "      <th>4</th>\n",
       "      <td>10082</td>\n",
       "      <td>Shorter v. DC</td>\n",
       "      <td>Coding Complete</td>\n",
       "      <td>District of Columbia</td>\n",
       "      <td>District of District of Columbia</td>\n",
       "      <td>Policing</td>\n",
       "      <td>No</td>\n",
       "      <td>NaN</td>\n",
       "      <td>42 U.S.C. § 1983</td>\n",
       "      <td>Hearing impairment, Disability (inc. reasonabl...</td>\n",
       "      <td>{'Disability and Disability Rights': ['Hearing...</td>\n",
       "    </tr>\n",
       "  </tbody>\n",
       "</table>\n",
       "</div>"
      ],
      "text/plain": [
       "   case_id                                    case_name      case_status  \\\n",
       "0     8429         EEOC v. EADS AEROFRAME SERVICES, LLC  Coding Complete   \n",
       "1     9719                    Regan v. Salt Lake County  Coding Complete   \n",
       "2    18526  Kerrigan v. Philadelphia Board of Elections  Coding Complete   \n",
       "3     6263                 EEOC v. TRANSIT MIX CONCRETE  Coding Complete   \n",
       "4    10082                                Shorter v. DC  Coding Complete   \n",
       "\n",
       "             case_state                        court_name          case_type  \\\n",
       "0             Louisiana     Western District of Louisiana   Equal Employment   \n",
       "1                  Utah                  District of Utah    Jail Conditions   \n",
       "2          Pennsylvania  Eastern District of Pennsylvania  Disability Rights   \n",
       "3                 Texas        Northern District of Texas   Equal Employment   \n",
       "4  District of Columbia  District of District of Columbia           Policing   \n",
       "\n",
       "  case_ongoing                           case_special_collections  \\\n",
       "0           No   EEOC Study — in sample, Multi-LexSum (in sample)   \n",
       "1           No                                 Strip Search Cases   \n",
       "2           No                                                NaN   \n",
       "3           No  EEOC Study — in sample, IWPR/Wage Project Cons...   \n",
       "4           No                                                NaN   \n",
       "\n",
       "                               case_causes_of_action  \\\n",
       "0      Title VII (including PDA), 42 U.S.C.  § 2000e   \n",
       "1                                   42 U.S.C. § 1983   \n",
       "2  Americans with Disabilities Act (ADA), 42 U.S....   \n",
       "3      Title VII (including PDA), 42 U.S.C.  § 2000e   \n",
       "4                                   42 U.S.C. § 1983   \n",
       "\n",
       "                                         case_issues  \\\n",
       "0  Race discrimination, Black, Hispanic, White, R...   \n",
       "1  Search policies, Strip search policy (faciliti...   \n",
       "2  Disability (inc. reasonable accommodations), M...   \n",
       "3  Race discrimination, Black, Disparate Treatmen...   \n",
       "4  Hearing impairment, Disability (inc. reasonabl...   \n",
       "\n",
       "                                          issue_data  \n",
       "0  {'Affected National Origin/Ethnicity(s)': ['Hi...  \n",
       "1  {'Affected Sex/Gender(s)': ['Female'], 'Discri...  \n",
       "2  {'Disability and Disability Rights': ['Mobilit...  \n",
       "3  {'Affected Race(s)': ['Black'], 'Discriminatio...  \n",
       "4  {'Disability and Disability Rights': ['Hearing...  "
      ]
     },
     "metadata": {},
     "output_type": "display_data"
    }
   ],
   "source": [
    "result.head()"
   ]
  },
  {
   "cell_type": "markdown",
   "id": "49ac1e1f",
   "metadata": {},
   "source": [
    "## Check for cases with black issue data"
   ]
  },
  {
   "cell_type": "code",
   "execution_count": null,
   "id": "02b7a16f",
   "metadata": {},
   "outputs": [
    {
     "data": {
      "text/html": [
       "<div>\n",
       "<style scoped>\n",
       "    .dataframe tbody tr th:only-of-type {\n",
       "        vertical-align: middle;\n",
       "    }\n",
       "\n",
       "    .dataframe tbody tr th {\n",
       "        vertical-align: top;\n",
       "    }\n",
       "\n",
       "    .dataframe thead th {\n",
       "        text-align: right;\n",
       "    }\n",
       "</style>\n",
       "<table border=\"1\" class=\"dataframe\">\n",
       "  <thead>\n",
       "    <tr style=\"text-align: right;\">\n",
       "      <th></th>\n",
       "      <th>case_id</th>\n",
       "      <th>case_name</th>\n",
       "      <th>case_status</th>\n",
       "      <th>case_state</th>\n",
       "      <th>court_name</th>\n",
       "      <th>case_type</th>\n",
       "      <th>case_ongoing</th>\n",
       "      <th>case_special_collections</th>\n",
       "      <th>case_causes_of_action</th>\n",
       "      <th>case_issues</th>\n",
       "      <th>issue_data</th>\n",
       "    </tr>\n",
       "  </thead>\n",
       "  <tbody>\n",
       "  </tbody>\n",
       "</table>\n",
       "</div>"
      ],
      "text/plain": [
       "Empty DataFrame\n",
       "Columns: [case_id, case_name, case_status, case_state, court_name, case_type, case_ongoing, case_special_collections, case_causes_of_action, case_issues, issue_data]\n",
       "Index: []"
      ]
     },
     "metadata": {},
     "output_type": "display_data"
    }
   ],
   "source": [
    "result[(result[\"issue_data\"].isna()) & (~result[\"case_issues\"].isna())]"
   ]
  },
  {
   "cell_type": "code",
   "execution_count": null,
   "id": "deb32eae",
   "metadata": {},
   "outputs": [
    {
     "data": {
      "text/html": [
       "<div>\n",
       "<style scoped>\n",
       "    .dataframe tbody tr th:only-of-type {\n",
       "        vertical-align: middle;\n",
       "    }\n",
       "\n",
       "    .dataframe tbody tr th {\n",
       "        vertical-align: top;\n",
       "    }\n",
       "\n",
       "    .dataframe thead th {\n",
       "        text-align: right;\n",
       "    }\n",
       "</style>\n",
       "<table border=\"1\" class=\"dataframe\">\n",
       "  <thead>\n",
       "    <tr style=\"text-align: right;\">\n",
       "      <th></th>\n",
       "      <th>case_id</th>\n",
       "      <th>case_name</th>\n",
       "      <th>case_status</th>\n",
       "      <th>case_state</th>\n",
       "      <th>court_name</th>\n",
       "      <th>case_type</th>\n",
       "      <th>case_ongoing</th>\n",
       "      <th>case_special_collections</th>\n",
       "      <th>case_causes_of_action</th>\n",
       "      <th>case_issues</th>\n",
       "      <th>issue_data</th>\n",
       "    </tr>\n",
       "  </thead>\n",
       "  <tbody>\n",
       "    <tr>\n",
       "      <th>454</th>\n",
       "      <td>46103</td>\n",
       "      <td>Jones v. Trump</td>\n",
       "      <td>Coding Complete</td>\n",
       "      <td>District of Columbia</td>\n",
       "      <td>District of District of Columbia</td>\n",
       "      <td>Prison Conditions</td>\n",
       "      <td>Yes</td>\n",
       "      <td>Trump Administration 2.0: Challenges to the Go...</td>\n",
       "      <td>Section 504 (Rehabilitation Act), 29 U.S.C. § ...</td>\n",
       "      <td>NaN</td>\n",
       "      <td>{'Discrimination Area': ['Disparate Treatment'...</td>\n",
       "    </tr>\n",
       "    <tr>\n",
       "      <th>8349</th>\n",
       "      <td>46348</td>\n",
       "      <td>American Foreign Service Association v. Trump</td>\n",
       "      <td>Coding Complete</td>\n",
       "      <td>District of Columbia</td>\n",
       "      <td>District of District of Columbia</td>\n",
       "      <td>Labor Rights</td>\n",
       "      <td>Yes</td>\n",
       "      <td>Trump Administration 2.0: Challenges to the Go...</td>\n",
       "      <td>NaN</td>\n",
       "      <td>NaN</td>\n",
       "      <td>{'Presidential/Gubernatorial Authority': ['Civ...</td>\n",
       "    </tr>\n",
       "  </tbody>\n",
       "</table>\n",
       "</div>"
      ],
      "text/plain": [
       "      case_id                                      case_name      case_status  \\\n",
       "454     46103                                 Jones v. Trump  Coding Complete   \n",
       "8349    46348  American Foreign Service Association v. Trump  Coding Complete   \n",
       "\n",
       "                case_state                        court_name  \\\n",
       "454   District of Columbia  District of District of Columbia   \n",
       "8349  District of Columbia  District of District of Columbia   \n",
       "\n",
       "              case_type case_ongoing  \\\n",
       "454   Prison Conditions          Yes   \n",
       "8349       Labor Rights          Yes   \n",
       "\n",
       "                               case_special_collections  \\\n",
       "454   Trump Administration 2.0: Challenges to the Go...   \n",
       "8349  Trump Administration 2.0: Challenges to the Go...   \n",
       "\n",
       "                                  case_causes_of_action case_issues  \\\n",
       "454   Section 504 (Rehabilitation Act), 29 U.S.C. § ...         NaN   \n",
       "8349                                                NaN         NaN   \n",
       "\n",
       "                                             issue_data  \n",
       "454   {'Discrimination Area': ['Disparate Treatment'...  \n",
       "8349  {'Presidential/Gubernatorial Authority': ['Civ...  "
      ]
     },
     "metadata": {},
     "output_type": "display_data"
    }
   ],
   "source": [
    "result[(~result[\"issue_data\"].isna()) & (result[\"case_issues\"].isna())]"
   ]
  },
  {
   "cell_type": "markdown",
   "id": "6fa29b1c",
   "metadata": {},
   "source": [
    "## Drop all cases where the issue_data is blank, as we cannot use them to make predictions / evaluations"
   ]
  },
  {
   "cell_type": "code",
   "execution_count": null,
   "id": "3800efb9",
   "metadata": {},
   "outputs": [
    {
     "data": {
      "text/plain": [
       "10796"
      ]
     },
     "metadata": {},
     "output_type": "display_data"
    }
   ],
   "source": [
    "len(result)"
   ]
  },
  {
   "cell_type": "code",
   "execution_count": null,
   "id": "5385bd43",
   "metadata": {},
   "outputs": [
    {
     "data": {
      "text/plain": [
       "10549"
      ]
     },
     "metadata": {},
     "output_type": "display_data"
    }
   ],
   "source": [
    "result = result[~result[\"issue_data\"].isna()]\n",
    "len(result)"
   ]
  },
  {
   "cell_type": "markdown",
   "id": "f4ac17a2",
   "metadata": {},
   "source": [
    "## Extract the issue categories and issues from issue data"
   ]
  },
  {
   "cell_type": "code",
   "execution_count": null,
   "id": "fb39d4ed",
   "metadata": {},
   "outputs": [],
   "source": [
    "result['issue_category'] = result[\"issue_data\"].apply(lambda d: list(d.keys()) if isinstance(d, dict) else [])\n",
    "result['issues'] = result[\"issue_data\"].apply(\n",
    "    lambda d: sorted([item for sublist in d.values() for item in sublist]) if isinstance(d, dict) else []\n",
    ")"
   ]
  },
  {
   "cell_type": "code",
   "execution_count": null,
   "id": "f14320c1",
   "metadata": {},
   "outputs": [
    {
     "data": {
      "text/plain": [
       "Index(['case_id', 'case_name', 'case_status', 'case_state', 'court_name',\n",
       "       'case_type', 'case_ongoing', 'case_special_collections',\n",
       "       'case_causes_of_action', 'case_issues', 'issue_data', 'issue_category',\n",
       "       'issues'],\n",
       "      dtype='object')"
      ]
     },
     "metadata": {},
     "output_type": "display_data"
    }
   ],
   "source": [
    "result.columns"
   ]
  },
  {
   "cell_type": "markdown",
   "id": "ec485300",
   "metadata": {},
   "source": [
    "## Drop columns we don't need"
   ]
  },
  {
   "cell_type": "code",
   "execution_count": null,
   "id": "af6a098f",
   "metadata": {},
   "outputs": [
    {
     "data": {
      "text/html": [
       "<div>\n",
       "<style scoped>\n",
       "    .dataframe tbody tr th:only-of-type {\n",
       "        vertical-align: middle;\n",
       "    }\n",
       "\n",
       "    .dataframe tbody tr th {\n",
       "        vertical-align: top;\n",
       "    }\n",
       "\n",
       "    .dataframe thead th {\n",
       "        text-align: right;\n",
       "    }\n",
       "</style>\n",
       "<table border=\"1\" class=\"dataframe\">\n",
       "  <thead>\n",
       "    <tr style=\"text-align: right;\">\n",
       "      <th></th>\n",
       "      <th>case_id</th>\n",
       "      <th>case_name</th>\n",
       "      <th>case_status</th>\n",
       "      <th>case_state</th>\n",
       "      <th>court_name</th>\n",
       "      <th>case_type</th>\n",
       "      <th>case_ongoing</th>\n",
       "      <th>case_special_collections</th>\n",
       "      <th>case_causes_of_action</th>\n",
       "      <th>issue_category</th>\n",
       "      <th>issues</th>\n",
       "    </tr>\n",
       "  </thead>\n",
       "  <tbody>\n",
       "    <tr>\n",
       "      <th>0</th>\n",
       "      <td>8429</td>\n",
       "      <td>EEOC v. EADS AEROFRAME SERVICES, LLC</td>\n",
       "      <td>Coding Complete</td>\n",
       "      <td>Louisiana</td>\n",
       "      <td>Western District of Louisiana</td>\n",
       "      <td>Equal Employment</td>\n",
       "      <td>No</td>\n",
       "      <td>EEOC Study — in sample, Multi-LexSum (in sample)</td>\n",
       "      <td>Title VII (including PDA), 42 U.S.C.  § 2000e</td>\n",
       "      <td>[Affected National Origin/Ethnicity(s), Affect...</td>\n",
       "      <td>[Black, Conditions of Employment (including as...</td>\n",
       "    </tr>\n",
       "    <tr>\n",
       "      <th>1</th>\n",
       "      <td>9719</td>\n",
       "      <td>Regan v. Salt Lake County</td>\n",
       "      <td>Coding Complete</td>\n",
       "      <td>Utah</td>\n",
       "      <td>District of Utah</td>\n",
       "      <td>Jail Conditions</td>\n",
       "      <td>No</td>\n",
       "      <td>Strip Search Cases</td>\n",
       "      <td>42 U.S.C. § 1983</td>\n",
       "      <td>[Affected Sex/Gender(s), Discrimination Basis,...</td>\n",
       "      <td>[Female, Search policies, Sex discrimination, ...</td>\n",
       "    </tr>\n",
       "    <tr>\n",
       "      <th>2</th>\n",
       "      <td>18526</td>\n",
       "      <td>Kerrigan v. Philadelphia Board of Elections</td>\n",
       "      <td>Coding Complete</td>\n",
       "      <td>Pennsylvania</td>\n",
       "      <td>Eastern District of Pennsylvania</td>\n",
       "      <td>Disability Rights</td>\n",
       "      <td>No</td>\n",
       "      <td>NaN</td>\n",
       "      <td>Americans with Disabilities Act (ADA), 42 U.S....</td>\n",
       "      <td>[Disability and Disability Rights, Discriminat...</td>\n",
       "      <td>[Disability (inc. reasonable accommodations), ...</td>\n",
       "    </tr>\n",
       "    <tr>\n",
       "      <th>3</th>\n",
       "      <td>6263</td>\n",
       "      <td>EEOC v. TRANSIT MIX CONCRETE</td>\n",
       "      <td>Coding Complete</td>\n",
       "      <td>Texas</td>\n",
       "      <td>Northern District of Texas</td>\n",
       "      <td>Equal Employment</td>\n",
       "      <td>No</td>\n",
       "      <td>EEOC Study — in sample, IWPR/Wage Project Cons...</td>\n",
       "      <td>Title VII (including PDA), 42 U.S.C.  § 2000e</td>\n",
       "      <td>[Affected Race(s), Discrimination Area, Discri...</td>\n",
       "      <td>[Black, Direct Suit on Merits, Disparate Treat...</td>\n",
       "    </tr>\n",
       "    <tr>\n",
       "      <th>4</th>\n",
       "      <td>10082</td>\n",
       "      <td>Shorter v. DC</td>\n",
       "      <td>Coding Complete</td>\n",
       "      <td>District of Columbia</td>\n",
       "      <td>District of District of Columbia</td>\n",
       "      <td>Policing</td>\n",
       "      <td>No</td>\n",
       "      <td>NaN</td>\n",
       "      <td>42 U.S.C. § 1983</td>\n",
       "      <td>[Disability and Disability Rights, Discriminat...</td>\n",
       "      <td>[Disability (inc. reasonable accommodations), ...</td>\n",
       "    </tr>\n",
       "  </tbody>\n",
       "</table>\n",
       "</div>"
      ],
      "text/plain": [
       "   case_id                                    case_name      case_status  \\\n",
       "0     8429         EEOC v. EADS AEROFRAME SERVICES, LLC  Coding Complete   \n",
       "1     9719                    Regan v. Salt Lake County  Coding Complete   \n",
       "2    18526  Kerrigan v. Philadelphia Board of Elections  Coding Complete   \n",
       "3     6263                 EEOC v. TRANSIT MIX CONCRETE  Coding Complete   \n",
       "4    10082                                Shorter v. DC  Coding Complete   \n",
       "\n",
       "             case_state                        court_name          case_type  \\\n",
       "0             Louisiana     Western District of Louisiana   Equal Employment   \n",
       "1                  Utah                  District of Utah    Jail Conditions   \n",
       "2          Pennsylvania  Eastern District of Pennsylvania  Disability Rights   \n",
       "3                 Texas        Northern District of Texas   Equal Employment   \n",
       "4  District of Columbia  District of District of Columbia           Policing   \n",
       "\n",
       "  case_ongoing                           case_special_collections  \\\n",
       "0           No   EEOC Study — in sample, Multi-LexSum (in sample)   \n",
       "1           No                                 Strip Search Cases   \n",
       "2           No                                                NaN   \n",
       "3           No  EEOC Study — in sample, IWPR/Wage Project Cons...   \n",
       "4           No                                                NaN   \n",
       "\n",
       "                               case_causes_of_action  \\\n",
       "0      Title VII (including PDA), 42 U.S.C.  § 2000e   \n",
       "1                                   42 U.S.C. § 1983   \n",
       "2  Americans with Disabilities Act (ADA), 42 U.S....   \n",
       "3      Title VII (including PDA), 42 U.S.C.  § 2000e   \n",
       "4                                   42 U.S.C. § 1983   \n",
       "\n",
       "                                      issue_category  \\\n",
       "0  [Affected National Origin/Ethnicity(s), Affect...   \n",
       "1  [Affected Sex/Gender(s), Discrimination Basis,...   \n",
       "2  [Disability and Disability Rights, Discriminat...   \n",
       "3  [Affected Race(s), Discrimination Area, Discri...   \n",
       "4  [Disability and Disability Rights, Discriminat...   \n",
       "\n",
       "                                              issues  \n",
       "0  [Black, Conditions of Employment (including as...  \n",
       "1  [Female, Search policies, Sex discrimination, ...  \n",
       "2  [Disability (inc. reasonable accommodations), ...  \n",
       "3  [Black, Direct Suit on Merits, Disparate Treat...  \n",
       "4  [Disability (inc. reasonable accommodations), ...  "
      ]
     },
     "metadata": {},
     "output_type": "display_data"
    }
   ],
   "source": [
    "result = result[['case_id', 'case_name', 'case_status', 'case_state', 'court_name',\n",
    "       'case_type', 'case_ongoing', 'case_special_collections',\n",
    "       'case_causes_of_action', 'issue_category', 'issues']]\n",
    "result.head()"
   ]
  },
  {
   "cell_type": "markdown",
   "id": "4349322c",
   "metadata": {},
   "source": [
    "## Save the result df for future use"
   ]
  },
  {
   "cell_type": "code",
   "execution_count": null,
   "id": "e6f329a4",
   "metadata": {},
   "outputs": [],
   "source": [
    "result.to_json(\"data/clean.json\")"
   ]
  },
  {
   "cell_type": "markdown",
   "id": "92e24aee",
   "metadata": {},
   "source": [
    "## Do some EDA on the result df"
   ]
  },
  {
   "cell_type": "code",
   "execution_count": null,
   "id": "d4219e2d",
   "metadata": {},
   "outputs": [],
   "source": [
    "cols = [\"case_state\", \"court_name\", \"case_type\", \"case_ongoing\", \"case_special_collections\"]"
   ]
  },
  {
   "cell_type": "code",
   "execution_count": null,
   "id": "c3c5b26d",
   "metadata": {},
   "outputs": [
    {
     "name": "stdout",
     "output_type": "stream",
     "text": [
      "--- case_state ---\n"
     ]
    },
    {
     "data": {
      "text/plain": [
       "57"
      ]
     },
     "metadata": {},
     "output_type": "display_data"
    },
    {
     "data": {
      "text/plain": [
       "case_state\n",
       "California                      1064\n",
       "New York                         826\n",
       "Texas                            675\n",
       "District of Columbia             620\n",
       "Illinois                         549\n",
       "Pennsylvania                     399\n",
       "Michigan                         393\n",
       "Florida                          386\n",
       "Alabama                          294\n",
       "Georgia                          283\n",
       "Louisiana                        276\n",
       "Washington                       254\n",
       "Tennessee                        247\n",
       "Maryland                         247\n",
       "Arizona                          244\n",
       "Ohio                             231\n",
       "North Carolina                   224\n",
       "Missouri                         218\n",
       "Massachusetts                    209\n",
       "Virginia                         201\n",
       "Indiana                          199\n",
       "New Jersey                       186\n",
       "Colorado                         185\n",
       "Mississippi                      168\n",
       "Minnesota                        133\n",
       "Arkansas                         131\n",
       "Oklahoma                         122\n",
       "Wisconsin                        115\n",
       "Connecticut                      106\n",
       "Oregon                           105\n",
       "Kentucky                         105\n",
       "New Mexico                        97\n",
       "South Carolina                    94\n",
       "Idaho                             82\n",
       "Nevada                            78\n",
       "Iowa                              77\n",
       "Kansas                            70\n",
       "Utah                              57\n",
       "Montana                           55\n",
       "Hawaii                            55\n",
       "Nebraska                          51\n",
       "West Virginia                     48\n",
       "Delaware                          47\n",
       "Rhode Island                      46\n",
       "Maine                             43\n",
       "Alaska                            41\n",
       "New Hampshire                     40\n",
       "South Dakota                      39\n",
       "Vermont                           26\n",
       "Wyoming                           26\n",
       "North Dakota                      23\n",
       "Puerto Rico                       23\n",
       "Northern Mariana Islands          13\n",
       "Virgin Islands                    10\n",
       "Guam                               7\n",
       "- United States (national) -       4\n",
       "Other                              1\n",
       "Name: count, dtype: int64"
      ]
     },
     "metadata": {},
     "output_type": "display_data"
    },
    {
     "name": "stdout",
     "output_type": "stream",
     "text": [
      "--- court_name ---\n"
     ]
    },
    {
     "data": {
      "text/plain": [
       "193"
      ]
     },
     "metadata": {},
     "output_type": "display_data"
    },
    {
     "data": {
      "text/plain": [
       "court_name\n",
       "District of District of Columbia                 504\n",
       "Northern District of Illinois                    442\n",
       "Southern District of New York                    438\n",
       "Northern District of California                  432\n",
       "No Court                                         329\n",
       "                                                ... \n",
       "West Virginia state appellate court                1\n",
       "U.S. Court of Appeals for the Seventh Circuit      1\n",
       "Washington state supreme court                     1\n",
       "Maryland state trial court                         1\n",
       "Supreme Court of the United States                 1\n",
       "Name: count, Length: 193, dtype: int64"
      ]
     },
     "metadata": {},
     "output_type": "display_data"
    },
    {
     "name": "stdout",
     "output_type": "stream",
     "text": [
      "--- case_type ---\n"
     ]
    },
    {
     "data": {
      "text/plain": [
       "27"
      ]
     },
     "metadata": {},
     "output_type": "display_data"
    },
    {
     "data": {
      "text/plain": [
       "case_type\n",
       "Equal Employment                             3141\n",
       "Prison Conditions                            1088\n",
       "Immigration and/or the Border                 886\n",
       "Jail Conditions                               820\n",
       "Election/Voting Rights                        792\n",
       "Disability Rights                             459\n",
       "Public Benefits/Government Services           452\n",
       "Policing                                      408\n",
       "Criminal Justice (Other)                      323\n",
       "Education                                     298\n",
       "Speech and Religious Freedom                  284\n",
       "Healthcare Access and Reproductive Issues     265\n",
       "National Security                             245\n",
       "Fair Housing/Lending/Insurance                224\n",
       "Juvenile Institution                          205\n",
       "Presidential/Gubernatorial Authority          127\n",
       "Intellectual Disability (Facility)            107\n",
       "School Desegregation                           89\n",
       "Child Welfare                                  85\n",
       "Mental Health (Facility)                       71\n",
       "Indigent Defense                               57\n",
       "Public Accommodations/Contracting              38\n",
       "Nursing Home Conditions                        28\n",
       "Public Housing                                 27\n",
       "Environmental Justice                          24\n",
       "Labor Rights                                    4\n",
       "Reparations                                     2\n",
       "Name: count, dtype: int64"
      ]
     },
     "metadata": {},
     "output_type": "display_data"
    },
    {
     "name": "stdout",
     "output_type": "stream",
     "text": [
      "--- case_ongoing ---\n"
     ]
    },
    {
     "data": {
      "text/plain": [
       "5"
      ]
     },
     "metadata": {},
     "output_type": "display_data"
    },
    {
     "data": {
      "text/plain": [
       "case_ongoing\n",
       "No                           7611\n",
       "Yes                          2231\n",
       "No reason to think so         550\n",
       "Perhaps, but long-dormant     100\n",
       "Unknown                        57\n",
       "Name: count, dtype: int64"
      ]
     },
     "metadata": {},
     "output_type": "display_data"
    },
    {
     "name": "stdout",
     "output_type": "stream",
     "text": [
      "--- case_special_collections ---\n"
     ]
    },
    {
     "data": {
      "text/plain": [
       "270"
      ]
     },
     "metadata": {},
     "output_type": "display_data"
    },
    {
     "data": {
      "text/plain": [
       "case_special_collections\n",
       "Multi-LexSum (in sample)                                                                                                                                                                                                                                      1659\n",
       "EEOC Study — in sample                                                                                                                                                                                                                                        1057\n",
       "EEOC Study — in sample, Multi-LexSum (in sample)                                                                                                                                                                                                               885\n",
       "Law Firm Antiracism Alliance (LFAA) project                                                                                                                                                                                                                    324\n",
       "EEOC Study — in sample, IWPR/Wage Project Consent Decree Study, Multi-LexSum (in sample)                                                                                                                                                                       235\n",
       "                                                                                                                                                                                                                                                              ... \n",
       "Immigrant Detention Labor Issues                                                                                                                                                                                                                                 1\n",
       "Trump 1.0 & 2.0 Immigration Enforcement Order Challenges, Trump Administration 2.0: Challenges to the Government, Trump Administration 2.0: Challenges to the Government, Trump Administration 2.0: Litigation and Investigations Involving the Government       1\n",
       "Immigrant Detention Labor Issues, COVID-19 (novel coronavirus), Multi-LexSum (in sample)                                                                                                                                                                         1\n",
       "Foreign Intelligence Surveillance Act -- All Matters, Foreign Intelligence Surveillance Act—Internet Metadata, Foreign Intelligence Surveillance Act—Foreign Targeting (702, 703, 704), Multi-LexSum (in sample)                                                 1\n",
       "Foreign Intelligence Surveillance Act -- All Matters, Foreign Intelligence Surveillance Act—Foreign Targeting (702, 703, 704), Criminal cases challenging FISA surveillance                                                                                      1\n",
       "Name: count, Length: 270, dtype: int64"
      ]
     },
     "metadata": {},
     "output_type": "display_data"
    }
   ],
   "source": [
    "for col in cols:\n",
    "    print(\"---\", col, \"---\")\n",
    "    display(result[col].nunique())\n",
    "    display(result[col].value_counts())"
   ]
  },
  {
   "cell_type": "code",
   "execution_count": null,
   "id": "d8e1161d",
   "metadata": {},
   "outputs": [
    {
     "data": {
      "text/plain": [
       "(10549, 22)"
      ]
     },
     "metadata": {},
     "output_type": "display_data"
    }
   ],
   "source": [
    "mlb = MultiLabelBinarizer()\n",
    "binary_matrix = mlb.fit_transform(result['issue_category'].to_list())\n",
    "binary_matrix.shape"
   ]
  },
  {
   "cell_type": "code",
   "execution_count": null,
   "id": "7a650e36",
   "metadata": {},
   "outputs": [
    {
     "data": {
      "text/plain": [
       "General/Misc.                                                6342\n",
       "Discrimination Basis                                         5202\n",
       "Discrimination Area                                          4175\n",
       "EEOC-centric                                                 2542\n",
       "Affected Sex/Gender(s)                                       2454\n",
       "Jails, Prisons, Detention Centers, and Other Institutions    2325\n",
       "Affected Race(s)                                             1362\n",
       "Disability and Disability Rights                             1300\n",
       "Medical/Mental Health Care                                   1256\n",
       "Immigration/Border                                            929\n",
       "Voting                                                        826\n",
       "Affected National Origin/Ethnicity(s)                         598\n",
       "Policing                                                      562\n",
       "Reproductive rights                                           463\n",
       "LGBTQ+                                                        417\n",
       "Benefits (Source)                                             313\n",
       "COVID-19                                                      252\n",
       "Presidential/Gubernatorial Authority                           94\n",
       "Affected Language(s)                                           77\n",
       "Death Penalty                                                  58\n",
       "Environmental Justice and Resources                            20\n",
       "Affected Religion(s)                                           18\n",
       "dtype: int64"
      ]
     },
     "metadata": {},
     "output_type": "display_data"
    }
   ],
   "source": [
    "category_df = pd.DataFrame(binary_matrix, columns=mlb.classes_)\n",
    "category_df.sum().sort_values(ascending=False)"
   ]
  },
  {
   "cell_type": "code",
   "execution_count": null,
   "id": "9156f921",
   "metadata": {},
   "outputs": [
    {
     "data": {
      "text/plain": [
       "(10549, 403)"
      ]
     },
     "metadata": {},
     "output_type": "display_data"
    }
   ],
   "source": [
    "mlb = MultiLabelBinarizer()\n",
    "binary_matrix = mlb.fit_transform(result['issues'].to_list())\n",
    "binary_matrix.shape"
   ]
  },
  {
   "cell_type": "code",
   "execution_count": null,
   "id": "d33deb8f",
   "metadata": {},
   "outputs": [
    {
     "data": {
      "text/plain": [
       "Disparate Treatment                                          3377\n",
       "Direct Suit on Merits                                        2468\n",
       "Female                                                       1961\n",
       "Sex discrimination                                           1657\n",
       "Race discrimination                                          1563\n",
       "                                                             ... \n",
       "Currency                                                        1\n",
       "Catholicism                                                     1\n",
       "Buddhism                                                        1\n",
       "Underground Storage Tank (UST) leakage                          1\n",
       "Local / state enforcement of immigration laws (duplicate)       1\n",
       "Length: 403, dtype: int64"
      ]
     },
     "metadata": {},
     "output_type": "display_data"
    }
   ],
   "source": [
    "issues_df = pd.DataFrame(binary_matrix, columns=mlb.classes_)\n",
    "issues_df.sum().sort_values(ascending=False)"
   ]
  },
  {
   "cell_type": "code",
   "execution_count": null,
   "id": "6a4a30ad",
   "metadata": {},
   "outputs": [
    {
     "data": {
      "text/plain": [
       "Disparate Treatment                                                                           3377\n",
       "Direct Suit on Merits                                                                         2468\n",
       "Female                                                                                        1961\n",
       "Sex discrimination                                                                            1657\n",
       "Race discrimination                                                                           1563\n",
       "Discharge / Constructive Discharge / Layoff                                                   1256\n",
       "Harassment / Hostile Work Environment                                                         1142\n",
       "Disability (inc. reasonable accommodations)                                                   1090\n",
       "Black                                                                                         1084\n",
       "Retaliation                                                                                    879\n",
       "Pattern or Practice                                                                            858\n",
       "Male                                                                                           829\n",
       "Conditions of confinement                                                                      813\n",
       "Medical care, general                                                                          804\n",
       "Private Party intervened in EEOC suit                                                          731\n",
       "Sanitation / living conditions                                                                 698\n",
       "Staff (number, training, qualifications, wages)                                                664\n",
       "Classification / placement                                                                     646\n",
       "Conditions of Employment (including assignment, transfer, hours, working conditions, etc.)     631\n",
       "Voting: General & Misc.                                                                        612\n",
       "Mental health care, general                                                                    580\n",
       "National origin discrimination                                                                 571\n",
       "Totality of conditions                                                                         547\n",
       "Hiring                                                                                         543\n",
       "Crowding (General)                                                                             532\n",
       "Access to lawyers or judicial system                                                           518\n",
       "Education                                                                                      497\n",
       "Search policies                                                                                491\n",
       "Disparate Impact                                                                               490\n",
       "Religion discrimination                                                                        469\n",
       "Pay / Benefits                                                                                 464\n",
       "Assault/abuse by staff (facilities)                                                            452\n",
       "Records Disclosure                                                                             450\n",
       "Disability, unspecified                                                                        449\n",
       "Mental impairment                                                                              437\n",
       "Constitutional rights                                                                          433\n",
       "Record-keeping                                                                                 421\n",
       "LGBTQ+                                                                                         415\n",
       "Disciplinary procedures                                                                        412\n",
       "Failure to train                                                                               411\n",
       "Promotion                                                                                      399\n",
       "dtype: int64"
      ]
     },
     "metadata": {},
     "output_type": "display_data"
    }
   ],
   "source": [
    "issues_counts = issues_df.sum()\n",
    "\n",
    "threshold = issues_counts.quantile(0.90)\n",
    "issues = issues_counts[issues_counts >= threshold]\n",
    "issues.sort_values(ascending=False)"
   ]
  }
 ],
 "metadata": {
  "kernelspec": {
   "display_name": "Python 3 (ipykernel)",
   "language": "python",
   "name": "python3"
  },
  "language_info": {
   "codemirror_mode": {
    "name": "ipython",
    "version": 3
   },
   "file_extension": ".py",
   "mimetype": "text/x-python",
   "name": "python",
   "nbconvert_exporter": "python",
   "pygments_lexer": "ipython3",
   "version": "3.11.11"
  }
 },
 "nbformat": 4,
 "nbformat_minor": 5
}
