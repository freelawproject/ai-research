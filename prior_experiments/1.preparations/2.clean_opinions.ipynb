{
 "cells": [
  {
   "cell_type": "markdown",
   "id": "fd187773-c163-4419-9552-a4ac2a9e47d7",
   "metadata": {},
   "source": [
    "# Use a helper function to clean all opinions, get word counts, and save the cleaned opinions for future use"
   ]
  },
  {
   "cell_type": "markdown",
   "id": "a00f1072-da18-46bd-8c45-4b0aba99d209",
   "metadata": {},
   "source": [
    "# Import libraries"
   ]
  },
  {
   "cell_type": "code",
   "execution_count": 1,
   "id": "49f846f0-b553-40e9-ab09-5160477463dc",
   "metadata": {},
   "outputs": [],
   "source": [
    "import ast\n",
    "import pandas as pd\n",
    "\n",
    "from cl_utils import clean_opinions_df"
   ]
  },
  {
   "cell_type": "markdown",
   "id": "41c2cd2c-1b9f-4171-be0a-1ee5d42aa40f",
   "metadata": {},
   "source": [
    "# Load the data"
   ]
  },
  {
   "cell_type": "code",
   "execution_count": 2,
   "id": "835c385f-707d-4637-931e-0554ad13d4e3",
   "metadata": {},
   "outputs": [
    {
     "data": {
      "text/plain": [
       "133"
      ]
     },
     "execution_count": 2,
     "metadata": {},
     "output_type": "execute_result"
    }
   ],
   "source": [
    "df = pd.read_csv(\"data/opinion_dataset.csv\")\n",
    "len(df)"
   ]
  },
  {
   "cell_type": "markdown",
   "id": "94af7c76-0b71-4536-92b0-392683d6957e",
   "metadata": {},
   "source": [
    "# Process the opinions"
   ]
  },
  {
   "cell_type": "code",
   "execution_count": 3,
   "id": "8d3630d1-8694-4f6b-8146-96838dbbba64",
   "metadata": {
    "scrolled": true
   },
   "outputs": [
    {
     "data": {
      "text/html": [
       "<div>\n",
       "<style scoped>\n",
       "    .dataframe tbody tr th:only-of-type {\n",
       "        vertical-align: middle;\n",
       "    }\n",
       "\n",
       "    .dataframe tbody tr th {\n",
       "        vertical-align: top;\n",
       "    }\n",
       "\n",
       "    .dataframe thead th {\n",
       "        text-align: right;\n",
       "    }\n",
       "</style>\n",
       "<table border=\"1\" class=\"dataframe\">\n",
       "  <thead>\n",
       "    <tr style=\"text-align: right;\">\n",
       "      <th></th>\n",
       "      <th>citing_opinion_id</th>\n",
       "      <th>court</th>\n",
       "      <th>docket_id</th>\n",
       "      <th>cluster_id</th>\n",
       "      <th>opinion_types</th>\n",
       "      <th>opinion_sources</th>\n",
       "      <th>word_counts</th>\n",
       "      <th>combined_word_counts</th>\n",
       "    </tr>\n",
       "  </thead>\n",
       "  <tbody>\n",
       "    <tr>\n",
       "      <th>0</th>\n",
       "      <td>91306</td>\n",
       "      <td>scotus</td>\n",
       "      <td>2297559</td>\n",
       "      <td>91306</td>\n",
       "      <td>['010combined']</td>\n",
       "      <td>['html_with_citations']</td>\n",
       "      <td>[6412]</td>\n",
       "      <td>6412.0</td>\n",
       "    </tr>\n",
       "    <tr>\n",
       "      <th>1</th>\n",
       "      <td>92059</td>\n",
       "      <td>scotus</td>\n",
       "      <td>96842</td>\n",
       "      <td>92059</td>\n",
       "      <td>['040dissent', '030concurrence', '020lead', '0...</td>\n",
       "      <td>['xml_harvard', 'xml_harvard', 'xml_harvard', ...</td>\n",
       "      <td>[2554, 827, 8998, 12505]</td>\n",
       "      <td>12505.0</td>\n",
       "    </tr>\n",
       "    <tr>\n",
       "      <th>2</th>\n",
       "      <td>92291</td>\n",
       "      <td>scotus</td>\n",
       "      <td>2449371</td>\n",
       "      <td>92291</td>\n",
       "      <td>['010combined']</td>\n",
       "      <td>['html_with_citations']</td>\n",
       "      <td>[3094]</td>\n",
       "      <td>3094.0</td>\n",
       "    </tr>\n",
       "    <tr>\n",
       "      <th>3</th>\n",
       "      <td>93311</td>\n",
       "      <td>scotus</td>\n",
       "      <td>2397685</td>\n",
       "      <td>93311</td>\n",
       "      <td>['010combined']</td>\n",
       "      <td>['html_with_citations']</td>\n",
       "      <td>[9048]</td>\n",
       "      <td>9048.0</td>\n",
       "    </tr>\n",
       "    <tr>\n",
       "      <th>4</th>\n",
       "      <td>93904</td>\n",
       "      <td>scotus</td>\n",
       "      <td>229746</td>\n",
       "      <td>93904</td>\n",
       "      <td>['010combined']</td>\n",
       "      <td>['html_with_citations']</td>\n",
       "      <td>[1675]</td>\n",
       "      <td>1675.0</td>\n",
       "    </tr>\n",
       "  </tbody>\n",
       "</table>\n",
       "</div>"
      ],
      "text/plain": [
       "   citing_opinion_id   court  docket_id  cluster_id  \\\n",
       "0              91306  scotus    2297559       91306   \n",
       "1              92059  scotus      96842       92059   \n",
       "2              92291  scotus    2449371       92291   \n",
       "3              93311  scotus    2397685       93311   \n",
       "4              93904  scotus     229746       93904   \n",
       "\n",
       "                                       opinion_types  \\\n",
       "0                                    ['010combined']   \n",
       "1  ['040dissent', '030concurrence', '020lead', '0...   \n",
       "2                                    ['010combined']   \n",
       "3                                    ['010combined']   \n",
       "4                                    ['010combined']   \n",
       "\n",
       "                                     opinion_sources  \\\n",
       "0                            ['html_with_citations']   \n",
       "1  ['xml_harvard', 'xml_harvard', 'xml_harvard', ...   \n",
       "2                            ['html_with_citations']   \n",
       "3                            ['html_with_citations']   \n",
       "4                            ['html_with_citations']   \n",
       "\n",
       "                word_counts  combined_word_counts  \n",
       "0                    [6412]                6412.0  \n",
       "1  [2554, 827, 8998, 12505]               12505.0  \n",
       "2                    [3094]                3094.0  \n",
       "3                    [9048]                9048.0  \n",
       "4                    [1675]                1675.0  "
      ]
     },
     "execution_count": 3,
     "metadata": {},
     "output_type": "execute_result"
    }
   ],
   "source": [
    "df = clean_opinions_df(df)\n",
    "df.head()"
   ]
  },
  {
   "cell_type": "markdown",
   "id": "fff6a1c1-f797-4fea-b40d-6f2aa027ca92",
   "metadata": {},
   "source": [
    "# Take a look at the distribution of combined_word_counts"
   ]
  },
  {
   "cell_type": "code",
   "execution_count": 4,
   "id": "86d388f1-1a4b-4822-b99d-cf7b59001f49",
   "metadata": {
    "scrolled": true
   },
   "outputs": [
    {
     "data": {
      "text/plain": [
       "count      133.000000\n",
       "mean      9754.270677\n",
       "std       7706.471770\n",
       "min         91.000000\n",
       "25%       4697.000000\n",
       "50%       8300.000000\n",
       "75%      12194.000000\n",
       "max      50275.000000\n",
       "Name: combined_word_counts, dtype: float64"
      ]
     },
     "execution_count": 4,
     "metadata": {},
     "output_type": "execute_result"
    }
   ],
   "source": [
    "df[\"combined_word_counts\"].describe()"
   ]
  },
  {
   "cell_type": "markdown",
   "id": "bcbe2428-8670-4ea3-ad4d-2d9d4d885ed3",
   "metadata": {},
   "source": [
    "Given the word counts, assuming 2-3 tokens per word, majority of the opinions can be directly fed into the model as input (without having to extract the excerpts)."
   ]
  },
  {
   "cell_type": "markdown",
   "id": "799c27a5-bdde-40aa-8f35-49eb8865bd1e",
   "metadata": {},
   "source": [
    "# Save the df for future use"
   ]
  },
  {
   "cell_type": "code",
   "execution_count": 5,
   "id": "1667a230-97ba-460e-a026-544735c0e4fd",
   "metadata": {},
   "outputs": [],
   "source": [
    "df.to_csv(\"data/opinion_word_count.csv\", index=False)"
   ]
  },
  {
   "cell_type": "code",
   "execution_count": 6,
   "id": "f575a70e-2fdf-4989-94d1-7b89ecee51cf",
   "metadata": {},
   "outputs": [],
   "source": [
    "assert df.isna().sum().sum() == 0"
   ]
  }
 ],
 "metadata": {
  "kernelspec": {
   "display_name": "Python 3 (ipykernel)",
   "language": "python",
   "name": "python3"
  },
  "language_info": {
   "codemirror_mode": {
    "name": "ipython",
    "version": 3
   },
   "file_extension": ".py",
   "mimetype": "text/x-python",
   "name": "python",
   "nbconvert_exporter": "python",
   "pygments_lexer": "ipython3",
   "version": "3.10.16"
  }
 },
 "nbformat": 4,
 "nbformat_minor": 5
}
