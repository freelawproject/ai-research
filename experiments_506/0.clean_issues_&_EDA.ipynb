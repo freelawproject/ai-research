{
 "cells": [
  {
   "cell_type": "markdown",
   "id": "01e5538c-1ce3-4aab-9c14-334a25f91b9f",
   "metadata": {},
   "source": [
    "# Clean Issues Query Dataset\n",
    "\n",
    "The dataset \"042925_issues_query.csv\" is provided by clearinghouse through their internal SQL query. This dataset contains the case issue and issue category for each case. This notebook outlines the steps I undertook to clean this dataset for building the ML model to predict case issues/issue categories."
   ]
  },
  {
   "cell_type": "markdown",
   "id": "34e4540e-36e2-4d57-b627-90529d6f3b53",
   "metadata": {},
   "source": [
    "# Import Libraries"
   ]
  },
  {
   "cell_type": "code",
   "execution_count": null,
   "id": "1f398679-ca63-44da-9f4e-ed5058bace8a",
   "metadata": {},
   "outputs": [],
   "source": [
    "import json\n",
    "import pandas as pd"
   ]
  },
  {
   "cell_type": "markdown",
   "id": "feedaf97-a617-4c2b-812c-65fecba73c1f",
   "metadata": {},
   "source": [
    "# Load the dataset"
   ]
  },
  {
   "cell_type": "code",
   "execution_count": 2,
   "id": "ea996bfe-04d5-4a06-b0a2-cb25fbafd473",
   "metadata": {
    "scrolled": true
   },
   "outputs": [
    {
     "data": {
      "text/html": [
       "<div>\n",
       "<style scoped>\n",
       "    .dataframe tbody tr th:only-of-type {\n",
       "        vertical-align: middle;\n",
       "    }\n",
       "\n",
       "    .dataframe tbody tr th {\n",
       "        vertical-align: top;\n",
       "    }\n",
       "\n",
       "    .dataframe thead th {\n",
       "        text-align: right;\n",
       "    }\n",
       "</style>\n",
       "<table border=\"1\" class=\"dataframe\">\n",
       "  <thead>\n",
       "    <tr style=\"text-align: right;\">\n",
       "      <th></th>\n",
       "      <th>doc_id</th>\n",
       "      <th>case_id</th>\n",
       "      <th>case_issue</th>\n",
       "      <th>case_issue_info</th>\n",
       "    </tr>\n",
       "  </thead>\n",
       "  <tbody>\n",
       "    <tr>\n",
       "      <th>0</th>\n",
       "      <td>151963</td>\n",
       "      <td>45796</td>\n",
       "      <td>NaN</td>\n",
       "      <td>NaN</td>\n",
       "    </tr>\n",
       "    <tr>\n",
       "      <th>1</th>\n",
       "      <td>151946</td>\n",
       "      <td>43757</td>\n",
       "      <td>Candidate qualifications</td>\n",
       "      <td>{\"category\": \"Voting\", \"case_type\": \"VR\", \"des...</td>\n",
       "    </tr>\n",
       "    <tr>\n",
       "      <th>2</th>\n",
       "      <td>151968</td>\n",
       "      <td>43296</td>\n",
       "      <td>NaN</td>\n",
       "      <td>NaN</td>\n",
       "    </tr>\n",
       "    <tr>\n",
       "      <th>3</th>\n",
       "      <td>151053</td>\n",
       "      <td>45726</td>\n",
       "      <td>Disability (inc. reasonable accommodations)</td>\n",
       "      <td>{\"category\": \"Discrimination Basis\", \"case_typ...</td>\n",
       "    </tr>\n",
       "    <tr>\n",
       "      <th>4</th>\n",
       "      <td>115014</td>\n",
       "      <td>17099</td>\n",
       "      <td>Release Requested</td>\n",
       "      <td>{\"category\": \"COVID-19\", \"case_type\": \"CJ|IM|J...</td>\n",
       "    </tr>\n",
       "  </tbody>\n",
       "</table>\n",
       "</div>"
      ],
      "text/plain": [
       "   doc_id  case_id                                   case_issue  \\\n",
       "0  151963    45796                                          NaN   \n",
       "1  151946    43757                     Candidate qualifications   \n",
       "2  151968    43296                                          NaN   \n",
       "3  151053    45726  Disability (inc. reasonable accommodations)   \n",
       "4  115014    17099                            Release Requested   \n",
       "\n",
       "                                     case_issue_info  \n",
       "0                                                NaN  \n",
       "1  {\"category\": \"Voting\", \"case_type\": \"VR\", \"des...  \n",
       "2                                                NaN  \n",
       "3  {\"category\": \"Discrimination Basis\", \"case_typ...  \n",
       "4  {\"category\": \"COVID-19\", \"case_type\": \"CJ|IM|J...  "
      ]
     },
     "execution_count": 2,
     "metadata": {},
     "output_type": "execute_result"
    }
   ],
   "source": [
    "issues = pd.read_csv(\"data/042925_issues_query.csv\")\n",
    "issues.head()"
   ]
  },
  {
   "cell_type": "markdown",
   "id": "248250cb-b5bb-450b-a212-665d10d4253e",
   "metadata": {},
   "source": [
    "# Clean the dataset"
   ]
  },
  {
   "cell_type": "markdown",
   "id": "c1b5c621-3278-4db7-a90c-c19a845bab87",
   "metadata": {},
   "source": [
    "## The case_issue_info is in json format, parse it so we can separate out the issue category, case type, and description"
   ]
  },
  {
   "cell_type": "code",
   "execution_count": 3,
   "id": "cdbeb7c9-8375-4444-ac2d-eacba27b40cb",
   "metadata": {
    "scrolled": true
   },
   "outputs": [
    {
     "data": {
      "text/html": [
       "<div>\n",
       "<style scoped>\n",
       "    .dataframe tbody tr th:only-of-type {\n",
       "        vertical-align: middle;\n",
       "    }\n",
       "\n",
       "    .dataframe tbody tr th {\n",
       "        vertical-align: top;\n",
       "    }\n",
       "\n",
       "    .dataframe thead th {\n",
       "        text-align: right;\n",
       "    }\n",
       "</style>\n",
       "<table border=\"1\" class=\"dataframe\">\n",
       "  <thead>\n",
       "    <tr style=\"text-align: right;\">\n",
       "      <th></th>\n",
       "      <th>doc_id</th>\n",
       "      <th>case_id</th>\n",
       "      <th>case_issue</th>\n",
       "      <th>case_issue_info</th>\n",
       "      <th>category</th>\n",
       "      <th>case_type</th>\n",
       "      <th>description</th>\n",
       "    </tr>\n",
       "  </thead>\n",
       "  <tbody>\n",
       "    <tr>\n",
       "      <th>0</th>\n",
       "      <td>151963</td>\n",
       "      <td>45796</td>\n",
       "      <td>NaN</td>\n",
       "      <td>NaN</td>\n",
       "      <td>NaN</td>\n",
       "      <td>NaN</td>\n",
       "      <td>NaN</td>\n",
       "    </tr>\n",
       "    <tr>\n",
       "      <th>1</th>\n",
       "      <td>151946</td>\n",
       "      <td>43757</td>\n",
       "      <td>Candidate qualifications</td>\n",
       "      <td>{\"category\": \"Voting\", \"case_type\": \"VR\", \"des...</td>\n",
       "      <td>Voting</td>\n",
       "      <td>VR</td>\n",
       "      <td>None</td>\n",
       "    </tr>\n",
       "    <tr>\n",
       "      <th>2</th>\n",
       "      <td>151968</td>\n",
       "      <td>43296</td>\n",
       "      <td>NaN</td>\n",
       "      <td>NaN</td>\n",
       "      <td>NaN</td>\n",
       "      <td>NaN</td>\n",
       "      <td>NaN</td>\n",
       "    </tr>\n",
       "    <tr>\n",
       "      <th>3</th>\n",
       "      <td>151053</td>\n",
       "      <td>45726</td>\n",
       "      <td>Disability (inc. reasonable accommodations)</td>\n",
       "      <td>{\"category\": \"Discrimination Basis\", \"case_typ...</td>\n",
       "      <td>Discrimination Basis</td>\n",
       "      <td>CJ|CW|DR|EE|EJ|FA|FH|ID|IM|JC|JI|MH|NH|NS|PB|P...</td>\n",
       "      <td>None</td>\n",
       "    </tr>\n",
       "    <tr>\n",
       "      <th>4</th>\n",
       "      <td>115014</td>\n",
       "      <td>17099</td>\n",
       "      <td>Release Requested</td>\n",
       "      <td>{\"category\": \"COVID-19\", \"case_type\": \"CJ|IM|J...</td>\n",
       "      <td>COVID-19</td>\n",
       "      <td>CJ|IM|JC|JI|PN|PC|FA</td>\n",
       "      <td></td>\n",
       "    </tr>\n",
       "  </tbody>\n",
       "</table>\n",
       "</div>"
      ],
      "text/plain": [
       "   doc_id  case_id                                   case_issue  \\\n",
       "0  151963    45796                                          NaN   \n",
       "1  151946    43757                     Candidate qualifications   \n",
       "2  151968    43296                                          NaN   \n",
       "3  151053    45726  Disability (inc. reasonable accommodations)   \n",
       "4  115014    17099                            Release Requested   \n",
       "\n",
       "                                     case_issue_info              category  \\\n",
       "0                                                NaN                   NaN   \n",
       "1  {\"category\": \"Voting\", \"case_type\": \"VR\", \"des...                Voting   \n",
       "2                                                NaN                   NaN   \n",
       "3  {\"category\": \"Discrimination Basis\", \"case_typ...  Discrimination Basis   \n",
       "4  {\"category\": \"COVID-19\", \"case_type\": \"CJ|IM|J...              COVID-19   \n",
       "\n",
       "                                           case_type description  \n",
       "0                                                NaN         NaN  \n",
       "1                                                 VR        None  \n",
       "2                                                NaN         NaN  \n",
       "3  CJ|CW|DR|EE|EJ|FA|FH|ID|IM|JC|JI|MH|NH|NS|PB|P...        None  \n",
       "4                               CJ|IM|JC|JI|PN|PC|FA              "
      ]
     },
     "execution_count": 3,
     "metadata": {},
     "output_type": "execute_result"
    }
   ],
   "source": [
    "def parse_json_column(val):\n",
    "    if pd.isna(val) or val == '':\n",
    "        return {}\n",
    "    try:\n",
    "        return json.loads(val)\n",
    "    except (ValueError, SyntaxError):\n",
    "        return {}\n",
    "\n",
    "parsed = issues['case_issue_info'].apply(parse_json_column)\n",
    "expanded = pd.json_normalize(parsed)\n",
    "issues = issues.join(expanded[['category', 'case_type', 'description']])\n",
    "\n",
    "issues.head()"
   ]
  },
  {
   "cell_type": "code",
   "execution_count": 4,
   "id": "4b451ecb-43df-43f0-8e43-a8ba6b62ae40",
   "metadata": {},
   "outputs": [],
   "source": [
    "assert issues[\"case_issue_info\"].isna().sum() == issues[\"category\"].isna().sum()"
   ]
  },
  {
   "cell_type": "markdown",
   "id": "308e1051-7cac-4ded-813a-d422276ff2d8",
   "metadata": {},
   "source": [
    "## We do not care about case type and description, discard these along with the case_issue_info column as we already parsed it"
   ]
  },
  {
   "cell_type": "code",
   "execution_count": 5,
   "id": "027b855b-609e-4144-b71a-823098e63332",
   "metadata": {},
   "outputs": [],
   "source": [
    "issues = issues[[\"case_id\", \"doc_id\", \"case_issue\", \"category\"]]"
   ]
  },
  {
   "cell_type": "markdown",
   "id": "84b120c3-db63-479e-bc05-9ed61d05e500",
   "metadata": {},
   "source": [
    "## Get a better understanding of the relationship between doc_id and case_issue"
   ]
  },
  {
   "cell_type": "code",
   "execution_count": 6,
   "id": "1d1f6d0c-a05c-46ff-8927-06887878204d",
   "metadata": {
    "scrolled": true
   },
   "outputs": [
    {
     "data": {
      "text/html": [
       "<div>\n",
       "<style scoped>\n",
       "    .dataframe tbody tr th:only-of-type {\n",
       "        vertical-align: middle;\n",
       "    }\n",
       "\n",
       "    .dataframe tbody tr th {\n",
       "        vertical-align: top;\n",
       "    }\n",
       "\n",
       "    .dataframe thead th {\n",
       "        text-align: right;\n",
       "    }\n",
       "</style>\n",
       "<table border=\"1\" class=\"dataframe\">\n",
       "  <thead>\n",
       "    <tr style=\"text-align: right;\">\n",
       "      <th></th>\n",
       "      <th>case_id</th>\n",
       "      <th>doc_id</th>\n",
       "      <th>case_issue</th>\n",
       "      <th>category</th>\n",
       "    </tr>\n",
       "  </thead>\n",
       "  <tbody>\n",
       "    <tr>\n",
       "      <th>3</th>\n",
       "      <td>45726</td>\n",
       "      <td>151053</td>\n",
       "      <td>Disability (inc. reasonable accommodations)</td>\n",
       "      <td>Discrimination Basis</td>\n",
       "    </tr>\n",
       "    <tr>\n",
       "      <th>50287</th>\n",
       "      <td>45726</td>\n",
       "      <td>150793</td>\n",
       "      <td>Disability (inc. reasonable accommodations)</td>\n",
       "      <td>Discrimination Basis</td>\n",
       "    </tr>\n",
       "  </tbody>\n",
       "</table>\n",
       "</div>"
      ],
      "text/plain": [
       "       case_id  doc_id                                   case_issue  \\\n",
       "3        45726  151053  Disability (inc. reasonable accommodations)   \n",
       "50287    45726  150793  Disability (inc. reasonable accommodations)   \n",
       "\n",
       "                   category  \n",
       "3      Discrimination Basis  \n",
       "50287  Discrimination Basis  "
      ]
     },
     "execution_count": 6,
     "metadata": {},
     "output_type": "execute_result"
    }
   ],
   "source": [
    "issues[issues[\"case_id\"] == 45726]"
   ]
  },
  {
   "cell_type": "code",
   "execution_count": 7,
   "id": "e242f9da-e7b2-4673-939a-1a5ae664911a",
   "metadata": {
    "scrolled": true
   },
   "outputs": [
    {
     "data": {
      "text/html": [
       "<div>\n",
       "<style scoped>\n",
       "    .dataframe tbody tr th:only-of-type {\n",
       "        vertical-align: middle;\n",
       "    }\n",
       "\n",
       "    .dataframe tbody tr th {\n",
       "        vertical-align: top;\n",
       "    }\n",
       "\n",
       "    .dataframe thead th {\n",
       "        text-align: right;\n",
       "    }\n",
       "</style>\n",
       "<table border=\"1\" class=\"dataframe\">\n",
       "  <thead>\n",
       "    <tr style=\"text-align: right;\">\n",
       "      <th></th>\n",
       "      <th>case_id</th>\n",
       "      <th>doc_id</th>\n",
       "      <th>case_issue</th>\n",
       "      <th>category</th>\n",
       "    </tr>\n",
       "  </thead>\n",
       "  <tbody>\n",
       "    <tr>\n",
       "      <th>4</th>\n",
       "      <td>17099</td>\n",
       "      <td>115014</td>\n",
       "      <td>Release Requested</td>\n",
       "      <td>COVID-19</td>\n",
       "    </tr>\n",
       "    <tr>\n",
       "      <th>5</th>\n",
       "      <td>17099</td>\n",
       "      <td>115014</td>\n",
       "      <td>Release Denied</td>\n",
       "      <td>COVID-19</td>\n",
       "    </tr>\n",
       "    <tr>\n",
       "      <th>6</th>\n",
       "      <td>17099</td>\n",
       "      <td>115014</td>\n",
       "      <td>Mitigation Denied</td>\n",
       "      <td>COVID-19</td>\n",
       "    </tr>\n",
       "    <tr>\n",
       "      <th>7</th>\n",
       "      <td>17099</td>\n",
       "      <td>115014</td>\n",
       "      <td>Undocumented immigrants - rights and duties</td>\n",
       "      <td>Immigration/Border</td>\n",
       "    </tr>\n",
       "    <tr>\n",
       "      <th>8</th>\n",
       "      <td>17099</td>\n",
       "      <td>115014</td>\n",
       "      <td>Employment</td>\n",
       "      <td>Immigration/Border</td>\n",
       "    </tr>\n",
       "    <tr>\n",
       "      <th>...</th>\n",
       "      <td>...</td>\n",
       "      <td>...</td>\n",
       "      <td>...</td>\n",
       "      <td>...</td>\n",
       "    </tr>\n",
       "    <tr>\n",
       "      <th>573033</th>\n",
       "      <td>17099</td>\n",
       "      <td>105699</td>\n",
       "      <td>Language access/needs</td>\n",
       "      <td>General/Misc.</td>\n",
       "    </tr>\n",
       "    <tr>\n",
       "      <th>573034</th>\n",
       "      <td>17099</td>\n",
       "      <td>105699</td>\n",
       "      <td>Forced labor</td>\n",
       "      <td>General/Misc.</td>\n",
       "    </tr>\n",
       "    <tr>\n",
       "      <th>573035</th>\n",
       "      <td>17099</td>\n",
       "      <td>105699</td>\n",
       "      <td>Disciplinary segregation</td>\n",
       "      <td>Jails, Prisons, Detention Centers, and Other I...</td>\n",
       "    </tr>\n",
       "    <tr>\n",
       "      <th>573036</th>\n",
       "      <td>17099</td>\n",
       "      <td>105699</td>\n",
       "      <td>Conditions of confinement</td>\n",
       "      <td>General/Misc.</td>\n",
       "    </tr>\n",
       "    <tr>\n",
       "      <th>573037</th>\n",
       "      <td>17099</td>\n",
       "      <td>105699</td>\n",
       "      <td>Mitigation Requested</td>\n",
       "      <td>COVID-19</td>\n",
       "    </tr>\n",
       "  </tbody>\n",
       "</table>\n",
       "<p>375 rows × 4 columns</p>\n",
       "</div>"
      ],
      "text/plain": [
       "        case_id  doc_id                                   case_issue  \\\n",
       "4         17099  115014                            Release Requested   \n",
       "5         17099  115014                               Release Denied   \n",
       "6         17099  115014                            Mitigation Denied   \n",
       "7         17099  115014  Undocumented immigrants - rights and duties   \n",
       "8         17099  115014                                   Employment   \n",
       "...         ...     ...                                          ...   \n",
       "573033    17099  105699                        Language access/needs   \n",
       "573034    17099  105699                               Forced labor     \n",
       "573035    17099  105699                     Disciplinary segregation   \n",
       "573036    17099  105699                    Conditions of confinement   \n",
       "573037    17099  105699                         Mitigation Requested   \n",
       "\n",
       "                                                 category  \n",
       "4                                                COVID-19  \n",
       "5                                                COVID-19  \n",
       "6                                                COVID-19  \n",
       "7                                      Immigration/Border  \n",
       "8                                      Immigration/Border  \n",
       "...                                                   ...  \n",
       "573033                                      General/Misc.  \n",
       "573034                                      General/Misc.  \n",
       "573035  Jails, Prisons, Detention Centers, and Other I...  \n",
       "573036                                      General/Misc.  \n",
       "573037                                           COVID-19  \n",
       "\n",
       "[375 rows x 4 columns]"
      ]
     },
     "execution_count": 7,
     "metadata": {},
     "output_type": "execute_result"
    }
   ],
   "source": [
    "issues[issues[\"case_id\"] == 17099]"
   ]
  },
  {
   "cell_type": "markdown",
   "id": "4f3e1788-6143-4406-9359-dbb3052da28a",
   "metadata": {},
   "source": [
    "I sampled some docs from the sampled cases to review them and don't believe there is any relationship between the doc_id and the case_issue. The case_issue is attached to the case level, not specifically associated with a single document. The apparent one-to-one mapping between doc_id and case_issue is an artificat from the join. \n",
    "\n",
    "## Remove the doc_id since we want to focus on the issues at case level."
   ]
  },
  {
   "cell_type": "code",
   "execution_count": 8,
   "id": "fa2b45e1-e45e-4c95-b479-fa29f546f6e8",
   "metadata": {},
   "outputs": [],
   "source": [
    "issues = issues[[\"case_id\", \"case_issue\", \"category\"]]"
   ]
  },
  {
   "cell_type": "markdown",
   "id": "1534b8c4-c813-49dd-a71e-0fa5f05b8850",
   "metadata": {},
   "source": [
    "## Rename the category column to issue_category to avoid confusion"
   ]
  },
  {
   "cell_type": "code",
   "execution_count": 9,
   "id": "512e828b-6f51-4e1e-a776-87d3a450fec0",
   "metadata": {},
   "outputs": [],
   "source": [
    "issues.rename(columns={'category': 'issue_category'}, inplace=True)"
   ]
  },
  {
   "cell_type": "markdown",
   "id": "eff6100b-10d7-4fd3-8b67-fe64285b3247",
   "metadata": {},
   "source": [
    "## Drop any rows that don't contain case_issue or issue_category & remove duplicates"
   ]
  },
  {
   "cell_type": "code",
   "execution_count": 10,
   "id": "dceafbf2-04f5-43a8-a46e-84c7b6461062",
   "metadata": {},
   "outputs": [
    {
     "data": {
      "text/plain": [
       "786598"
      ]
     },
     "execution_count": 10,
     "metadata": {},
     "output_type": "execute_result"
    }
   ],
   "source": [
    "assert issues[\"case_issue\"].isna().sum() == issues[\"issue_category\"].isna().sum()\n",
    "len(issues)"
   ]
  },
  {
   "cell_type": "code",
   "execution_count": 11,
   "id": "d1d9276a-2979-4c74-a276-dac3d9443d76",
   "metadata": {},
   "outputs": [
    {
     "data": {
      "text/plain": [
       "67545"
      ]
     },
     "execution_count": 11,
     "metadata": {},
     "output_type": "execute_result"
    }
   ],
   "source": [
    "issues = issues[~issues[\"case_issue\"].isna()].drop_duplicates()\n",
    "len(issues)"
   ]
  },
  {
   "cell_type": "code",
   "execution_count": 12,
   "id": "0040b3be-5cf4-4cea-a4c5-0a82b13fca84",
   "metadata": {
    "scrolled": true
   },
   "outputs": [
    {
     "data": {
      "text/html": [
       "<div>\n",
       "<style scoped>\n",
       "    .dataframe tbody tr th:only-of-type {\n",
       "        vertical-align: middle;\n",
       "    }\n",
       "\n",
       "    .dataframe tbody tr th {\n",
       "        vertical-align: top;\n",
       "    }\n",
       "\n",
       "    .dataframe thead th {\n",
       "        text-align: right;\n",
       "    }\n",
       "</style>\n",
       "<table border=\"1\" class=\"dataframe\">\n",
       "  <thead>\n",
       "    <tr style=\"text-align: right;\">\n",
       "      <th></th>\n",
       "      <th>case_id</th>\n",
       "      <th>case_issue</th>\n",
       "      <th>issue_category</th>\n",
       "    </tr>\n",
       "  </thead>\n",
       "  <tbody>\n",
       "    <tr>\n",
       "      <th>1</th>\n",
       "      <td>43757</td>\n",
       "      <td>Candidate qualifications</td>\n",
       "      <td>Voting</td>\n",
       "    </tr>\n",
       "    <tr>\n",
       "      <th>3</th>\n",
       "      <td>45726</td>\n",
       "      <td>Disability (inc. reasonable accommodations)</td>\n",
       "      <td>Discrimination Basis</td>\n",
       "    </tr>\n",
       "    <tr>\n",
       "      <th>4</th>\n",
       "      <td>17099</td>\n",
       "      <td>Release Requested</td>\n",
       "      <td>COVID-19</td>\n",
       "    </tr>\n",
       "    <tr>\n",
       "      <th>5</th>\n",
       "      <td>17099</td>\n",
       "      <td>Release Denied</td>\n",
       "      <td>COVID-19</td>\n",
       "    </tr>\n",
       "    <tr>\n",
       "      <th>6</th>\n",
       "      <td>17099</td>\n",
       "      <td>Mitigation Denied</td>\n",
       "      <td>COVID-19</td>\n",
       "    </tr>\n",
       "  </tbody>\n",
       "</table>\n",
       "</div>"
      ],
      "text/plain": [
       "   case_id                                   case_issue        issue_category\n",
       "1    43757                     Candidate qualifications                Voting\n",
       "3    45726  Disability (inc. reasonable accommodations)  Discrimination Basis\n",
       "4    17099                            Release Requested              COVID-19\n",
       "5    17099                               Release Denied              COVID-19\n",
       "6    17099                            Mitigation Denied              COVID-19"
      ]
     },
     "execution_count": 12,
     "metadata": {},
     "output_type": "execute_result"
    }
   ],
   "source": [
    "issues.head()"
   ]
  },
  {
   "cell_type": "markdown",
   "id": "5027deef-b922-4053-8ce0-b8a0af07b8e6",
   "metadata": {},
   "source": [
    "## Do some preliminary EDA\n",
    "\n",
    "- ~12K unique cases\n",
    "- 405 unique issues, belonging to 22 issue categories\n",
    "- Some cases have as many as 42 issues, but most cases have fewer than 10 issues\n",
    "- Some cases have as many as 9 issue categories, but most cases have fewer than 5 issue categories"
   ]
  },
  {
   "cell_type": "code",
   "execution_count": 13,
   "id": "43ea52cd-5206-483b-997e-c5196c976033",
   "metadata": {},
   "outputs": [
    {
     "data": {
      "text/plain": [
       "11884"
      ]
     },
     "execution_count": 13,
     "metadata": {},
     "output_type": "execute_result"
    }
   ],
   "source": [
    "issues[\"case_id\"].nunique()"
   ]
  },
  {
   "cell_type": "code",
   "execution_count": 14,
   "id": "05549f09-c153-4e34-a98a-47ec37c0424b",
   "metadata": {},
   "outputs": [
    {
     "data": {
      "text/plain": [
       "405"
      ]
     },
     "execution_count": 14,
     "metadata": {},
     "output_type": "execute_result"
    }
   ],
   "source": [
    "issues[\"case_issue\"].nunique()"
   ]
  },
  {
   "cell_type": "code",
   "execution_count": 15,
   "id": "e20c4286-bd33-4a00-8e28-ae398682eeaa",
   "metadata": {},
   "outputs": [
    {
     "data": {
      "text/plain": [
       "22"
      ]
     },
     "execution_count": 15,
     "metadata": {},
     "output_type": "execute_result"
    }
   ],
   "source": [
    "issues[\"issue_category\"].nunique()"
   ]
  },
  {
   "cell_type": "code",
   "execution_count": 16,
   "id": "e4143ed9-2bd5-4b4a-81db-910ef4d35e7a",
   "metadata": {
    "scrolled": true
   },
   "outputs": [
    {
     "data": {
      "text/html": [
       "<div>\n",
       "<style scoped>\n",
       "    .dataframe tbody tr th:only-of-type {\n",
       "        vertical-align: middle;\n",
       "    }\n",
       "\n",
       "    .dataframe tbody tr th {\n",
       "        vertical-align: top;\n",
       "    }\n",
       "\n",
       "    .dataframe thead th {\n",
       "        text-align: right;\n",
       "    }\n",
       "</style>\n",
       "<table border=\"1\" class=\"dataframe\">\n",
       "  <thead>\n",
       "    <tr style=\"text-align: right;\">\n",
       "      <th></th>\n",
       "      <th>case_issue</th>\n",
       "    </tr>\n",
       "  </thead>\n",
       "  <tbody>\n",
       "    <tr>\n",
       "      <th>count</th>\n",
       "      <td>11884.000000</td>\n",
       "    </tr>\n",
       "    <tr>\n",
       "      <th>mean</th>\n",
       "      <td>5.681505</td>\n",
       "    </tr>\n",
       "    <tr>\n",
       "      <th>std</th>\n",
       "      <td>4.723344</td>\n",
       "    </tr>\n",
       "    <tr>\n",
       "      <th>min</th>\n",
       "      <td>1.000000</td>\n",
       "    </tr>\n",
       "    <tr>\n",
       "      <th>25%</th>\n",
       "      <td>2.000000</td>\n",
       "    </tr>\n",
       "    <tr>\n",
       "      <th>50%</th>\n",
       "      <td>5.000000</td>\n",
       "    </tr>\n",
       "    <tr>\n",
       "      <th>75%</th>\n",
       "      <td>7.000000</td>\n",
       "    </tr>\n",
       "    <tr>\n",
       "      <th>max</th>\n",
       "      <td>42.000000</td>\n",
       "    </tr>\n",
       "  </tbody>\n",
       "</table>\n",
       "</div>"
      ],
      "text/plain": [
       "         case_issue\n",
       "count  11884.000000\n",
       "mean       5.681505\n",
       "std        4.723344\n",
       "min        1.000000\n",
       "25%        2.000000\n",
       "50%        5.000000\n",
       "75%        7.000000\n",
       "max       42.000000"
      ]
     },
     "execution_count": 16,
     "metadata": {},
     "output_type": "execute_result"
    }
   ],
   "source": [
    "issues[[\"case_id\", \"case_issue\"]].groupby(\"case_id\").nunique().describe()"
   ]
  },
  {
   "cell_type": "code",
   "execution_count": 17,
   "id": "19e004a7-edb9-4b99-b4cb-373bf15730c8",
   "metadata": {
    "scrolled": true
   },
   "outputs": [
    {
     "data": {
      "text/html": [
       "<div>\n",
       "<style scoped>\n",
       "    .dataframe tbody tr th:only-of-type {\n",
       "        vertical-align: middle;\n",
       "    }\n",
       "\n",
       "    .dataframe tbody tr th {\n",
       "        vertical-align: top;\n",
       "    }\n",
       "\n",
       "    .dataframe thead th {\n",
       "        text-align: right;\n",
       "    }\n",
       "</style>\n",
       "<table border=\"1\" class=\"dataframe\">\n",
       "  <thead>\n",
       "    <tr style=\"text-align: right;\">\n",
       "      <th></th>\n",
       "      <th>issue_category</th>\n",
       "    </tr>\n",
       "  </thead>\n",
       "  <tbody>\n",
       "    <tr>\n",
       "      <th>count</th>\n",
       "      <td>11884.000000</td>\n",
       "    </tr>\n",
       "    <tr>\n",
       "      <th>mean</th>\n",
       "      <td>2.846096</td>\n",
       "    </tr>\n",
       "    <tr>\n",
       "      <th>std</th>\n",
       "      <td>1.506738</td>\n",
       "    </tr>\n",
       "    <tr>\n",
       "      <th>min</th>\n",
       "      <td>1.000000</td>\n",
       "    </tr>\n",
       "    <tr>\n",
       "      <th>25%</th>\n",
       "      <td>2.000000</td>\n",
       "    </tr>\n",
       "    <tr>\n",
       "      <th>50%</th>\n",
       "      <td>3.000000</td>\n",
       "    </tr>\n",
       "    <tr>\n",
       "      <th>75%</th>\n",
       "      <td>4.000000</td>\n",
       "    </tr>\n",
       "    <tr>\n",
       "      <th>max</th>\n",
       "      <td>9.000000</td>\n",
       "    </tr>\n",
       "  </tbody>\n",
       "</table>\n",
       "</div>"
      ],
      "text/plain": [
       "       issue_category\n",
       "count    11884.000000\n",
       "mean         2.846096\n",
       "std          1.506738\n",
       "min          1.000000\n",
       "25%          2.000000\n",
       "50%          3.000000\n",
       "75%          4.000000\n",
       "max          9.000000"
      ]
     },
     "execution_count": 17,
     "metadata": {},
     "output_type": "execute_result"
    }
   ],
   "source": [
    "issues[[\"case_id\", \"issue_category\"]].groupby(\"case_id\").nunique().describe()"
   ]
  },
  {
   "cell_type": "markdown",
   "id": "18a6c9e7-9c0a-4154-8420-30cb4cd35be4",
   "metadata": {},
   "source": [
    "## Most issues belong to only one category, with the exception of 4 issues, obtain an understanding of why"
   ]
  },
  {
   "cell_type": "code",
   "execution_count": 18,
   "id": "58083c49-36aa-4a4d-8ce3-08f0b370f013",
   "metadata": {},
   "outputs": [
    {
     "data": {
      "text/plain": [
       "case_issue\n",
       "Funding    2\n",
       "Other      3\n",
       "Spanish    2\n",
       "Testing    2\n",
       "Name: issue_category, dtype: int64"
      ]
     },
     "execution_count": 18,
     "metadata": {},
     "output_type": "execute_result"
    }
   ],
   "source": [
    "issue_category_counts = issues.groupby('case_issue')['issue_category'].nunique()\n",
    "issue_category_counts[issue_category_counts > 1]"
   ]
  },
  {
   "cell_type": "markdown",
   "id": "ce2cebaf-2353-41d8-94c2-b77d287fd4ac",
   "metadata": {
    "jp-MarkdownHeadingCollapsed": true
   },
   "source": [
    "## Issue == Funding"
   ]
  },
  {
   "cell_type": "code",
   "execution_count": 19,
   "id": "ae00be8f-bd6f-4fc3-a44e-6f58f9743c3c",
   "metadata": {},
   "outputs": [
    {
     "data": {
      "text/plain": [
       "issue_category\n",
       "General/Misc.          325\n",
       "Reproductive rights      2\n",
       "Name: count, dtype: int64"
      ]
     },
     "execution_count": 19,
     "metadata": {},
     "output_type": "execute_result"
    }
   ],
   "source": [
    "issues[issues[\"case_issue\"] == \"Funding\"][\"issue_category\"].value_counts()"
   ]
  },
  {
   "cell_type": "markdown",
   "id": "51850476-89c2-4fc4-8f9c-cba38d620281",
   "metadata": {},
   "source": [
    "Ideally, within one case, we should have a one-to-one match between issue and issue category, find out any cases that have multiple matches"
   ]
  },
  {
   "cell_type": "code",
   "execution_count": 20,
   "id": "4310d239-6ea4-44f2-b864-4f12d616db09",
   "metadata": {
    "scrolled": true
   },
   "outputs": [
    {
     "data": {
      "text/html": [
       "<div>\n",
       "<style scoped>\n",
       "    .dataframe tbody tr th:only-of-type {\n",
       "        vertical-align: middle;\n",
       "    }\n",
       "\n",
       "    .dataframe tbody tr th {\n",
       "        vertical-align: top;\n",
       "    }\n",
       "\n",
       "    .dataframe thead th {\n",
       "        text-align: right;\n",
       "    }\n",
       "</style>\n",
       "<table border=\"1\" class=\"dataframe\">\n",
       "  <thead>\n",
       "    <tr style=\"text-align: right;\">\n",
       "      <th></th>\n",
       "      <th>issue_category</th>\n",
       "    </tr>\n",
       "    <tr>\n",
       "      <th>case_id</th>\n",
       "      <th></th>\n",
       "    </tr>\n",
       "  </thead>\n",
       "  <tbody>\n",
       "    <tr>\n",
       "      <th>45997</th>\n",
       "      <td>2</td>\n",
       "    </tr>\n",
       "  </tbody>\n",
       "</table>\n",
       "</div>"
      ],
      "text/plain": [
       "         issue_category\n",
       "case_id                \n",
       "45997                 2"
      ]
     },
     "execution_count": 20,
     "metadata": {},
     "output_type": "execute_result"
    }
   ],
   "source": [
    "multi_match = issues[issues[\"case_issue\"] == \"Funding\"][[\"case_id\",\"issue_category\"]].groupby(\"case_id\").nunique()\n",
    "multi_match[multi_match[\"issue_category\"] > 1]"
   ]
  },
  {
   "cell_type": "code",
   "execution_count": 21,
   "id": "682c2c58-4251-44d8-b24b-4086a1fe1a84",
   "metadata": {
    "scrolled": true
   },
   "outputs": [
    {
     "data": {
      "text/html": [
       "<div>\n",
       "<style scoped>\n",
       "    .dataframe tbody tr th:only-of-type {\n",
       "        vertical-align: middle;\n",
       "    }\n",
       "\n",
       "    .dataframe tbody tr th {\n",
       "        vertical-align: top;\n",
       "    }\n",
       "\n",
       "    .dataframe thead th {\n",
       "        text-align: right;\n",
       "    }\n",
       "</style>\n",
       "<table border=\"1\" class=\"dataframe\">\n",
       "  <thead>\n",
       "    <tr style=\"text-align: right;\">\n",
       "      <th></th>\n",
       "      <th>case_id</th>\n",
       "      <th>case_issue</th>\n",
       "      <th>issue_category</th>\n",
       "    </tr>\n",
       "  </thead>\n",
       "  <tbody>\n",
       "    <tr>\n",
       "      <th>10548</th>\n",
       "      <td>45997</td>\n",
       "      <td>Funding</td>\n",
       "      <td>Reproductive rights</td>\n",
       "    </tr>\n",
       "    <tr>\n",
       "      <th>10554</th>\n",
       "      <td>45997</td>\n",
       "      <td>Funding</td>\n",
       "      <td>General/Misc.</td>\n",
       "    </tr>\n",
       "  </tbody>\n",
       "</table>\n",
       "</div>"
      ],
      "text/plain": [
       "       case_id case_issue       issue_category\n",
       "10548    45997    Funding  Reproductive rights\n",
       "10554    45997    Funding        General/Misc."
      ]
     },
     "execution_count": 21,
     "metadata": {},
     "output_type": "execute_result"
    }
   ],
   "source": [
    "issues[(issues[\"case_issue\"] == \"Funding\") & (issues[\"case_id\"] == 45997)]"
   ]
  },
  {
   "cell_type": "code",
   "execution_count": 22,
   "id": "0eb38fcf-6fea-4a81-a722-c2077a064a27",
   "metadata": {
    "scrolled": true
   },
   "outputs": [
    {
     "data": {
      "text/plain": [
       "case_issue\n",
       "Funding                        2\n",
       "Criminalization                1\n",
       "Complete abortion ban          1\n",
       "Abortion                       1\n",
       "Medical care, general          1\n",
       "EMTALA (42 U.S.C. § 1395dd)    1\n",
       "Name: count, dtype: int64"
      ]
     },
     "execution_count": 22,
     "metadata": {},
     "output_type": "execute_result"
    }
   ],
   "source": [
    "issues[issues[\"case_id\"] == 45997][\"case_issue\"].value_counts()"
   ]
  },
  {
   "cell_type": "code",
   "execution_count": 23,
   "id": "3c7d3218-c68d-4786-87c8-b1fb81f34133",
   "metadata": {
    "scrolled": true
   },
   "outputs": [
    {
     "data": {
      "text/plain": [
       "issue_category\n",
       "Reproductive rights           4\n",
       "Medical/Mental Health Care    1\n",
       "Benefits (Source)             1\n",
       "General/Misc.                 1\n",
       "Name: count, dtype: int64"
      ]
     },
     "execution_count": 23,
     "metadata": {},
     "output_type": "execute_result"
    }
   ],
   "source": [
    "issues[issues[\"case_id\"] == 45997][\"issue_category\"].value_counts()"
   ]
  },
  {
   "cell_type": "markdown",
   "id": "96090c6a-4824-48eb-a0dc-590572d2ef97",
   "metadata": {},
   "source": [
    "Case id 45997 appears to be mostly related to \"Reproductive rights\", for consistency, we'll drop \"General/Misc.\" issue category."
   ]
  },
  {
   "cell_type": "code",
   "execution_count": 24,
   "id": "8ccef7ca-b9c5-4c7c-ab78-bb4ad25e9a78",
   "metadata": {},
   "outputs": [],
   "source": [
    "issues.drop(10554, inplace=True)"
   ]
  },
  {
   "cell_type": "code",
   "execution_count": 25,
   "id": "60d8689c-b599-4118-8e64-92510b32ec2d",
   "metadata": {},
   "outputs": [],
   "source": [
    "multi_match = issues[issues[\"case_issue\"] == \"Funding\"][[\"case_id\",\"issue_category\"]].groupby(\"case_id\").nunique()\n",
    "assert len(multi_match[multi_match[\"issue_category\"] > 1]) == 0"
   ]
  },
  {
   "cell_type": "markdown",
   "id": "e26e1b83",
   "metadata": {
    "jp-MarkdownHeadingCollapsed": true
   },
   "source": [
    "## Issue == Spanish"
   ]
  },
  {
   "cell_type": "code",
   "execution_count": 26,
   "id": "1fabc25a",
   "metadata": {},
   "outputs": [
    {
     "data": {
      "text/plain": [
       "issue_category\n",
       "Affected Language(s)                     57\n",
       "Affected National Origin/Ethnicity(s)     5\n",
       "Name: count, dtype: int64"
      ]
     },
     "execution_count": 26,
     "metadata": {},
     "output_type": "execute_result"
    }
   ],
   "source": [
    "issues[issues[\"case_issue\"] == \"Spanish\"][\"issue_category\"].value_counts()"
   ]
  },
  {
   "cell_type": "markdown",
   "id": "9e64d7e9",
   "metadata": {},
   "source": [
    "Ideally, within one case, we should have a one-to-one match between issue and issue category, find out any cases that have multiple matches"
   ]
  },
  {
   "cell_type": "code",
   "execution_count": 27,
   "id": "0c3cde4b",
   "metadata": {},
   "outputs": [
    {
     "data": {
      "text/html": [
       "<div>\n",
       "<style scoped>\n",
       "    .dataframe tbody tr th:only-of-type {\n",
       "        vertical-align: middle;\n",
       "    }\n",
       "\n",
       "    .dataframe tbody tr th {\n",
       "        vertical-align: top;\n",
       "    }\n",
       "\n",
       "    .dataframe thead th {\n",
       "        text-align: right;\n",
       "    }\n",
       "</style>\n",
       "<table border=\"1\" class=\"dataframe\">\n",
       "  <thead>\n",
       "    <tr style=\"text-align: right;\">\n",
       "      <th></th>\n",
       "      <th>issue_category</th>\n",
       "    </tr>\n",
       "    <tr>\n",
       "      <th>case_id</th>\n",
       "      <th></th>\n",
       "    </tr>\n",
       "  </thead>\n",
       "  <tbody>\n",
       "  </tbody>\n",
       "</table>\n",
       "</div>"
      ],
      "text/plain": [
       "Empty DataFrame\n",
       "Columns: [issue_category]\n",
       "Index: []"
      ]
     },
     "execution_count": 27,
     "metadata": {},
     "output_type": "execute_result"
    }
   ],
   "source": [
    "multi_match = issues[issues[\"case_issue\"] == \"Spanish\"][[\"case_id\",\"issue_category\"]].groupby(\"case_id\").nunique()\n",
    "multi_match[multi_match[\"issue_category\"] > 1]"
   ]
  },
  {
   "cell_type": "markdown",
   "id": "89b92160",
   "metadata": {
    "jp-MarkdownHeadingCollapsed": true
   },
   "source": [
    "## Issue == Testing"
   ]
  },
  {
   "cell_type": "code",
   "execution_count": 28,
   "id": "85424d60",
   "metadata": {
    "scrolled": true
   },
   "outputs": [
    {
     "data": {
      "text/plain": [
       "issue_category\n",
       "Discrimination Area    88\n",
       "General/Misc.          45\n",
       "Name: count, dtype: int64"
      ]
     },
     "execution_count": 28,
     "metadata": {},
     "output_type": "execute_result"
    }
   ],
   "source": [
    "issues[issues[\"case_issue\"] == \"Testing\"][\"issue_category\"].value_counts()"
   ]
  },
  {
   "cell_type": "markdown",
   "id": "452e5a25",
   "metadata": {},
   "source": [
    "Ideally, within one case, we should have a one-to-one match between issue and issue category, find out any cases that have multiple matches"
   ]
  },
  {
   "cell_type": "code",
   "execution_count": 29,
   "id": "b7e20d9b",
   "metadata": {
    "scrolled": true
   },
   "outputs": [
    {
     "data": {
      "text/html": [
       "<div>\n",
       "<style scoped>\n",
       "    .dataframe tbody tr th:only-of-type {\n",
       "        vertical-align: middle;\n",
       "    }\n",
       "\n",
       "    .dataframe tbody tr th {\n",
       "        vertical-align: top;\n",
       "    }\n",
       "\n",
       "    .dataframe thead th {\n",
       "        text-align: right;\n",
       "    }\n",
       "</style>\n",
       "<table border=\"1\" class=\"dataframe\">\n",
       "  <thead>\n",
       "    <tr style=\"text-align: right;\">\n",
       "      <th></th>\n",
       "      <th>issue_category</th>\n",
       "    </tr>\n",
       "    <tr>\n",
       "      <th>case_id</th>\n",
       "      <th></th>\n",
       "    </tr>\n",
       "  </thead>\n",
       "  <tbody>\n",
       "    <tr>\n",
       "      <th>829</th>\n",
       "      <td>2</td>\n",
       "    </tr>\n",
       "    <tr>\n",
       "      <th>10675</th>\n",
       "      <td>2</td>\n",
       "    </tr>\n",
       "    <tr>\n",
       "      <th>12446</th>\n",
       "      <td>2</td>\n",
       "    </tr>\n",
       "    <tr>\n",
       "      <th>13269</th>\n",
       "      <td>2</td>\n",
       "    </tr>\n",
       "    <tr>\n",
       "      <th>13407</th>\n",
       "      <td>2</td>\n",
       "    </tr>\n",
       "    <tr>\n",
       "      <th>13524</th>\n",
       "      <td>2</td>\n",
       "    </tr>\n",
       "    <tr>\n",
       "      <th>13569</th>\n",
       "      <td>2</td>\n",
       "    </tr>\n",
       "    <tr>\n",
       "      <th>13571</th>\n",
       "      <td>2</td>\n",
       "    </tr>\n",
       "    <tr>\n",
       "      <th>13573</th>\n",
       "      <td>2</td>\n",
       "    </tr>\n",
       "    <tr>\n",
       "      <th>13575</th>\n",
       "      <td>2</td>\n",
       "    </tr>\n",
       "    <tr>\n",
       "      <th>13577</th>\n",
       "      <td>2</td>\n",
       "    </tr>\n",
       "    <tr>\n",
       "      <th>13579</th>\n",
       "      <td>2</td>\n",
       "    </tr>\n",
       "    <tr>\n",
       "      <th>13581</th>\n",
       "      <td>2</td>\n",
       "    </tr>\n",
       "    <tr>\n",
       "      <th>13616</th>\n",
       "      <td>2</td>\n",
       "    </tr>\n",
       "    <tr>\n",
       "      <th>15141</th>\n",
       "      <td>2</td>\n",
       "    </tr>\n",
       "    <tr>\n",
       "      <th>16414</th>\n",
       "      <td>2</td>\n",
       "    </tr>\n",
       "    <tr>\n",
       "      <th>17579</th>\n",
       "      <td>2</td>\n",
       "    </tr>\n",
       "    <tr>\n",
       "      <th>43993</th>\n",
       "      <td>2</td>\n",
       "    </tr>\n",
       "    <tr>\n",
       "      <th>44163</th>\n",
       "      <td>2</td>\n",
       "    </tr>\n",
       "    <tr>\n",
       "      <th>44308</th>\n",
       "      <td>2</td>\n",
       "    </tr>\n",
       "  </tbody>\n",
       "</table>\n",
       "</div>"
      ],
      "text/plain": [
       "         issue_category\n",
       "case_id                \n",
       "829                   2\n",
       "10675                 2\n",
       "12446                 2\n",
       "13269                 2\n",
       "13407                 2\n",
       "13524                 2\n",
       "13569                 2\n",
       "13571                 2\n",
       "13573                 2\n",
       "13575                 2\n",
       "13577                 2\n",
       "13579                 2\n",
       "13581                 2\n",
       "13616                 2\n",
       "15141                 2\n",
       "16414                 2\n",
       "17579                 2\n",
       "43993                 2\n",
       "44163                 2\n",
       "44308                 2"
      ]
     },
     "execution_count": 29,
     "metadata": {},
     "output_type": "execute_result"
    }
   ],
   "source": [
    "multi_match = issues[issues[\"case_issue\"] == \"Testing\"][[\"case_id\",\"issue_category\"]].groupby(\"case_id\").nunique()\n",
    "multi_match[multi_match[\"issue_category\"] > 1]"
   ]
  },
  {
   "cell_type": "code",
   "execution_count": 30,
   "id": "3cb473c5-c831-4cb6-a867-65b0d24ca499",
   "metadata": {
    "scrolled": true
   },
   "outputs": [
    {
     "data": {
      "text/html": [
       "<div>\n",
       "<style scoped>\n",
       "    .dataframe tbody tr th:only-of-type {\n",
       "        vertical-align: middle;\n",
       "    }\n",
       "\n",
       "    .dataframe tbody tr th {\n",
       "        vertical-align: top;\n",
       "    }\n",
       "\n",
       "    .dataframe thead th {\n",
       "        text-align: right;\n",
       "    }\n",
       "</style>\n",
       "<table border=\"1\" class=\"dataframe\">\n",
       "  <thead>\n",
       "    <tr style=\"text-align: right;\">\n",
       "      <th></th>\n",
       "      <th>case_id</th>\n",
       "      <th>case_issue</th>\n",
       "      <th>issue_category</th>\n",
       "    </tr>\n",
       "  </thead>\n",
       "  <tbody>\n",
       "    <tr>\n",
       "      <th>397859</th>\n",
       "      <td>829</td>\n",
       "      <td>Testing</td>\n",
       "      <td>Discrimination Area</td>\n",
       "    </tr>\n",
       "    <tr>\n",
       "      <th>397861</th>\n",
       "      <td>829</td>\n",
       "      <td>Testing</td>\n",
       "      <td>General/Misc.</td>\n",
       "    </tr>\n",
       "  </tbody>\n",
       "</table>\n",
       "</div>"
      ],
      "text/plain": [
       "        case_id case_issue       issue_category\n",
       "397859      829    Testing  Discrimination Area\n",
       "397861      829    Testing        General/Misc."
      ]
     },
     "metadata": {},
     "output_type": "display_data"
    },
    {
     "data": {
      "text/html": [
       "<div>\n",
       "<style scoped>\n",
       "    .dataframe tbody tr th:only-of-type {\n",
       "        vertical-align: middle;\n",
       "    }\n",
       "\n",
       "    .dataframe tbody tr th {\n",
       "        vertical-align: top;\n",
       "    }\n",
       "\n",
       "    .dataframe thead th {\n",
       "        text-align: right;\n",
       "    }\n",
       "</style>\n",
       "<table border=\"1\" class=\"dataframe\">\n",
       "  <thead>\n",
       "    <tr style=\"text-align: right;\">\n",
       "      <th></th>\n",
       "      <th>case_id</th>\n",
       "      <th>case_issue</th>\n",
       "      <th>issue_category</th>\n",
       "    </tr>\n",
       "  </thead>\n",
       "  <tbody>\n",
       "    <tr>\n",
       "      <th>65320</th>\n",
       "      <td>10675</td>\n",
       "      <td>Testing</td>\n",
       "      <td>Discrimination Area</td>\n",
       "    </tr>\n",
       "    <tr>\n",
       "      <th>65327</th>\n",
       "      <td>10675</td>\n",
       "      <td>Testing</td>\n",
       "      <td>General/Misc.</td>\n",
       "    </tr>\n",
       "  </tbody>\n",
       "</table>\n",
       "</div>"
      ],
      "text/plain": [
       "       case_id case_issue       issue_category\n",
       "65320    10675    Testing  Discrimination Area\n",
       "65327    10675    Testing        General/Misc."
      ]
     },
     "metadata": {},
     "output_type": "display_data"
    },
    {
     "data": {
      "text/html": [
       "<div>\n",
       "<style scoped>\n",
       "    .dataframe tbody tr th:only-of-type {\n",
       "        vertical-align: middle;\n",
       "    }\n",
       "\n",
       "    .dataframe tbody tr th {\n",
       "        vertical-align: top;\n",
       "    }\n",
       "\n",
       "    .dataframe thead th {\n",
       "        text-align: right;\n",
       "    }\n",
       "</style>\n",
       "<table border=\"1\" class=\"dataframe\">\n",
       "  <thead>\n",
       "    <tr style=\"text-align: right;\">\n",
       "      <th></th>\n",
       "      <th>case_id</th>\n",
       "      <th>case_issue</th>\n",
       "      <th>issue_category</th>\n",
       "    </tr>\n",
       "  </thead>\n",
       "  <tbody>\n",
       "    <tr>\n",
       "      <th>75268</th>\n",
       "      <td>12446</td>\n",
       "      <td>Testing</td>\n",
       "      <td>Discrimination Area</td>\n",
       "    </tr>\n",
       "    <tr>\n",
       "      <th>75275</th>\n",
       "      <td>12446</td>\n",
       "      <td>Testing</td>\n",
       "      <td>General/Misc.</td>\n",
       "    </tr>\n",
       "  </tbody>\n",
       "</table>\n",
       "</div>"
      ],
      "text/plain": [
       "       case_id case_issue       issue_category\n",
       "75268    12446    Testing  Discrimination Area\n",
       "75275    12446    Testing        General/Misc."
      ]
     },
     "metadata": {},
     "output_type": "display_data"
    },
    {
     "data": {
      "text/html": [
       "<div>\n",
       "<style scoped>\n",
       "    .dataframe tbody tr th:only-of-type {\n",
       "        vertical-align: middle;\n",
       "    }\n",
       "\n",
       "    .dataframe tbody tr th {\n",
       "        vertical-align: top;\n",
       "    }\n",
       "\n",
       "    .dataframe thead th {\n",
       "        text-align: right;\n",
       "    }\n",
       "</style>\n",
       "<table border=\"1\" class=\"dataframe\">\n",
       "  <thead>\n",
       "    <tr style=\"text-align: right;\">\n",
       "      <th></th>\n",
       "      <th>case_id</th>\n",
       "      <th>case_issue</th>\n",
       "      <th>issue_category</th>\n",
       "    </tr>\n",
       "  </thead>\n",
       "  <tbody>\n",
       "    <tr>\n",
       "      <th>242925</th>\n",
       "      <td>13269</td>\n",
       "      <td>Testing</td>\n",
       "      <td>Discrimination Area</td>\n",
       "    </tr>\n",
       "    <tr>\n",
       "      <th>242931</th>\n",
       "      <td>13269</td>\n",
       "      <td>Testing</td>\n",
       "      <td>General/Misc.</td>\n",
       "    </tr>\n",
       "  </tbody>\n",
       "</table>\n",
       "</div>"
      ],
      "text/plain": [
       "        case_id case_issue       issue_category\n",
       "242925    13269    Testing  Discrimination Area\n",
       "242931    13269    Testing        General/Misc."
      ]
     },
     "metadata": {},
     "output_type": "display_data"
    },
    {
     "data": {
      "text/html": [
       "<div>\n",
       "<style scoped>\n",
       "    .dataframe tbody tr th:only-of-type {\n",
       "        vertical-align: middle;\n",
       "    }\n",
       "\n",
       "    .dataframe tbody tr th {\n",
       "        vertical-align: top;\n",
       "    }\n",
       "\n",
       "    .dataframe thead th {\n",
       "        text-align: right;\n",
       "    }\n",
       "</style>\n",
       "<table border=\"1\" class=\"dataframe\">\n",
       "  <thead>\n",
       "    <tr style=\"text-align: right;\">\n",
       "      <th></th>\n",
       "      <th>case_id</th>\n",
       "      <th>case_issue</th>\n",
       "      <th>issue_category</th>\n",
       "    </tr>\n",
       "  </thead>\n",
       "  <tbody>\n",
       "    <tr>\n",
       "      <th>122807</th>\n",
       "      <td>13407</td>\n",
       "      <td>Testing</td>\n",
       "      <td>General/Misc.</td>\n",
       "    </tr>\n",
       "    <tr>\n",
       "      <th>122820</th>\n",
       "      <td>13407</td>\n",
       "      <td>Testing</td>\n",
       "      <td>Discrimination Area</td>\n",
       "    </tr>\n",
       "  </tbody>\n",
       "</table>\n",
       "</div>"
      ],
      "text/plain": [
       "        case_id case_issue       issue_category\n",
       "122807    13407    Testing        General/Misc.\n",
       "122820    13407    Testing  Discrimination Area"
      ]
     },
     "metadata": {},
     "output_type": "display_data"
    },
    {
     "data": {
      "text/html": [
       "<div>\n",
       "<style scoped>\n",
       "    .dataframe tbody tr th:only-of-type {\n",
       "        vertical-align: middle;\n",
       "    }\n",
       "\n",
       "    .dataframe tbody tr th {\n",
       "        vertical-align: top;\n",
       "    }\n",
       "\n",
       "    .dataframe thead th {\n",
       "        text-align: right;\n",
       "    }\n",
       "</style>\n",
       "<table border=\"1\" class=\"dataframe\">\n",
       "  <thead>\n",
       "    <tr style=\"text-align: right;\">\n",
       "      <th></th>\n",
       "      <th>case_id</th>\n",
       "      <th>case_issue</th>\n",
       "      <th>issue_category</th>\n",
       "    </tr>\n",
       "  </thead>\n",
       "  <tbody>\n",
       "    <tr>\n",
       "      <th>339798</th>\n",
       "      <td>13524</td>\n",
       "      <td>Testing</td>\n",
       "      <td>Discrimination Area</td>\n",
       "    </tr>\n",
       "    <tr>\n",
       "      <th>339803</th>\n",
       "      <td>13524</td>\n",
       "      <td>Testing</td>\n",
       "      <td>General/Misc.</td>\n",
       "    </tr>\n",
       "  </tbody>\n",
       "</table>\n",
       "</div>"
      ],
      "text/plain": [
       "        case_id case_issue       issue_category\n",
       "339798    13524    Testing  Discrimination Area\n",
       "339803    13524    Testing        General/Misc."
      ]
     },
     "metadata": {},
     "output_type": "display_data"
    },
    {
     "data": {
      "text/html": [
       "<div>\n",
       "<style scoped>\n",
       "    .dataframe tbody tr th:only-of-type {\n",
       "        vertical-align: middle;\n",
       "    }\n",
       "\n",
       "    .dataframe tbody tr th {\n",
       "        vertical-align: top;\n",
       "    }\n",
       "\n",
       "    .dataframe thead th {\n",
       "        text-align: right;\n",
       "    }\n",
       "</style>\n",
       "<table border=\"1\" class=\"dataframe\">\n",
       "  <thead>\n",
       "    <tr style=\"text-align: right;\">\n",
       "      <th></th>\n",
       "      <th>case_id</th>\n",
       "      <th>case_issue</th>\n",
       "      <th>issue_category</th>\n",
       "    </tr>\n",
       "  </thead>\n",
       "  <tbody>\n",
       "    <tr>\n",
       "      <th>221659</th>\n",
       "      <td>13569</td>\n",
       "      <td>Testing</td>\n",
       "      <td>Discrimination Area</td>\n",
       "    </tr>\n",
       "    <tr>\n",
       "      <th>221663</th>\n",
       "      <td>13569</td>\n",
       "      <td>Testing</td>\n",
       "      <td>General/Misc.</td>\n",
       "    </tr>\n",
       "  </tbody>\n",
       "</table>\n",
       "</div>"
      ],
      "text/plain": [
       "        case_id case_issue       issue_category\n",
       "221659    13569    Testing  Discrimination Area\n",
       "221663    13569    Testing        General/Misc."
      ]
     },
     "metadata": {},
     "output_type": "display_data"
    },
    {
     "data": {
      "text/html": [
       "<div>\n",
       "<style scoped>\n",
       "    .dataframe tbody tr th:only-of-type {\n",
       "        vertical-align: middle;\n",
       "    }\n",
       "\n",
       "    .dataframe tbody tr th {\n",
       "        vertical-align: top;\n",
       "    }\n",
       "\n",
       "    .dataframe thead th {\n",
       "        text-align: right;\n",
       "    }\n",
       "</style>\n",
       "<table border=\"1\" class=\"dataframe\">\n",
       "  <thead>\n",
       "    <tr style=\"text-align: right;\">\n",
       "      <th></th>\n",
       "      <th>case_id</th>\n",
       "      <th>case_issue</th>\n",
       "      <th>issue_category</th>\n",
       "    </tr>\n",
       "  </thead>\n",
       "  <tbody>\n",
       "    <tr>\n",
       "      <th>357675</th>\n",
       "      <td>13571</td>\n",
       "      <td>Testing</td>\n",
       "      <td>General/Misc.</td>\n",
       "    </tr>\n",
       "    <tr>\n",
       "      <th>357680</th>\n",
       "      <td>13571</td>\n",
       "      <td>Testing</td>\n",
       "      <td>Discrimination Area</td>\n",
       "    </tr>\n",
       "  </tbody>\n",
       "</table>\n",
       "</div>"
      ],
      "text/plain": [
       "        case_id case_issue       issue_category\n",
       "357675    13571    Testing        General/Misc.\n",
       "357680    13571    Testing  Discrimination Area"
      ]
     },
     "metadata": {},
     "output_type": "display_data"
    },
    {
     "data": {
      "text/html": [
       "<div>\n",
       "<style scoped>\n",
       "    .dataframe tbody tr th:only-of-type {\n",
       "        vertical-align: middle;\n",
       "    }\n",
       "\n",
       "    .dataframe tbody tr th {\n",
       "        vertical-align: top;\n",
       "    }\n",
       "\n",
       "    .dataframe thead th {\n",
       "        text-align: right;\n",
       "    }\n",
       "</style>\n",
       "<table border=\"1\" class=\"dataframe\">\n",
       "  <thead>\n",
       "    <tr style=\"text-align: right;\">\n",
       "      <th></th>\n",
       "      <th>case_id</th>\n",
       "      <th>case_issue</th>\n",
       "      <th>issue_category</th>\n",
       "    </tr>\n",
       "  </thead>\n",
       "  <tbody>\n",
       "    <tr>\n",
       "      <th>357645</th>\n",
       "      <td>13573</td>\n",
       "      <td>Testing</td>\n",
       "      <td>Discrimination Area</td>\n",
       "    </tr>\n",
       "    <tr>\n",
       "      <th>357652</th>\n",
       "      <td>13573</td>\n",
       "      <td>Testing</td>\n",
       "      <td>General/Misc.</td>\n",
       "    </tr>\n",
       "  </tbody>\n",
       "</table>\n",
       "</div>"
      ],
      "text/plain": [
       "        case_id case_issue       issue_category\n",
       "357645    13573    Testing  Discrimination Area\n",
       "357652    13573    Testing        General/Misc."
      ]
     },
     "metadata": {},
     "output_type": "display_data"
    },
    {
     "data": {
      "text/html": [
       "<div>\n",
       "<style scoped>\n",
       "    .dataframe tbody tr th:only-of-type {\n",
       "        vertical-align: middle;\n",
       "    }\n",
       "\n",
       "    .dataframe tbody tr th {\n",
       "        vertical-align: top;\n",
       "    }\n",
       "\n",
       "    .dataframe thead th {\n",
       "        text-align: right;\n",
       "    }\n",
       "</style>\n",
       "<table border=\"1\" class=\"dataframe\">\n",
       "  <thead>\n",
       "    <tr style=\"text-align: right;\">\n",
       "      <th></th>\n",
       "      <th>case_id</th>\n",
       "      <th>case_issue</th>\n",
       "      <th>issue_category</th>\n",
       "    </tr>\n",
       "  </thead>\n",
       "  <tbody>\n",
       "    <tr>\n",
       "      <th>195960</th>\n",
       "      <td>13575</td>\n",
       "      <td>Testing</td>\n",
       "      <td>Discrimination Area</td>\n",
       "    </tr>\n",
       "    <tr>\n",
       "      <th>195969</th>\n",
       "      <td>13575</td>\n",
       "      <td>Testing</td>\n",
       "      <td>General/Misc.</td>\n",
       "    </tr>\n",
       "  </tbody>\n",
       "</table>\n",
       "</div>"
      ],
      "text/plain": [
       "        case_id case_issue       issue_category\n",
       "195960    13575    Testing  Discrimination Area\n",
       "195969    13575    Testing        General/Misc."
      ]
     },
     "metadata": {},
     "output_type": "display_data"
    },
    {
     "data": {
      "text/html": [
       "<div>\n",
       "<style scoped>\n",
       "    .dataframe tbody tr th:only-of-type {\n",
       "        vertical-align: middle;\n",
       "    }\n",
       "\n",
       "    .dataframe tbody tr th {\n",
       "        vertical-align: top;\n",
       "    }\n",
       "\n",
       "    .dataframe thead th {\n",
       "        text-align: right;\n",
       "    }\n",
       "</style>\n",
       "<table border=\"1\" class=\"dataframe\">\n",
       "  <thead>\n",
       "    <tr style=\"text-align: right;\">\n",
       "      <th></th>\n",
       "      <th>case_id</th>\n",
       "      <th>case_issue</th>\n",
       "      <th>issue_category</th>\n",
       "    </tr>\n",
       "  </thead>\n",
       "  <tbody>\n",
       "    <tr>\n",
       "      <th>108579</th>\n",
       "      <td>13577</td>\n",
       "      <td>Testing</td>\n",
       "      <td>Discrimination Area</td>\n",
       "    </tr>\n",
       "    <tr>\n",
       "      <th>108583</th>\n",
       "      <td>13577</td>\n",
       "      <td>Testing</td>\n",
       "      <td>General/Misc.</td>\n",
       "    </tr>\n",
       "  </tbody>\n",
       "</table>\n",
       "</div>"
      ],
      "text/plain": [
       "        case_id case_issue       issue_category\n",
       "108579    13577    Testing  Discrimination Area\n",
       "108583    13577    Testing        General/Misc."
      ]
     },
     "metadata": {},
     "output_type": "display_data"
    },
    {
     "data": {
      "text/html": [
       "<div>\n",
       "<style scoped>\n",
       "    .dataframe tbody tr th:only-of-type {\n",
       "        vertical-align: middle;\n",
       "    }\n",
       "\n",
       "    .dataframe tbody tr th {\n",
       "        vertical-align: top;\n",
       "    }\n",
       "\n",
       "    .dataframe thead th {\n",
       "        text-align: right;\n",
       "    }\n",
       "</style>\n",
       "<table border=\"1\" class=\"dataframe\">\n",
       "  <thead>\n",
       "    <tr style=\"text-align: right;\">\n",
       "      <th></th>\n",
       "      <th>case_id</th>\n",
       "      <th>case_issue</th>\n",
       "      <th>issue_category</th>\n",
       "    </tr>\n",
       "  </thead>\n",
       "  <tbody>\n",
       "    <tr>\n",
       "      <th>256793</th>\n",
       "      <td>13579</td>\n",
       "      <td>Testing</td>\n",
       "      <td>General/Misc.</td>\n",
       "    </tr>\n",
       "    <tr>\n",
       "      <th>256797</th>\n",
       "      <td>13579</td>\n",
       "      <td>Testing</td>\n",
       "      <td>Discrimination Area</td>\n",
       "    </tr>\n",
       "  </tbody>\n",
       "</table>\n",
       "</div>"
      ],
      "text/plain": [
       "        case_id case_issue       issue_category\n",
       "256793    13579    Testing        General/Misc.\n",
       "256797    13579    Testing  Discrimination Area"
      ]
     },
     "metadata": {},
     "output_type": "display_data"
    },
    {
     "data": {
      "text/html": [
       "<div>\n",
       "<style scoped>\n",
       "    .dataframe tbody tr th:only-of-type {\n",
       "        vertical-align: middle;\n",
       "    }\n",
       "\n",
       "    .dataframe tbody tr th {\n",
       "        vertical-align: top;\n",
       "    }\n",
       "\n",
       "    .dataframe thead th {\n",
       "        text-align: right;\n",
       "    }\n",
       "</style>\n",
       "<table border=\"1\" class=\"dataframe\">\n",
       "  <thead>\n",
       "    <tr style=\"text-align: right;\">\n",
       "      <th></th>\n",
       "      <th>case_id</th>\n",
       "      <th>case_issue</th>\n",
       "      <th>issue_category</th>\n",
       "    </tr>\n",
       "  </thead>\n",
       "  <tbody>\n",
       "    <tr>\n",
       "      <th>105750</th>\n",
       "      <td>13581</td>\n",
       "      <td>Testing</td>\n",
       "      <td>General/Misc.</td>\n",
       "    </tr>\n",
       "    <tr>\n",
       "      <th>105756</th>\n",
       "      <td>13581</td>\n",
       "      <td>Testing</td>\n",
       "      <td>Discrimination Area</td>\n",
       "    </tr>\n",
       "  </tbody>\n",
       "</table>\n",
       "</div>"
      ],
      "text/plain": [
       "        case_id case_issue       issue_category\n",
       "105750    13581    Testing        General/Misc.\n",
       "105756    13581    Testing  Discrimination Area"
      ]
     },
     "metadata": {},
     "output_type": "display_data"
    },
    {
     "data": {
      "text/html": [
       "<div>\n",
       "<style scoped>\n",
       "    .dataframe tbody tr th:only-of-type {\n",
       "        vertical-align: middle;\n",
       "    }\n",
       "\n",
       "    .dataframe tbody tr th {\n",
       "        vertical-align: top;\n",
       "    }\n",
       "\n",
       "    .dataframe thead th {\n",
       "        text-align: right;\n",
       "    }\n",
       "</style>\n",
       "<table border=\"1\" class=\"dataframe\">\n",
       "  <thead>\n",
       "    <tr style=\"text-align: right;\">\n",
       "      <th></th>\n",
       "      <th>case_id</th>\n",
       "      <th>case_issue</th>\n",
       "      <th>issue_category</th>\n",
       "    </tr>\n",
       "  </thead>\n",
       "  <tbody>\n",
       "    <tr>\n",
       "      <th>188550</th>\n",
       "      <td>13616</td>\n",
       "      <td>Testing</td>\n",
       "      <td>Discrimination Area</td>\n",
       "    </tr>\n",
       "    <tr>\n",
       "      <th>188553</th>\n",
       "      <td>13616</td>\n",
       "      <td>Testing</td>\n",
       "      <td>General/Misc.</td>\n",
       "    </tr>\n",
       "  </tbody>\n",
       "</table>\n",
       "</div>"
      ],
      "text/plain": [
       "        case_id case_issue       issue_category\n",
       "188550    13616    Testing  Discrimination Area\n",
       "188553    13616    Testing        General/Misc."
      ]
     },
     "metadata": {},
     "output_type": "display_data"
    },
    {
     "data": {
      "text/html": [
       "<div>\n",
       "<style scoped>\n",
       "    .dataframe tbody tr th:only-of-type {\n",
       "        vertical-align: middle;\n",
       "    }\n",
       "\n",
       "    .dataframe tbody tr th {\n",
       "        vertical-align: top;\n",
       "    }\n",
       "\n",
       "    .dataframe thead th {\n",
       "        text-align: right;\n",
       "    }\n",
       "</style>\n",
       "<table border=\"1\" class=\"dataframe\">\n",
       "  <thead>\n",
       "    <tr style=\"text-align: right;\">\n",
       "      <th></th>\n",
       "      <th>case_id</th>\n",
       "      <th>case_issue</th>\n",
       "      <th>issue_category</th>\n",
       "    </tr>\n",
       "  </thead>\n",
       "  <tbody>\n",
       "    <tr>\n",
       "      <th>72981</th>\n",
       "      <td>15141</td>\n",
       "      <td>Testing</td>\n",
       "      <td>Discrimination Area</td>\n",
       "    </tr>\n",
       "    <tr>\n",
       "      <th>72987</th>\n",
       "      <td>15141</td>\n",
       "      <td>Testing</td>\n",
       "      <td>General/Misc.</td>\n",
       "    </tr>\n",
       "  </tbody>\n",
       "</table>\n",
       "</div>"
      ],
      "text/plain": [
       "       case_id case_issue       issue_category\n",
       "72981    15141    Testing  Discrimination Area\n",
       "72987    15141    Testing        General/Misc."
      ]
     },
     "metadata": {},
     "output_type": "display_data"
    },
    {
     "data": {
      "text/html": [
       "<div>\n",
       "<style scoped>\n",
       "    .dataframe tbody tr th:only-of-type {\n",
       "        vertical-align: middle;\n",
       "    }\n",
       "\n",
       "    .dataframe tbody tr th {\n",
       "        vertical-align: top;\n",
       "    }\n",
       "\n",
       "    .dataframe thead th {\n",
       "        text-align: right;\n",
       "    }\n",
       "</style>\n",
       "<table border=\"1\" class=\"dataframe\">\n",
       "  <thead>\n",
       "    <tr style=\"text-align: right;\">\n",
       "      <th></th>\n",
       "      <th>case_id</th>\n",
       "      <th>case_issue</th>\n",
       "      <th>issue_category</th>\n",
       "    </tr>\n",
       "  </thead>\n",
       "  <tbody>\n",
       "    <tr>\n",
       "      <th>188684</th>\n",
       "      <td>16414</td>\n",
       "      <td>Testing</td>\n",
       "      <td>Discrimination Area</td>\n",
       "    </tr>\n",
       "    <tr>\n",
       "      <th>188689</th>\n",
       "      <td>16414</td>\n",
       "      <td>Testing</td>\n",
       "      <td>General/Misc.</td>\n",
       "    </tr>\n",
       "  </tbody>\n",
       "</table>\n",
       "</div>"
      ],
      "text/plain": [
       "        case_id case_issue       issue_category\n",
       "188684    16414    Testing  Discrimination Area\n",
       "188689    16414    Testing        General/Misc."
      ]
     },
     "metadata": {},
     "output_type": "display_data"
    },
    {
     "data": {
      "text/html": [
       "<div>\n",
       "<style scoped>\n",
       "    .dataframe tbody tr th:only-of-type {\n",
       "        vertical-align: middle;\n",
       "    }\n",
       "\n",
       "    .dataframe tbody tr th {\n",
       "        vertical-align: top;\n",
       "    }\n",
       "\n",
       "    .dataframe thead th {\n",
       "        text-align: right;\n",
       "    }\n",
       "</style>\n",
       "<table border=\"1\" class=\"dataframe\">\n",
       "  <thead>\n",
       "    <tr style=\"text-align: right;\">\n",
       "      <th></th>\n",
       "      <th>case_id</th>\n",
       "      <th>case_issue</th>\n",
       "      <th>issue_category</th>\n",
       "    </tr>\n",
       "  </thead>\n",
       "  <tbody>\n",
       "    <tr>\n",
       "      <th>88640</th>\n",
       "      <td>17579</td>\n",
       "      <td>Testing</td>\n",
       "      <td>Discrimination Area</td>\n",
       "    </tr>\n",
       "    <tr>\n",
       "      <th>88644</th>\n",
       "      <td>17579</td>\n",
       "      <td>Testing</td>\n",
       "      <td>General/Misc.</td>\n",
       "    </tr>\n",
       "  </tbody>\n",
       "</table>\n",
       "</div>"
      ],
      "text/plain": [
       "       case_id case_issue       issue_category\n",
       "88640    17579    Testing  Discrimination Area\n",
       "88644    17579    Testing        General/Misc."
      ]
     },
     "metadata": {},
     "output_type": "display_data"
    },
    {
     "data": {
      "text/html": [
       "<div>\n",
       "<style scoped>\n",
       "    .dataframe tbody tr th:only-of-type {\n",
       "        vertical-align: middle;\n",
       "    }\n",
       "\n",
       "    .dataframe tbody tr th {\n",
       "        vertical-align: top;\n",
       "    }\n",
       "\n",
       "    .dataframe thead th {\n",
       "        text-align: right;\n",
       "    }\n",
       "</style>\n",
       "<table border=\"1\" class=\"dataframe\">\n",
       "  <thead>\n",
       "    <tr style=\"text-align: right;\">\n",
       "      <th></th>\n",
       "      <th>case_id</th>\n",
       "      <th>case_issue</th>\n",
       "      <th>issue_category</th>\n",
       "    </tr>\n",
       "  </thead>\n",
       "  <tbody>\n",
       "    <tr>\n",
       "      <th>230150</th>\n",
       "      <td>43993</td>\n",
       "      <td>Testing</td>\n",
       "      <td>Discrimination Area</td>\n",
       "    </tr>\n",
       "    <tr>\n",
       "      <th>230152</th>\n",
       "      <td>43993</td>\n",
       "      <td>Testing</td>\n",
       "      <td>General/Misc.</td>\n",
       "    </tr>\n",
       "  </tbody>\n",
       "</table>\n",
       "</div>"
      ],
      "text/plain": [
       "        case_id case_issue       issue_category\n",
       "230150    43993    Testing  Discrimination Area\n",
       "230152    43993    Testing        General/Misc."
      ]
     },
     "metadata": {},
     "output_type": "display_data"
    },
    {
     "data": {
      "text/html": [
       "<div>\n",
       "<style scoped>\n",
       "    .dataframe tbody tr th:only-of-type {\n",
       "        vertical-align: middle;\n",
       "    }\n",
       "\n",
       "    .dataframe tbody tr th {\n",
       "        vertical-align: top;\n",
       "    }\n",
       "\n",
       "    .dataframe thead th {\n",
       "        text-align: right;\n",
       "    }\n",
       "</style>\n",
       "<table border=\"1\" class=\"dataframe\">\n",
       "  <thead>\n",
       "    <tr style=\"text-align: right;\">\n",
       "      <th></th>\n",
       "      <th>case_id</th>\n",
       "      <th>case_issue</th>\n",
       "      <th>issue_category</th>\n",
       "    </tr>\n",
       "  </thead>\n",
       "  <tbody>\n",
       "    <tr>\n",
       "      <th>88283</th>\n",
       "      <td>44163</td>\n",
       "      <td>Testing</td>\n",
       "      <td>Discrimination Area</td>\n",
       "    </tr>\n",
       "    <tr>\n",
       "      <th>88286</th>\n",
       "      <td>44163</td>\n",
       "      <td>Testing</td>\n",
       "      <td>General/Misc.</td>\n",
       "    </tr>\n",
       "  </tbody>\n",
       "</table>\n",
       "</div>"
      ],
      "text/plain": [
       "       case_id case_issue       issue_category\n",
       "88283    44163    Testing  Discrimination Area\n",
       "88286    44163    Testing        General/Misc."
      ]
     },
     "metadata": {},
     "output_type": "display_data"
    },
    {
     "data": {
      "text/html": [
       "<div>\n",
       "<style scoped>\n",
       "    .dataframe tbody tr th:only-of-type {\n",
       "        vertical-align: middle;\n",
       "    }\n",
       "\n",
       "    .dataframe tbody tr th {\n",
       "        vertical-align: top;\n",
       "    }\n",
       "\n",
       "    .dataframe thead th {\n",
       "        text-align: right;\n",
       "    }\n",
       "</style>\n",
       "<table border=\"1\" class=\"dataframe\">\n",
       "  <thead>\n",
       "    <tr style=\"text-align: right;\">\n",
       "      <th></th>\n",
       "      <th>case_id</th>\n",
       "      <th>case_issue</th>\n",
       "      <th>issue_category</th>\n",
       "    </tr>\n",
       "  </thead>\n",
       "  <tbody>\n",
       "    <tr>\n",
       "      <th>57175</th>\n",
       "      <td>44308</td>\n",
       "      <td>Testing</td>\n",
       "      <td>Discrimination Area</td>\n",
       "    </tr>\n",
       "    <tr>\n",
       "      <th>57180</th>\n",
       "      <td>44308</td>\n",
       "      <td>Testing</td>\n",
       "      <td>General/Misc.</td>\n",
       "    </tr>\n",
       "  </tbody>\n",
       "</table>\n",
       "</div>"
      ],
      "text/plain": [
       "       case_id case_issue       issue_category\n",
       "57175    44308    Testing  Discrimination Area\n",
       "57180    44308    Testing        General/Misc."
      ]
     },
     "metadata": {},
     "output_type": "display_data"
    }
   ],
   "source": [
    "for case_id in multi_match[multi_match[\"issue_category\"] > 1].index.to_list():\n",
    "    display(issues[(issues[\"case_issue\"] == \"Testing\") & (issues[\"case_id\"] == case_id)])"
   ]
  },
  {
   "cell_type": "code",
   "execution_count": 31,
   "id": "96321b8c",
   "metadata": {
    "scrolled": true
   },
   "outputs": [
    {
     "data": {
      "text/plain": [
       "case_issue\n",
       "Testing                   2\n",
       "Medical care, general     1\n",
       "Medical Exam / Inquiry    1\n",
       "Name: count, dtype: int64"
      ]
     },
     "execution_count": 31,
     "metadata": {},
     "output_type": "execute_result"
    }
   ],
   "source": [
    "issues[issues[\"case_id\"] == 829][\"case_issue\"].value_counts()"
   ]
  },
  {
   "cell_type": "code",
   "execution_count": 32,
   "id": "dd833063",
   "metadata": {
    "scrolled": true
   },
   "outputs": [
    {
     "data": {
      "text/plain": [
       "issue_category\n",
       "Discrimination Area           2\n",
       "Medical/Mental Health Care    1\n",
       "General/Misc.                 1\n",
       "Name: count, dtype: int64"
      ]
     },
     "execution_count": 32,
     "metadata": {},
     "output_type": "execute_result"
    }
   ],
   "source": [
    "issues[issues[\"case_id\"] == 829][\"issue_category\"].value_counts()"
   ]
  },
  {
   "cell_type": "markdown",
   "id": "4ed266c2",
   "metadata": {},
   "source": [
    "All the cases appear to be assigned to both \"Discrimination Area\" and \"General/Misc.\n",
    "\", for consistency, we'll drop \"General/Misc.\" issue category."
   ]
  },
  {
   "cell_type": "code",
   "execution_count": 33,
   "id": "68c45e4b",
   "metadata": {},
   "outputs": [],
   "source": [
    "issues = issues[~((issues['case_issue'] == 'Testing') & (issues['issue_category'] == 'General/Misc.'))]"
   ]
  },
  {
   "cell_type": "code",
   "execution_count": 34,
   "id": "0920cc01",
   "metadata": {},
   "outputs": [],
   "source": [
    "multi_match = issues[issues[\"case_issue\"] == \"Testing\"][[\"case_id\",\"issue_category\"]].groupby(\"case_id\").nunique()\n",
    "assert len(multi_match[multi_match[\"issue_category\"] > 1]) == 0"
   ]
  },
  {
   "cell_type": "markdown",
   "id": "2d1dc6a1",
   "metadata": {
    "jp-MarkdownHeadingCollapsed": true
   },
   "source": [
    "## Issue == Other"
   ]
  },
  {
   "cell_type": "code",
   "execution_count": 35,
   "id": "ea7ad401",
   "metadata": {
    "scrolled": true
   },
   "outputs": [
    {
     "data": {
      "text/plain": [
       "issue_category\n",
       "Affected National Origin/Ethnicity(s)    77\n",
       "General/Misc.                            46\n",
       "Affected Language(s)                     20\n",
       "Name: count, dtype: int64"
      ]
     },
     "execution_count": 35,
     "metadata": {},
     "output_type": "execute_result"
    }
   ],
   "source": [
    "issues[issues[\"case_issue\"] == \"Other\"][\"issue_category\"].value_counts()"
   ]
  },
  {
   "cell_type": "markdown",
   "id": "77181186",
   "metadata": {},
   "source": [
    "Ideally, within one case, we should have a one-to-one match between issue and issue category, find out any cases that have multiple matches"
   ]
  },
  {
   "cell_type": "code",
   "execution_count": 36,
   "id": "2db528ed",
   "metadata": {
    "scrolled": true
   },
   "outputs": [
    {
     "data": {
      "text/html": [
       "<div>\n",
       "<style scoped>\n",
       "    .dataframe tbody tr th:only-of-type {\n",
       "        vertical-align: middle;\n",
       "    }\n",
       "\n",
       "    .dataframe tbody tr th {\n",
       "        vertical-align: top;\n",
       "    }\n",
       "\n",
       "    .dataframe thead th {\n",
       "        text-align: right;\n",
       "    }\n",
       "</style>\n",
       "<table border=\"1\" class=\"dataframe\">\n",
       "  <thead>\n",
       "    <tr style=\"text-align: right;\">\n",
       "      <th></th>\n",
       "      <th>issue_category</th>\n",
       "    </tr>\n",
       "    <tr>\n",
       "      <th>case_id</th>\n",
       "      <th></th>\n",
       "    </tr>\n",
       "  </thead>\n",
       "  <tbody>\n",
       "    <tr>\n",
       "      <th>2975</th>\n",
       "      <td>2</td>\n",
       "    </tr>\n",
       "    <tr>\n",
       "      <th>6616</th>\n",
       "      <td>2</td>\n",
       "    </tr>\n",
       "    <tr>\n",
       "      <th>15465</th>\n",
       "      <td>2</td>\n",
       "    </tr>\n",
       "    <tr>\n",
       "      <th>44183</th>\n",
       "      <td>2</td>\n",
       "    </tr>\n",
       "    <tr>\n",
       "      <th>45091</th>\n",
       "      <td>2</td>\n",
       "    </tr>\n",
       "  </tbody>\n",
       "</table>\n",
       "</div>"
      ],
      "text/plain": [
       "         issue_category\n",
       "case_id                \n",
       "2975                  2\n",
       "6616                  2\n",
       "15465                 2\n",
       "44183                 2\n",
       "45091                 2"
      ]
     },
     "execution_count": 36,
     "metadata": {},
     "output_type": "execute_result"
    }
   ],
   "source": [
    "multi_match = issues[issues[\"case_issue\"] == \"Other\"][[\"case_id\",\"issue_category\"]].groupby(\"case_id\").nunique()\n",
    "multi_match[multi_match[\"issue_category\"] > 1]"
   ]
  },
  {
   "cell_type": "code",
   "execution_count": 37,
   "id": "1d14a71b",
   "metadata": {
    "scrolled": true
   },
   "outputs": [
    {
     "data": {
      "text/html": [
       "<div>\n",
       "<style scoped>\n",
       "    .dataframe tbody tr th:only-of-type {\n",
       "        vertical-align: middle;\n",
       "    }\n",
       "\n",
       "    .dataframe tbody tr th {\n",
       "        vertical-align: top;\n",
       "    }\n",
       "\n",
       "    .dataframe thead th {\n",
       "        text-align: right;\n",
       "    }\n",
       "</style>\n",
       "<table border=\"1\" class=\"dataframe\">\n",
       "  <thead>\n",
       "    <tr style=\"text-align: right;\">\n",
       "      <th></th>\n",
       "      <th>case_id</th>\n",
       "      <th>case_issue</th>\n",
       "      <th>issue_category</th>\n",
       "    </tr>\n",
       "  </thead>\n",
       "  <tbody>\n",
       "    <tr>\n",
       "      <th>179158</th>\n",
       "      <td>2975</td>\n",
       "      <td>Other</td>\n",
       "      <td>Affected Language(s)</td>\n",
       "    </tr>\n",
       "    <tr>\n",
       "      <th>179159</th>\n",
       "      <td>2975</td>\n",
       "      <td>Other</td>\n",
       "      <td>Affected National Origin/Ethnicity(s)</td>\n",
       "    </tr>\n",
       "  </tbody>\n",
       "</table>\n",
       "</div>"
      ],
      "text/plain": [
       "        case_id case_issue                         issue_category\n",
       "179158     2975      Other                   Affected Language(s)\n",
       "179159     2975      Other  Affected National Origin/Ethnicity(s)"
      ]
     },
     "metadata": {},
     "output_type": "display_data"
    },
    {
     "data": {
      "text/html": [
       "<div>\n",
       "<style scoped>\n",
       "    .dataframe tbody tr th:only-of-type {\n",
       "        vertical-align: middle;\n",
       "    }\n",
       "\n",
       "    .dataframe tbody tr th {\n",
       "        vertical-align: top;\n",
       "    }\n",
       "\n",
       "    .dataframe thead th {\n",
       "        text-align: right;\n",
       "    }\n",
       "</style>\n",
       "<table border=\"1\" class=\"dataframe\">\n",
       "  <thead>\n",
       "    <tr style=\"text-align: right;\">\n",
       "      <th></th>\n",
       "      <th>case_id</th>\n",
       "      <th>case_issue</th>\n",
       "      <th>issue_category</th>\n",
       "    </tr>\n",
       "  </thead>\n",
       "  <tbody>\n",
       "    <tr>\n",
       "      <th>352840</th>\n",
       "      <td>6616</td>\n",
       "      <td>Other</td>\n",
       "      <td>Affected Language(s)</td>\n",
       "    </tr>\n",
       "    <tr>\n",
       "      <th>352841</th>\n",
       "      <td>6616</td>\n",
       "      <td>Other</td>\n",
       "      <td>Affected National Origin/Ethnicity(s)</td>\n",
       "    </tr>\n",
       "  </tbody>\n",
       "</table>\n",
       "</div>"
      ],
      "text/plain": [
       "        case_id case_issue                         issue_category\n",
       "352840     6616      Other                   Affected Language(s)\n",
       "352841     6616      Other  Affected National Origin/Ethnicity(s)"
      ]
     },
     "metadata": {},
     "output_type": "display_data"
    },
    {
     "data": {
      "text/html": [
       "<div>\n",
       "<style scoped>\n",
       "    .dataframe tbody tr th:only-of-type {\n",
       "        vertical-align: middle;\n",
       "    }\n",
       "\n",
       "    .dataframe tbody tr th {\n",
       "        vertical-align: top;\n",
       "    }\n",
       "\n",
       "    .dataframe thead th {\n",
       "        text-align: right;\n",
       "    }\n",
       "</style>\n",
       "<table border=\"1\" class=\"dataframe\">\n",
       "  <thead>\n",
       "    <tr style=\"text-align: right;\">\n",
       "      <th></th>\n",
       "      <th>case_id</th>\n",
       "      <th>case_issue</th>\n",
       "      <th>issue_category</th>\n",
       "    </tr>\n",
       "  </thead>\n",
       "  <tbody>\n",
       "    <tr>\n",
       "      <th>404132</th>\n",
       "      <td>15465</td>\n",
       "      <td>Other</td>\n",
       "      <td>Affected Language(s)</td>\n",
       "    </tr>\n",
       "    <tr>\n",
       "      <th>404133</th>\n",
       "      <td>15465</td>\n",
       "      <td>Other</td>\n",
       "      <td>Affected National Origin/Ethnicity(s)</td>\n",
       "    </tr>\n",
       "  </tbody>\n",
       "</table>\n",
       "</div>"
      ],
      "text/plain": [
       "        case_id case_issue                         issue_category\n",
       "404132    15465      Other                   Affected Language(s)\n",
       "404133    15465      Other  Affected National Origin/Ethnicity(s)"
      ]
     },
     "metadata": {},
     "output_type": "display_data"
    },
    {
     "data": {
      "text/html": [
       "<div>\n",
       "<style scoped>\n",
       "    .dataframe tbody tr th:only-of-type {\n",
       "        vertical-align: middle;\n",
       "    }\n",
       "\n",
       "    .dataframe tbody tr th {\n",
       "        vertical-align: top;\n",
       "    }\n",
       "\n",
       "    .dataframe thead th {\n",
       "        text-align: right;\n",
       "    }\n",
       "</style>\n",
       "<table border=\"1\" class=\"dataframe\">\n",
       "  <thead>\n",
       "    <tr style=\"text-align: right;\">\n",
       "      <th></th>\n",
       "      <th>case_id</th>\n",
       "      <th>case_issue</th>\n",
       "      <th>issue_category</th>\n",
       "    </tr>\n",
       "  </thead>\n",
       "  <tbody>\n",
       "    <tr>\n",
       "      <th>78142</th>\n",
       "      <td>44183</td>\n",
       "      <td>Other</td>\n",
       "      <td>Affected National Origin/Ethnicity(s)</td>\n",
       "    </tr>\n",
       "    <tr>\n",
       "      <th>78144</th>\n",
       "      <td>44183</td>\n",
       "      <td>Other</td>\n",
       "      <td>Affected Language(s)</td>\n",
       "    </tr>\n",
       "  </tbody>\n",
       "</table>\n",
       "</div>"
      ],
      "text/plain": [
       "       case_id case_issue                         issue_category\n",
       "78142    44183      Other  Affected National Origin/Ethnicity(s)\n",
       "78144    44183      Other                   Affected Language(s)"
      ]
     },
     "metadata": {},
     "output_type": "display_data"
    },
    {
     "data": {
      "text/html": [
       "<div>\n",
       "<style scoped>\n",
       "    .dataframe tbody tr th:only-of-type {\n",
       "        vertical-align: middle;\n",
       "    }\n",
       "\n",
       "    .dataframe tbody tr th {\n",
       "        vertical-align: top;\n",
       "    }\n",
       "\n",
       "    .dataframe thead th {\n",
       "        text-align: right;\n",
       "    }\n",
       "</style>\n",
       "<table border=\"1\" class=\"dataframe\">\n",
       "  <thead>\n",
       "    <tr style=\"text-align: right;\">\n",
       "      <th></th>\n",
       "      <th>case_id</th>\n",
       "      <th>case_issue</th>\n",
       "      <th>issue_category</th>\n",
       "    </tr>\n",
       "  </thead>\n",
       "  <tbody>\n",
       "    <tr>\n",
       "      <th>17985</th>\n",
       "      <td>45091</td>\n",
       "      <td>Other</td>\n",
       "      <td>Affected National Origin/Ethnicity(s)</td>\n",
       "    </tr>\n",
       "    <tr>\n",
       "      <th>17986</th>\n",
       "      <td>45091</td>\n",
       "      <td>Other</td>\n",
       "      <td>Affected Language(s)</td>\n",
       "    </tr>\n",
       "  </tbody>\n",
       "</table>\n",
       "</div>"
      ],
      "text/plain": [
       "       case_id case_issue                         issue_category\n",
       "17985    45091      Other  Affected National Origin/Ethnicity(s)\n",
       "17986    45091      Other                   Affected Language(s)"
      ]
     },
     "metadata": {},
     "output_type": "display_data"
    }
   ],
   "source": [
    "for case_id in multi_match[multi_match[\"issue_category\"] > 1].index.to_list():\n",
    "    display(issues[(issues[\"case_issue\"] == \"Other\") & (issues[\"case_id\"] == case_id)])"
   ]
  },
  {
   "cell_type": "markdown",
   "id": "ac81d5b6",
   "metadata": {},
   "source": [
    "It's reasonable that multiple issue categories could have \"other\" issue, so leave these as is."
   ]
  },
  {
   "cell_type": "markdown",
   "id": "0d31d869-cbaa-4fc5-9974-d585faf84b20",
   "metadata": {},
   "source": [
    "## Do another round of EDA"
   ]
  },
  {
   "cell_type": "code",
   "execution_count": 38,
   "id": "f467aed6-4dc5-4732-880a-65caa0cc76d9",
   "metadata": {
    "scrolled": true
   },
   "outputs": [
    {
     "data": {
      "text/plain": [
       "case_issue\n",
       "Funding    2\n",
       "Other      3\n",
       "Spanish    2\n",
       "Name: issue_category, dtype: int64"
      ]
     },
     "execution_count": 38,
     "metadata": {},
     "output_type": "execute_result"
    }
   ],
   "source": [
    "issue_category_counts = issues.groupby('case_issue')['issue_category'].nunique()\n",
    "issue_category_counts[issue_category_counts > 1]"
   ]
  },
  {
   "cell_type": "code",
   "execution_count": 39,
   "id": "7b05dc3e-cf8c-443e-b9c4-478c85e563b1",
   "metadata": {
    "scrolled": true
   },
   "outputs": [
    {
     "data": {
      "text/plain": [
       "issue_category\n",
       "Affected Language(s)                                          5\n",
       "Affected National Origin/Ethnicity(s)                         6\n",
       "Affected Race(s)                                              5\n",
       "Affected Religion(s)                                          7\n",
       "Affected Sex/Gender(s)                                        4\n",
       "Benefits (Source)                                            15\n",
       "COVID-19                                                     32\n",
       "Death Penalty                                                 4\n",
       "Disability and Disability Rights                             29\n",
       "Discrimination Area                                          22\n",
       "Discrimination Basis                                         13\n",
       "EEOC-centric                                                  5\n",
       "Environmental Justice and Resources                           7\n",
       "General/Misc.                                                97\n",
       "Immigration/Border                                           40\n",
       "Jails, Prisons, Detention Centers, and Other Institutions    33\n",
       "LGBTQ+                                                        4\n",
       "Medical/Mental Health Care                                   24\n",
       "Policing                                                     14\n",
       "Presidential/Gubernatorial Authority                          6\n",
       "Reproductive rights                                          25\n",
       "Voting                                                       12\n",
       "Name: case_issue, dtype: int64"
      ]
     },
     "execution_count": 39,
     "metadata": {},
     "output_type": "execute_result"
    }
   ],
   "source": [
    "issues.groupby('issue_category')['case_issue'].nunique()"
   ]
  },
  {
   "cell_type": "markdown",
   "id": "341010e5-8e19-4e70-9d1a-cbba8d4f2f5b",
   "metadata": {},
   "source": [
    "## For each case_id and each issue_category, produce the list of case_issue"
   ]
  },
  {
   "cell_type": "code",
   "execution_count": 40,
   "id": "ce0e81f5-693f-4ecd-aedf-cf99eedd91c6",
   "metadata": {
    "scrolled": true
   },
   "outputs": [
    {
     "data": {
      "text/html": [
       "<div>\n",
       "<style scoped>\n",
       "    .dataframe tbody tr th:only-of-type {\n",
       "        vertical-align: middle;\n",
       "    }\n",
       "\n",
       "    .dataframe tbody tr th {\n",
       "        vertical-align: top;\n",
       "    }\n",
       "\n",
       "    .dataframe thead th {\n",
       "        text-align: right;\n",
       "    }\n",
       "</style>\n",
       "<table border=\"1\" class=\"dataframe\">\n",
       "  <thead>\n",
       "    <tr style=\"text-align: right;\">\n",
       "      <th></th>\n",
       "      <th>case_id</th>\n",
       "      <th>issue_category</th>\n",
       "      <th>case_issue</th>\n",
       "    </tr>\n",
       "  </thead>\n",
       "  <tbody>\n",
       "    <tr>\n",
       "      <th>0</th>\n",
       "      <td>2</td>\n",
       "      <td>General/Misc.</td>\n",
       "      <td>[Education]</td>\n",
       "    </tr>\n",
       "    <tr>\n",
       "      <th>1</th>\n",
       "      <td>3</td>\n",
       "      <td>Disability and Disability Rights</td>\n",
       "      <td>[Intellectual/developmental disability, unspec...</td>\n",
       "    </tr>\n",
       "    <tr>\n",
       "      <th>2</th>\n",
       "      <td>3</td>\n",
       "      <td>General/Misc.</td>\n",
       "      <td>[Government services, Juveniles, Family reunif...</td>\n",
       "    </tr>\n",
       "    <tr>\n",
       "      <th>3</th>\n",
       "      <td>3</td>\n",
       "      <td>Jails, Prisons, Detention Centers, and Other I...</td>\n",
       "      <td>[Assault/abuse by staff (facilities), Placemen...</td>\n",
       "    </tr>\n",
       "    <tr>\n",
       "      <th>4</th>\n",
       "      <td>5</td>\n",
       "      <td>Affected Sex/Gender(s)</td>\n",
       "      <td>[Female, Male]</td>\n",
       "    </tr>\n",
       "  </tbody>\n",
       "</table>\n",
       "</div>"
      ],
      "text/plain": [
       "   case_id                                     issue_category  \\\n",
       "0        2                                      General/Misc.   \n",
       "1        3                   Disability and Disability Rights   \n",
       "2        3                                      General/Misc.   \n",
       "3        3  Jails, Prisons, Detention Centers, and Other I...   \n",
       "4        5                             Affected Sex/Gender(s)   \n",
       "\n",
       "                                          case_issue  \n",
       "0                                        [Education]  \n",
       "1  [Intellectual/developmental disability, unspec...  \n",
       "2  [Government services, Juveniles, Family reunif...  \n",
       "3  [Assault/abuse by staff (facilities), Placemen...  \n",
       "4                                     [Female, Male]  "
      ]
     },
     "execution_count": 40,
     "metadata": {},
     "output_type": "execute_result"
    }
   ],
   "source": [
    "grouped = issues.groupby([\"case_id\", \"issue_category\"])[\"case_issue\"].agg(list).reset_index()\n",
    "grouped.head()"
   ]
  },
  {
   "cell_type": "markdown",
   "id": "e2612bd2-9440-4dd2-958e-977c62c93f36",
   "metadata": {},
   "source": [
    "## Confirm no duplicate issue_category for each case_id"
   ]
  },
  {
   "cell_type": "code",
   "execution_count": 41,
   "id": "cdb452a3-0694-49ed-8bc1-f67da4c9650d",
   "metadata": {},
   "outputs": [],
   "source": [
    "case_category_count = grouped[[\"case_id\", \"issue_category\"]].groupby(\"case_id\").value_counts()\n",
    "assert len(case_category_count[case_category_count > 1]) == 0"
   ]
  },
  {
   "cell_type": "markdown",
   "id": "92102849-38e7-462e-bdc4-eeaa4f38a5e0",
   "metadata": {},
   "source": [
    "## To make it easier to map case to issue category and issues, put the issue data into a dict"
   ]
  },
  {
   "cell_type": "code",
   "execution_count": 42,
   "id": "8cd671ab-1caf-4c3e-bb12-ac248c58d475",
   "metadata": {
    "scrolled": true
   },
   "outputs": [
    {
     "name": "stderr",
     "output_type": "stream",
     "text": [
      "/var/folders/rx/3t2jtk8j69j_db_cydq_v6wc0000gn/T/ipykernel_48587/4166144190.py:1: DeprecationWarning: DataFrameGroupBy.apply operated on the grouping columns. This behavior is deprecated, and in a future version of pandas the grouping columns will be excluded from the operation. Either pass `include_groups=False` to exclude the groupings or explicitly select the grouping columns after groupby to silence this warning.\n",
      "  issue_data = grouped.groupby('case_id').apply(\n"
     ]
    },
    {
     "data": {
      "text/html": [
       "<div>\n",
       "<style scoped>\n",
       "    .dataframe tbody tr th:only-of-type {\n",
       "        vertical-align: middle;\n",
       "    }\n",
       "\n",
       "    .dataframe tbody tr th {\n",
       "        vertical-align: top;\n",
       "    }\n",
       "\n",
       "    .dataframe thead th {\n",
       "        text-align: right;\n",
       "    }\n",
       "</style>\n",
       "<table border=\"1\" class=\"dataframe\">\n",
       "  <thead>\n",
       "    <tr style=\"text-align: right;\">\n",
       "      <th></th>\n",
       "      <th>case_id</th>\n",
       "      <th>issue_data</th>\n",
       "    </tr>\n",
       "  </thead>\n",
       "  <tbody>\n",
       "    <tr>\n",
       "      <th>0</th>\n",
       "      <td>2</td>\n",
       "      <td>{'General/Misc.': ['Education']}</td>\n",
       "    </tr>\n",
       "    <tr>\n",
       "      <th>1</th>\n",
       "      <td>3</td>\n",
       "      <td>{'Disability and Disability Rights': ['Intelle...</td>\n",
       "    </tr>\n",
       "    <tr>\n",
       "      <th>2</th>\n",
       "      <td>5</td>\n",
       "      <td>{'Affected Sex/Gender(s)': ['Female', 'Male'],...</td>\n",
       "    </tr>\n",
       "    <tr>\n",
       "      <th>3</th>\n",
       "      <td>6</td>\n",
       "      <td>{'Disability and Disability Rights': ['Learnin...</td>\n",
       "    </tr>\n",
       "    <tr>\n",
       "      <th>4</th>\n",
       "      <td>7</td>\n",
       "      <td>{'General/Misc.': ['Failure to train', 'Family...</td>\n",
       "    </tr>\n",
       "  </tbody>\n",
       "</table>\n",
       "</div>"
      ],
      "text/plain": [
       "   case_id                                         issue_data\n",
       "0        2                   {'General/Misc.': ['Education']}\n",
       "1        3  {'Disability and Disability Rights': ['Intelle...\n",
       "2        5  {'Affected Sex/Gender(s)': ['Female', 'Male'],...\n",
       "3        6  {'Disability and Disability Rights': ['Learnin...\n",
       "4        7  {'General/Misc.': ['Failure to train', 'Family..."
      ]
     },
     "execution_count": 42,
     "metadata": {},
     "output_type": "execute_result"
    }
   ],
   "source": [
    "issue_data = grouped.groupby('case_id').apply(\n",
    "    lambda x: dict(zip(x['issue_category'], x['case_issue']))\n",
    ").reset_index(name='issue_data')\n",
    "\n",
    "issue_data.head()"
   ]
  },
  {
   "cell_type": "code",
   "execution_count": 43,
   "id": "157f7809-8ecb-4ff1-b3ce-24e895a953b2",
   "metadata": {},
   "outputs": [],
   "source": [
    "assert len(issue_data) == issue_data[\"case_id\"].nunique()"
   ]
  },
  {
   "cell_type": "code",
   "execution_count": 44,
   "id": "6cc404ad-6dbe-4c12-acb9-43e35a394887",
   "metadata": {},
   "outputs": [
    {
     "data": {
      "text/plain": [
       "11884"
      ]
     },
     "execution_count": 44,
     "metadata": {},
     "output_type": "execute_result"
    }
   ],
   "source": [
    "len(issue_data)"
   ]
  },
  {
   "cell_type": "markdown",
   "id": "b5be08de-5f9c-4456-9421-db94af5f1007",
   "metadata": {},
   "source": [
    "## Save the issue data for future use"
   ]
  },
  {
   "cell_type": "code",
   "execution_count": 45,
   "id": "a966d60a-7edd-4a4b-8936-d1fb7959cdca",
   "metadata": {},
   "outputs": [],
   "source": [
    "issue_data.to_json(\"data/case_issues.json\")"
   ]
  }
 ],
 "metadata": {
  "kernelspec": {
   "display_name": "Python 3 (ipykernel)",
   "language": "python",
   "name": "python3"
  },
  "language_info": {
   "codemirror_mode": {
    "name": "ipython",
    "version": 3
   },
   "file_extension": ".py",
   "mimetype": "text/x-python",
   "name": "python",
   "nbconvert_exporter": "python",
   "pygments_lexer": "ipython3",
   "version": "3.11.11"
  }
 },
 "nbformat": 4,
 "nbformat_minor": 5
}
