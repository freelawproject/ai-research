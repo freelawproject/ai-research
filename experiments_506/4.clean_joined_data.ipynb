{
 "cells": [
  {
   "cell_type": "markdown",
   "id": "1ae3228d-b79a-47fd-b551-041b91a92b6a",
   "metadata": {},
   "source": [
    "# Clean the joined data & look at the category distribution"
   ]
  },
  {
   "cell_type": "markdown",
   "id": "93fbcaee-6640-4b5d-ad74-9f8e4d99ae52",
   "metadata": {},
   "source": [
    "# Import Libaries"
   ]
  },
  {
   "cell_type": "code",
   "execution_count": 1,
   "id": "023f7305-f89d-4a77-aa22-5c44e49631e0",
   "metadata": {},
   "outputs": [],
   "source": [
    "import pandas as pd\n",
    "\n",
    "from sklearn.preprocessing import MultiLabelBinarizer"
   ]
  },
  {
   "cell_type": "markdown",
   "id": "916ff19b-bbc9-4d42-b345-9ce429e2d881",
   "metadata": {},
   "source": [
    "# Load the dataset"
   ]
  },
  {
   "cell_type": "code",
   "execution_count": 2,
   "id": "5fc7d49d-2c4b-45e4-adc2-691f4a66da85",
   "metadata": {},
   "outputs": [],
   "source": [
    "df = pd.read_json(\"data/case_with_complaint_opinion.json\")"
   ]
  },
  {
   "cell_type": "markdown",
   "id": "8cd50cb3",
   "metadata": {},
   "source": [
    "## Do some EDA on the cases with complaint or opinion"
   ]
  },
  {
   "cell_type": "code",
   "execution_count": 3,
   "id": "3265c179",
   "metadata": {},
   "outputs": [
    {
     "name": "stderr",
     "output_type": "stream",
     "text": [
      "/var/folders/rx/3t2jtk8j69j_db_cydq_v6wc0000gn/T/ipykernel_64459/4243622104.py:2: SettingWithCopyWarning: \n",
      "A value is trying to be set on a copy of a slice from a DataFrame.\n",
      "Try using .loc[row_indexer,col_indexer] = value instead\n",
      "\n",
      "See the caveats in the documentation: https://pandas.pydata.org/pandas-docs/stable/user_guide/indexing.html#returning-a-view-versus-a-copy\n",
      "  subset[\"issue_category\"] = subset[\"issue_category\"].apply(tuple)\n",
      "/var/folders/rx/3t2jtk8j69j_db_cydq_v6wc0000gn/T/ipykernel_64459/4243622104.py:3: SettingWithCopyWarning: \n",
      "A value is trying to be set on a copy of a slice from a DataFrame.\n",
      "Try using .loc[row_indexer,col_indexer] = value instead\n",
      "\n",
      "See the caveats in the documentation: https://pandas.pydata.org/pandas-docs/stable/user_guide/indexing.html#returning-a-view-versus-a-copy\n",
      "  subset[\"issues\"] = subset[\"issues\"].apply(tuple)\n"
     ]
    }
   ],
   "source": [
    "subset = df[[\"case_id\", \"case_state\", \"court_name\", \"case_type\", \"case_ongoing\", \"issue_category\", \"issues\"]]\n",
    "subset[\"issue_category\"] = subset[\"issue_category\"].apply(tuple)\n",
    "subset[\"issues\"] = subset[\"issues\"].apply(tuple)\n",
    "subset = subset.drop_duplicates()\n",
    "assert len(subset) == subset[\"case_id\"].nunique()"
   ]
  },
  {
   "cell_type": "code",
   "execution_count": 4,
   "id": "5e208b26",
   "metadata": {},
   "outputs": [],
   "source": [
    "cols = [\"case_state\", \"court_name\", \"case_type\", \"case_ongoing\"]"
   ]
  },
  {
   "cell_type": "code",
   "execution_count": 5,
   "id": "ee3da980",
   "metadata": {
    "scrolled": true
   },
   "outputs": [
    {
     "name": "stdout",
     "output_type": "stream",
     "text": [
      "--- case_state ---\n"
     ]
    },
    {
     "data": {
      "text/plain": [
       "55"
      ]
     },
     "metadata": {},
     "output_type": "display_data"
    },
    {
     "data": {
      "text/plain": [
       "case_state\n",
       "California                  795\n",
       "New York                    654\n",
       "District of Columbia        539\n",
       "Texas                       503\n",
       "Illinois                    468\n",
       "Florida                     338\n",
       "Michigan                    329\n",
       "Pennsylvania                310\n",
       "Alabama                     246\n",
       "Georgia                     212\n",
       "Washington                  205\n",
       "Louisiana                   192\n",
       "Maryland                    191\n",
       "North Carolina              183\n",
       "Ohio                        179\n",
       "Massachusetts               172\n",
       "Arizona                     160\n",
       "Missouri                    160\n",
       "Indiana                     151\n",
       "Tennessee                   143\n",
       "New Jersey                  142\n",
       "Colorado                    142\n",
       "Virginia                    127\n",
       "Mississippi                 116\n",
       "Arkansas                    103\n",
       "Minnesota                    88\n",
       "Oregon                       87\n",
       "Connecticut                  86\n",
       "Wisconsin                    85\n",
       "New Mexico                   84\n",
       "Kentucky                     82\n",
       "Idaho                        76\n",
       "South Carolina               73\n",
       "Oklahoma                     69\n",
       "Iowa                         59\n",
       "Nevada                       57\n",
       "Kansas                       54\n",
       "Utah                         49\n",
       "Montana                      43\n",
       "West Virginia                43\n",
       "Nebraska                     38\n",
       "South Dakota                 36\n",
       "Maine                        35\n",
       "Rhode Island                 35\n",
       "Hawaii                       34\n",
       "Alaska                       33\n",
       "Delaware                     31\n",
       "New Hampshire                30\n",
       "Vermont                      22\n",
       "North Dakota                 22\n",
       "Wyoming                      21\n",
       "Puerto Rico                  21\n",
       "Northern Mariana Islands      7\n",
       "Virgin Islands                6\n",
       "Guam                          4\n",
       "Name: count, dtype: int64"
      ]
     },
     "metadata": {},
     "output_type": "display_data"
    },
    {
     "name": "stdout",
     "output_type": "stream",
     "text": [
      "--- court_name ---\n"
     ]
    },
    {
     "data": {
      "text/plain": [
       "185"
      ]
     },
     "metadata": {},
     "output_type": "display_data"
    },
    {
     "data": {
      "text/plain": [
       "court_name\n",
       "District of District of Columbia               481\n",
       "Northern District of Illinois                  392\n",
       "Northern District of California                372\n",
       "Southern District of New York                  367\n",
       "Eastern District of Michigan                   232\n",
       "                                              ... \n",
       "U.S. Court of Appeals for the Fifth Circuit      1\n",
       "Kansas state appellate court                     1\n",
       "Massachusetts state appellate court              1\n",
       "Washington state appellate court                 1\n",
       "South Dakota state trial court                   1\n",
       "Name: count, Length: 185, dtype: int64"
      ]
     },
     "metadata": {},
     "output_type": "display_data"
    },
    {
     "name": "stdout",
     "output_type": "stream",
     "text": [
      "--- case_type ---\n"
     ]
    },
    {
     "data": {
      "text/plain": [
       "27"
      ]
     },
     "metadata": {},
     "output_type": "display_data"
    },
    {
     "data": {
      "text/plain": [
       "case_type\n",
       "Equal Employment                             1914\n",
       "Prison Conditions                             908\n",
       "Immigration and/or the Border                 834\n",
       "Election/Voting Rights                        684\n",
       "Jail Conditions                               581\n",
       "Public Benefits/Government Services           420\n",
       "Disability Rights                             359\n",
       "Policing                                      335\n",
       "Criminal Justice (Other)                      291\n",
       "Speech and Religious Freedom                  280\n",
       "Healthcare Access and Reproductive Issues     226\n",
       "Education                                     221\n",
       "Fair Housing/Lending/Insurance                201\n",
       "National Security                             198\n",
       "Juvenile Institution                          153\n",
       "Presidential/Gubernatorial Authority          125\n",
       "Intellectual Disability (Facility)             84\n",
       "Child Welfare                                  75\n",
       "School Desegregation                           67\n",
       "Mental Health (Facility)                       62\n",
       "Indigent Defense                               51\n",
       "Public Accommodations/Contracting              36\n",
       "Public Housing                                 23\n",
       "Environmental Justice                          19\n",
       "Nursing Home Conditions                        18\n",
       "Labor Rights                                    4\n",
       "Reparations                                     1\n",
       "Name: count, dtype: int64"
      ]
     },
     "metadata": {},
     "output_type": "display_data"
    },
    {
     "name": "stdout",
     "output_type": "stream",
     "text": [
      "--- case_ongoing ---\n"
     ]
    },
    {
     "data": {
      "text/plain": [
       "5"
      ]
     },
     "metadata": {},
     "output_type": "display_data"
    },
    {
     "data": {
      "text/plain": [
       "case_ongoing\n",
       "No                           5646\n",
       "Yes                          2008\n",
       "No reason to think so         400\n",
       "Perhaps, but long-dormant      73\n",
       "Unknown                        43\n",
       "Name: count, dtype: int64"
      ]
     },
     "metadata": {},
     "output_type": "display_data"
    }
   ],
   "source": [
    "for col in cols:\n",
    "    print(\"---\", col, \"---\")\n",
    "    display(subset[col].nunique())\n",
    "    display(subset[col].value_counts())"
   ]
  },
  {
   "cell_type": "markdown",
   "id": "04167d47-57fa-4b10-ac2d-dd0ff5d6ffe5",
   "metadata": {},
   "source": [
    "## Look at the issue category distribution"
   ]
  },
  {
   "cell_type": "code",
   "execution_count": 6,
   "id": "a15d3ba1",
   "metadata": {},
   "outputs": [
    {
     "data": {
      "text/plain": [
       "(8170, 22)"
      ]
     },
     "execution_count": 6,
     "metadata": {},
     "output_type": "execute_result"
    }
   ],
   "source": [
    "mlb = MultiLabelBinarizer()\n",
    "binary_matrix = mlb.fit_transform(subset['issue_category'].to_list())\n",
    "binary_matrix.shape"
   ]
  },
  {
   "cell_type": "code",
   "execution_count": 7,
   "id": "581b1814",
   "metadata": {},
   "outputs": [
    {
     "data": {
      "text/plain": [
       "General/Misc.                                                5285\n",
       "Discrimination Basis                                         4192\n",
       "Discrimination Area                                          2822\n",
       "Affected Sex/Gender(s)                                       1935\n",
       "Jails, Prisons, Detention Centers, and Other Institutions    1916\n",
       "EEOC-centric                                                 1419\n",
       "Affected Race(s)                                             1131\n",
       "Disability and Disability Rights                             1090\n",
       "Medical/Mental Health Care                                   1030\n",
       "Immigration/Border                                            876\n",
       "Voting                                                        713\n",
       "Affected National Origin/Ethnicity(s)                         520\n",
       "Policing                                                      471\n",
       "Reproductive rights                                           419\n",
       "LGBTQ+                                                        371\n",
       "Benefits (Source)                                             294\n",
       "COVID-19                                                      217\n",
       "Presidential/Gubernatorial Authority                           92\n",
       "Affected Language(s)                                           64\n",
       "Death Penalty                                                  51\n",
       "Environmental Justice and Resources                            18\n",
       "Affected Religion(s)                                           14\n",
       "dtype: int64"
      ]
     },
     "execution_count": 7,
     "metadata": {},
     "output_type": "execute_result"
    }
   ],
   "source": [
    "category_df = pd.DataFrame(binary_matrix, columns=mlb.classes_)\n",
    "category_df.sum().sort_values(ascending=False)"
   ]
  },
  {
   "cell_type": "markdown",
   "id": "3705bdd6-7409-4656-a09f-98e7c1eb053f",
   "metadata": {},
   "source": [
    "## Given some categories have very few samples, select only the categories that have at least 200 cases so we have enough data for training"
   ]
  },
  {
   "cell_type": "code",
   "execution_count": 8,
   "id": "18bfa8fb-7e79-4f6b-a01f-189be346fbd8",
   "metadata": {},
   "outputs": [
    {
     "data": {
      "text/plain": [
       "Index(['General/Misc.', 'Discrimination Basis', 'Discrimination Area',\n",
       "       'Affected Sex/Gender(s)',\n",
       "       'Jails, Prisons, Detention Centers, and Other Institutions',\n",
       "       'EEOC-centric', 'Affected Race(s)', 'Disability and Disability Rights',\n",
       "       'Medical/Mental Health Care', 'Immigration/Border', 'Voting',\n",
       "       'Affected National Origin/Ethnicity(s)', 'Policing',\n",
       "       'Reproductive rights', 'LGBTQ+', 'Benefits (Source)', 'COVID-19'],\n",
       "      dtype='object')"
      ]
     },
     "execution_count": 8,
     "metadata": {},
     "output_type": "execute_result"
    }
   ],
   "source": [
    "categories = category_df.sum().sort_values(ascending=False).index[:-5]\n",
    "categories"
   ]
  },
  {
   "cell_type": "code",
   "execution_count": 9,
   "id": "cb392855-bf20-42ed-b3e8-a239dc834258",
   "metadata": {},
   "outputs": [
    {
     "data": {
      "text/plain": [
       "17"
      ]
     },
     "execution_count": 9,
     "metadata": {},
     "output_type": "execute_result"
    }
   ],
   "source": [
    "len(categories)"
   ]
  },
  {
   "cell_type": "code",
   "execution_count": 10,
   "id": "4571771c-e2c5-4973-aa0b-1c4e8a78bb02",
   "metadata": {},
   "outputs": [
    {
     "data": {
      "text/plain": [
       "22391"
      ]
     },
     "execution_count": 10,
     "metadata": {},
     "output_type": "execute_result"
    }
   ],
   "source": [
    "len(df)"
   ]
  },
  {
   "cell_type": "code",
   "execution_count": 11,
   "id": "aa2b00d0-32bd-45fe-a0f5-fcb5dd9d941b",
   "metadata": {},
   "outputs": [
    {
     "data": {
      "text/plain": [
       "22170"
      ]
     },
     "execution_count": 11,
     "metadata": {},
     "output_type": "execute_result"
    }
   ],
   "source": [
    "df['issue_category'] = df['issue_category'].apply(lambda labels: [label for label in labels if label in categories])\n",
    "df = df[df['issue_category'].str.len() > 0].reset_index(drop=True)\n",
    "len(df)"
   ]
  },
  {
   "cell_type": "code",
   "execution_count": 12,
   "id": "cec20c01-a37a-41f9-8626-44416a0a8170",
   "metadata": {},
   "outputs": [
    {
     "data": {
      "text/plain": [
       "8078"
      ]
     },
     "execution_count": 12,
     "metadata": {},
     "output_type": "execute_result"
    }
   ],
   "source": [
    "df[\"case_id\"].nunique()"
   ]
  },
  {
   "cell_type": "markdown",
   "id": "a2b747a2-b3fd-42c4-9d6a-c37c7ea2ce95",
   "metadata": {},
   "source": [
    "## Inspect the token distribution by case_id"
   ]
  },
  {
   "cell_type": "markdown",
   "id": "e00afb67-25e9-4252-861a-fe8c2dcb8e99",
   "metadata": {},
   "source": [
    "Majority of the cases have more than 40K tokens, with very few cases have excessively long (and likely many) documents. Given the model context window 8,192 tokens, we need to apply some kind of aggregation on the embeddings by case such that we end up with one embedding per case."
   ]
  },
  {
   "cell_type": "code",
   "execution_count": 13,
   "id": "cc710a30-8757-456e-971c-41b2bbbdbab6",
   "metadata": {
    "scrolled": true
   },
   "outputs": [
    {
     "data": {
      "text/html": [
       "<div>\n",
       "<style scoped>\n",
       "    .dataframe tbody tr th:only-of-type {\n",
       "        vertical-align: middle;\n",
       "    }\n",
       "\n",
       "    .dataframe tbody tr th {\n",
       "        vertical-align: top;\n",
       "    }\n",
       "\n",
       "    .dataframe thead th {\n",
       "        text-align: right;\n",
       "    }\n",
       "</style>\n",
       "<table border=\"1\" class=\"dataframe\">\n",
       "  <thead>\n",
       "    <tr style=\"text-align: right;\">\n",
       "      <th></th>\n",
       "      <th>num_tokens</th>\n",
       "    </tr>\n",
       "  </thead>\n",
       "  <tbody>\n",
       "    <tr>\n",
       "      <th>count</th>\n",
       "      <td>8,078</td>\n",
       "    </tr>\n",
       "    <tr>\n",
       "      <th>mean</th>\n",
       "      <td>36,105</td>\n",
       "    </tr>\n",
       "    <tr>\n",
       "      <th>std</th>\n",
       "      <td>60,463</td>\n",
       "    </tr>\n",
       "    <tr>\n",
       "      <th>min</th>\n",
       "      <td>253</td>\n",
       "    </tr>\n",
       "    <tr>\n",
       "      <th>25%</th>\n",
       "      <td>5,911</td>\n",
       "    </tr>\n",
       "    <tr>\n",
       "      <th>50%</th>\n",
       "      <td>16,612</td>\n",
       "    </tr>\n",
       "    <tr>\n",
       "      <th>75%</th>\n",
       "      <td>41,350</td>\n",
       "    </tr>\n",
       "    <tr>\n",
       "      <th>max</th>\n",
       "      <td>1,020,302</td>\n",
       "    </tr>\n",
       "  </tbody>\n",
       "</table>\n",
       "</div>"
      ],
      "text/plain": [
       "       num_tokens\n",
       "count       8,078\n",
       "mean       36,105\n",
       "std        60,463\n",
       "min           253\n",
       "25%         5,911\n",
       "50%        16,612\n",
       "75%        41,350\n",
       "max     1,020,302"
      ]
     },
     "execution_count": 13,
     "metadata": {},
     "output_type": "execute_result"
    }
   ],
   "source": [
    "token_df = df[[\"case_id\", \"doc_len\"]].groupby(\"case_id\").sum() / 4\n",
    "token_df = token_df.rename(columns={\"doc_len\": \"num_tokens\"})\n",
    "\n",
    "pd.set_option('display.float_format', '{:,.0f}'.format)  # No decimals, add commas\n",
    "token_df.describe()"
   ]
  },
  {
   "cell_type": "markdown",
   "id": "428b00b7-cdbe-4d86-bf95-a0166409c7b0",
   "metadata": {},
   "source": [
    "## Save the cleaned joined data for future use"
   ]
  },
  {
   "cell_type": "code",
   "execution_count": 14,
   "id": "fe1ff1b9-fa09-4922-9391-de4b955124a4",
   "metadata": {},
   "outputs": [],
   "source": [
    "df.to_json(\"data/clean_joined.json\")"
   ]
  }
 ],
 "metadata": {
  "kernelspec": {
   "display_name": "Python 3 (ipykernel)",
   "language": "python",
   "name": "python3"
  },
  "language_info": {
   "codemirror_mode": {
    "name": "ipython",
    "version": 3
   },
   "file_extension": ".py",
   "mimetype": "text/x-python",
   "name": "python",
   "nbconvert_exporter": "python",
   "pygments_lexer": "ipython3",
   "version": "3.11.11"
  }
 },
 "nbformat": 4,
 "nbformat_minor": 5
}
