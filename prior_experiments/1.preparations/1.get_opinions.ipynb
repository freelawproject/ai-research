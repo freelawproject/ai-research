{
 "cells": [
  {
   "cell_type": "markdown",
   "id": "fe3fbd69-8c92-4326-bdd3-b1b5e8e2babd",
   "metadata": {},
   "source": [
    "# Use a helper function to download all opinions from CL\n",
    "\n",
    "To avoid repeatedly calling CL to get the opinions, this notebook downloads the opinions from CL for the experiments."
   ]
  },
  {
   "cell_type": "markdown",
   "id": "5d77c4f5-cc34-4593-a0ca-1cdf55f4134c",
   "metadata": {},
   "source": [
    "# Import libraries"
   ]
  },
  {
   "cell_type": "code",
   "execution_count": 1,
   "id": "5fc53bfb-eb3a-4714-b287-72fb84877a40",
   "metadata": {},
   "outputs": [],
   "source": [
    "import pandas as pd\n",
    "\n",
    "from cl_utils import save_opinions_df"
   ]
  },
  {
   "cell_type": "markdown",
   "id": "bb6af2cf-8b4e-42f2-9db7-acafebefd998",
   "metadata": {},
   "source": [
    "# Load the dataset"
   ]
  },
  {
   "cell_type": "code",
   "execution_count": 2,
   "id": "068a5d5b-379b-4d79-9abc-5380d7049b7e",
   "metadata": {
    "scrolled": true
   },
   "outputs": [
    {
     "data": {
      "text/plain": [
       "1084"
      ]
     },
     "execution_count": 2,
     "metadata": {},
     "output_type": "execute_result"
    }
   ],
   "source": [
    "df = pd.read_csv(\"data/dataset.csv\")\n",
    "len(df)"
   ]
  },
  {
   "cell_type": "markdown",
   "id": "fba2d544-dc0e-4f62-97e4-e84a3fcb3e25",
   "metadata": {},
   "source": [
    "# Clean up the dataset to only get unique opinions"
   ]
  },
  {
   "cell_type": "code",
   "execution_count": 3,
   "id": "905f7a93-01a1-44fa-95a0-ff5305b9b632",
   "metadata": {
    "scrolled": true
   },
   "outputs": [
    {
     "data": {
      "text/plain": [
       "133"
      ]
     },
     "execution_count": 3,
     "metadata": {},
     "output_type": "execute_result"
    }
   ],
   "source": [
    "columns = [\"citing_opinion_id\", \"court\", \"docket_id\", \"cluster_id\"]\n",
    "df = df[columns].drop_duplicates(subset=columns).reset_index(drop=True)\n",
    "len(df)"
   ]
  },
  {
   "cell_type": "markdown",
   "id": "17501dae-aa68-43aa-be67-f1163db27338",
   "metadata": {},
   "source": [
    "# Download the opinions and save"
   ]
  },
  {
   "cell_type": "code",
   "execution_count": 4,
   "id": "68fb6fe7-7b35-4996-94bf-85701be4848d",
   "metadata": {
    "scrolled": true
   },
   "outputs": [
    {
     "name": "stdout",
     "output_type": "stream",
     "text": [
      "Saved 1 opinions for opinion: 91306\n",
      "Completed: 0\n",
      "Saved 4 opinions for opinion: 92059\n",
      "Saved 1 opinions for opinion: 92291\n",
      "Saved 1 opinions for opinion: 93311\n",
      "Saved 1 opinions for opinion: 93904\n",
      "Saved 1 opinions for opinion: 98124\n",
      "Saved 3 opinions for opinion: 98917\n",
      "Saved 1 opinions for opinion: 99004\n",
      "Saved 1 opinions for opinion: 99901\n",
      "Saved 1 opinions for opinion: 101368\n",
      "Saved 1 opinions for opinion: 101750\n",
      "Completed: 10\n",
      "Saved 1 opinions for opinion: 101913\n",
      "Saved 1 opinions for opinion: 102164\n",
      "Saved 1 opinions for opinion: 102784\n",
      "Saved 3 opinions for opinion: 103012\n",
      "Saved 4 opinions for opinion: 103172\n",
      "Saved 3 opinions for opinion: 103214\n",
      "Saved 1 opinions for opinion: 103198\n",
      "Saved 4 opinions for opinion: 103292\n",
      "Saved 4 opinions for opinion: 103290\n",
      "Saved 1 opinions for opinion: 103351\n",
      "Completed: 20\n",
      "Saved 4 opinions for opinion: 103557\n",
      "Saved 3 opinions for opinion: 103505\n",
      "Saved 1 opinions for opinion: 103522\n",
      "Saved 3 opinions for opinion: 103555\n",
      "Saved 1 opinions for opinion: 103493\n",
      "Saved 1 opinions for opinion: 103442\n",
      "Saved 1 opinions for opinion: 103639\n",
      "Saved 4 opinions for opinion: 103736\n",
      "Saved 1 opinions for opinion: 103761\n",
      "Saved 4 opinions for opinion: 103831\n",
      "Completed: 30\n",
      "Saved 3 opinions for opinion: 103869\n",
      "Saved 4 opinions for opinion: 103870\n",
      "Saved 4 opinions for opinion: 103915\n",
      "Saved 1 opinions for opinion: 103927\n",
      "Saved 4 opinions for opinion: 103916\n",
      "Saved 1 opinions for opinion: 103962\n",
      "Saved 3 opinions for opinion: 104285\n",
      "Saved 4 opinions for opinion: 104380\n",
      "Saved 3 opinions for opinion: 2764117\n",
      "Saved 1 opinions for opinion: 104704\n",
      "Completed: 40\n",
      "Saved 1 opinions for opinion: 104610\n",
      "Saved 1 opinions for opinion: 104641\n"
     ]
    },
    {
     "name": "stderr",
     "output_type": "stream",
     "text": [
      "WARNING:root:Error 502. Waiting for 5 seconds before retrying...\n"
     ]
    },
    {
     "name": "stdout",
     "output_type": "stream",
     "text": [
      "Saved 4 opinions for opinion: 105014\n",
      "Saved 3 opinions for opinion: 104965\n",
      "Saved 3 opinions for opinion: 105319\n",
      "Saved 5 opinions for opinion: 105525\n",
      "Saved 4 opinions for opinion: 105543\n",
      "Saved 6 opinions for opinion: 106235\n",
      "Saved 5 opinions for opinion: 106285\n",
      "Saved 1 opinions for opinion: 106576\n",
      "Completed: 50\n",
      "Saved 3 opinions for opinion: 106883\n",
      "Saved 1 opinions for opinion: 107121\n",
      "Saved 3 opinions for opinion: 107081\n",
      "Saved 4 opinions for opinion: 107252\n",
      "Saved 3 opinions for opinion: 107464\n",
      "Saved 1 opinions for opinion: 107473\n",
      "Saved 6 opinions for opinion: 107564\n",
      "Saved 3 opinions for opinion: 107343\n",
      "Saved 3 opinions for opinion: 107689\n",
      "Saved 4 opinions for opinion: 107685\n",
      "Completed: 60\n",
      "Saved 4 opinions for opinion: 107746\n",
      "Saved 1 opinions for opinion: 107606\n",
      "Saved 1 opinions for opinion: 107679\n",
      "Saved 4 opinions for opinion: 107980\n",
      "Saved 4 opinions for opinion: 107965\n",
      "Saved 4 opinions for opinion: 107979\n",
      "Saved 4 opinions for opinion: 107748\n",
      "Saved 4 opinions for opinion: 107973\n",
      "Saved 3 opinions for opinion: 107919\n",
      "Saved 6 opinions for opinion: 108114\n",
      "Completed: 70\n",
      "Saved 4 opinions for opinion: 108154\n",
      "Saved 1 opinions for opinion: 108164\n",
      "Saved 6 opinions for opinion: 108186\n",
      "Saved 3 opinions for opinion: 108362\n",
      "Saved 3 opinions for opinion: 108350\n",
      "Saved 4 opinions for opinion: 108730\n",
      "Saved 1 opinions for opinion: 108721\n",
      "Saved 1 opinions for opinion: 108889\n",
      "Saved 5 opinions for opinion: 108990\n",
      "Saved 1 opinions for opinion: 109252\n",
      "Completed: 80\n",
      "Saved 1 opinions for opinion: 109514\n",
      "Saved 8 opinions for opinion: 109570\n",
      "Saved 1 opinions for opinion: 109346\n",
      "Saved 6 opinions for opinion: 109532\n",
      "Saved 5 opinions for opinion: 109390\n",
      "Saved 4 opinions for opinion: 109508\n",
      "Saved 3 opinions for opinion: 109344\n",
      "Saved 5 opinions for opinion: 109499\n",
      "Saved 5 opinions for opinion: 109450\n",
      "Saved 1 opinions for opinion: 109615\n",
      "Completed: 90\n",
      "Saved 4 opinions for opinion: 109716\n",
      "Saved 4 opinions for opinion: 109580\n",
      "Saved 3 opinions for opinion: 109835\n",
      "Saved 5 opinions for opinion: 109881\n",
      "Saved 3 opinions for opinion: 109895\n",
      "Saved 3 opinions for opinion: 110063\n",
      "Saved 3 opinions for opinion: 110212\n",
      "Saved 3 opinions for opinion: 110325\n",
      "Saved 4 opinions for opinion: 110563\n",
      "Saved 3 opinions for opinion: 110799\n",
      "Completed: 100\n",
      "Saved 6 opinions for opinion: 110719\n",
      "Saved 3 opinions for opinion: 111218\n",
      "Saved 1 opinions for opinion: 111103\n",
      "Saved 5 opinions for opinion: 111308\n",
      "Saved 1 opinions for opinion: 111404\n",
      "Saved 3 opinions for opinion: 111555\n",
      "Saved 4 opinions for opinion: 111940\n",
      "Saved 4 opinions for opinion: 111948\n",
      "Saved 6 opinions for opinion: 112040\n",
      "Saved 3 opinions for opinion: 112276\n",
      "Completed: 110\n",
      "Saved 4 opinions for opinion: 112301\n",
      "Saved 3 opinions for opinion: 112258\n",
      "Saved 3 opinions for opinion: 112471\n",
      "Saved 5 opinions for opinion: 112608\n",
      "Saved 4 opinions for opinion: 112640\n",
      "Saved 1 opinions for opinion: 112609\n",
      "Saved 4 opinions for opinion: 112728\n",
      "Saved 4 opinions for opinion: 112739\n"
     ]
    },
    {
     "name": "stderr",
     "output_type": "stream",
     "text": [
      "WARNING:root:Error 502. Waiting for 5 seconds before retrying...\n"
     ]
    },
    {
     "name": "stdout",
     "output_type": "stream",
     "text": [
      "Saved 1 opinions for opinion: 112906\n",
      "Saved 7 opinions for opinion: 117947\n",
      "Completed: 120\n",
      "Saved 4 opinions for opinion: 117931\n",
      "Saved 3 opinions for opinion: 117958\n",
      "Saved 5 opinions for opinion: 118023\n",
      "Saved 4 opinions for opinion: 118011\n",
      "Saved 4 opinions for opinion: 118133\n",
      "Saved 6 opinions for opinion: 118155\n",
      "Saved 1 opinions for opinion: 118149\n",
      "Saved 4 opinions for opinion: 118230\n",
      "Saved 4 opinions for opinion: 118317\n",
      "Saved 4 opinions for opinion: 118386\n",
      "Completed: 130\n",
      "Saved 4 opinions for opinion: 118428\n",
      "Saved 4 opinions for opinion: 118273\n"
     ]
    },
    {
     "data": {
      "text/html": [
       "<div>\n",
       "<style scoped>\n",
       "    .dataframe tbody tr th:only-of-type {\n",
       "        vertical-align: middle;\n",
       "    }\n",
       "\n",
       "    .dataframe tbody tr th {\n",
       "        vertical-align: top;\n",
       "    }\n",
       "\n",
       "    .dataframe thead th {\n",
       "        text-align: right;\n",
       "    }\n",
       "</style>\n",
       "<table border=\"1\" class=\"dataframe\">\n",
       "  <thead>\n",
       "    <tr style=\"text-align: right;\">\n",
       "      <th></th>\n",
       "      <th>citing_opinion_id</th>\n",
       "      <th>court</th>\n",
       "      <th>docket_id</th>\n",
       "      <th>cluster_id</th>\n",
       "      <th>opinion_types</th>\n",
       "      <th>opinion_sources</th>\n",
       "    </tr>\n",
       "  </thead>\n",
       "  <tbody>\n",
       "    <tr>\n",
       "      <th>0</th>\n",
       "      <td>91306</td>\n",
       "      <td>scotus</td>\n",
       "      <td>2297559</td>\n",
       "      <td>91306</td>\n",
       "      <td>[010combined]</td>\n",
       "      <td>[html_with_citations]</td>\n",
       "    </tr>\n",
       "    <tr>\n",
       "      <th>1</th>\n",
       "      <td>92059</td>\n",
       "      <td>scotus</td>\n",
       "      <td>96842</td>\n",
       "      <td>92059</td>\n",
       "      <td>[040dissent, 030concurrence, 020lead, 010combi...</td>\n",
       "      <td>[xml_harvard, xml_harvard, xml_harvard, html_w...</td>\n",
       "    </tr>\n",
       "    <tr>\n",
       "      <th>2</th>\n",
       "      <td>92291</td>\n",
       "      <td>scotus</td>\n",
       "      <td>2449371</td>\n",
       "      <td>92291</td>\n",
       "      <td>[010combined]</td>\n",
       "      <td>[html_with_citations]</td>\n",
       "    </tr>\n",
       "    <tr>\n",
       "      <th>3</th>\n",
       "      <td>93311</td>\n",
       "      <td>scotus</td>\n",
       "      <td>2397685</td>\n",
       "      <td>93311</td>\n",
       "      <td>[010combined]</td>\n",
       "      <td>[html_with_citations]</td>\n",
       "    </tr>\n",
       "    <tr>\n",
       "      <th>4</th>\n",
       "      <td>93904</td>\n",
       "      <td>scotus</td>\n",
       "      <td>229746</td>\n",
       "      <td>93904</td>\n",
       "      <td>[010combined]</td>\n",
       "      <td>[html_with_citations]</td>\n",
       "    </tr>\n",
       "  </tbody>\n",
       "</table>\n",
       "</div>"
      ],
      "text/plain": [
       "   citing_opinion_id   court  docket_id  cluster_id  \\\n",
       "0              91306  scotus    2297559       91306   \n",
       "1              92059  scotus      96842       92059   \n",
       "2              92291  scotus    2449371       92291   \n",
       "3              93311  scotus    2397685       93311   \n",
       "4              93904  scotus     229746       93904   \n",
       "\n",
       "                                       opinion_types  \\\n",
       "0                                      [010combined]   \n",
       "1  [040dissent, 030concurrence, 020lead, 010combi...   \n",
       "2                                      [010combined]   \n",
       "3                                      [010combined]   \n",
       "4                                      [010combined]   \n",
       "\n",
       "                                     opinion_sources  \n",
       "0                              [html_with_citations]  \n",
       "1  [xml_harvard, xml_harvard, xml_harvard, html_w...  \n",
       "2                              [html_with_citations]  \n",
       "3                              [html_with_citations]  \n",
       "4                              [html_with_citations]  "
      ]
     },
     "execution_count": 4,
     "metadata": {},
     "output_type": "execute_result"
    }
   ],
   "source": [
    "df = save_opinions_df(df)\n",
    "df.head()"
   ]
  },
  {
   "cell_type": "markdown",
   "id": "f46c8f5b-a03d-4179-93b1-8d02140a4345",
   "metadata": {},
   "source": [
    "# Take a look at the distribution of types and sources"
   ]
  },
  {
   "cell_type": "code",
   "execution_count": 5,
   "id": "3ea59e2b-17b6-4b2b-8fd8-899e7bd32733",
   "metadata": {
    "scrolled": true
   },
   "outputs": [
    {
     "data": {
      "text/plain": [
       "{'010combined',\n",
       " '020lead',\n",
       " '030concurrence',\n",
       " '035concurrenceinpart',\n",
       " '040dissent'}"
      ]
     },
     "execution_count": 5,
     "metadata": {},
     "output_type": "execute_result"
    }
   ],
   "source": [
    "opinion_types = set().union(*df['opinion_types'])\n",
    "opinion_types"
   ]
  },
  {
   "cell_type": "code",
   "execution_count": 6,
   "id": "dafe823f-6b7b-4386-b07e-514d2c4e40a3",
   "metadata": {
    "scrolled": true
   },
   "outputs": [
    {
     "data": {
      "text/plain": [
       "opinion_types\n",
       "[010combined]                                                                                                     41\n",
       "[040dissent, 020lead, 010combined]                                                                                20\n",
       "[040dissent, 030concurrence, 020lead, 010combined]                                                                20\n",
       "[040dissent, 040dissent, 020lead, 010combined]                                                                    12\n",
       "[030concurrence, 020lead, 010combined]                                                                            10\n",
       "[040dissent, 030concurrence, 030concurrence, 020lead, 010combined]                                                 5\n",
       "[030concurrence, 030concurrence, 020lead, 010combined]                                                             4\n",
       "[040dissent, 030concurrence, 030concurrence, 030concurrence, 020lead, 010combined]                                 3\n",
       "[040dissent, 035concurrenceinpart, 020lead, 010combined]                                                           2\n",
       "[040dissent, 040dissent, 040dissent, 020lead, 010combined]                                                         2\n",
       "[040dissent, 040dissent, 030concurrence, 030concurrence, 020lead, 010combined]                                     2\n",
       "[040dissent, 040dissent, 030concurrence, 020lead, 010combined]                                                     2\n",
       "[035concurrenceinpart, 030concurrence, 020lead, 010combined]                                                       1\n",
       "[030concurrence, 030concurrence, 030concurrence, 030concurrence, 020lead, 010combined]                             1\n",
       "[030concurrence, 030concurrence, 030concurrence, 020lead, 010combined]                                             1\n",
       "[040dissent, 040dissent, 040dissent, 030concurrence, 030concurrence, 020lead, 010combined]                         1\n",
       "[035concurrenceinpart, 040dissent, 035concurrenceinpart, 030concurrence, 020lead, 010combined]                     1\n",
       "[035concurrenceinpart, 020lead, 010combined]                                                                       1\n",
       "[040dissent, 040dissent, 030concurrence, 030concurrence, 030concurrence, 030concurrence, 020lead, 010combined]     1\n",
       "[030concurrence, 035concurrenceinpart, 020lead, 010combined]                                                       1\n",
       "[035concurrenceinpart, 035concurrenceinpart, 035concurrenceinpart, 035concurrenceinpart, 020lead, 010combined]     1\n",
       "[035concurrenceinpart, 035concurrenceinpart, 020lead, 010combined]                                                 1\n",
       "Name: count, dtype: int64"
      ]
     },
     "execution_count": 6,
     "metadata": {},
     "output_type": "execute_result"
    }
   ],
   "source": [
    "df['opinion_types'].value_counts()"
   ]
  },
  {
   "cell_type": "code",
   "execution_count": 7,
   "id": "eace7d54-8096-47bf-b5f6-d42cc8b40a11",
   "metadata": {
    "scrolled": true
   },
   "outputs": [
    {
     "data": {
      "text/plain": [
       "{'html_with_citations', 'xml_harvard'}"
      ]
     },
     "execution_count": 7,
     "metadata": {},
     "output_type": "execute_result"
    }
   ],
   "source": [
    "opinion_sources = set().union(*df['opinion_sources'])\n",
    "opinion_sources"
   ]
  },
  {
   "cell_type": "code",
   "execution_count": 8,
   "id": "8a7a3991-9944-45aa-84e8-5885c0f3b9c8",
   "metadata": {
    "scrolled": true
   },
   "outputs": [
    {
     "data": {
      "text/plain": [
       "opinion_sources\n",
       "[html_with_citations]                                                                                               41\n",
       "[xml_harvard, xml_harvard, xml_harvard, html_with_citations]                                                        41\n",
       "[xml_harvard, xml_harvard, html_with_citations]                                                                     31\n",
       "[xml_harvard, xml_harvard, xml_harvard, xml_harvard, html_with_citations]                                           10\n",
       "[xml_harvard, xml_harvard, xml_harvard, xml_harvard, xml_harvard, html_with_citations]                               8\n",
       "[xml_harvard, xml_harvard, xml_harvard, xml_harvard, xml_harvard, xml_harvard, xml_harvard, html_with_citations]     1\n",
       "[xml_harvard, xml_harvard, xml_harvard, xml_harvard, xml_harvard, xml_harvard, html_with_citations]                  1\n",
       "Name: count, dtype: int64"
      ]
     },
     "execution_count": 8,
     "metadata": {},
     "output_type": "execute_result"
    }
   ],
   "source": [
    "df['opinion_sources'].value_counts()"
   ]
  },
  {
   "cell_type": "markdown",
   "id": "92397c55-e350-4ea1-912e-b1389cf336b3",
   "metadata": {},
   "source": [
    "# Save the df for future use"
   ]
  },
  {
   "cell_type": "code",
   "execution_count": 9,
   "id": "6c285011-8b45-49c2-909f-8f767f764903",
   "metadata": {},
   "outputs": [],
   "source": [
    "df.to_csv(\"data/opinion_dataset.csv\", index=False)"
   ]
  },
  {
   "cell_type": "code",
   "execution_count": 10,
   "id": "a7b79b33-eded-4e8f-8219-86dab2e0aa4f",
   "metadata": {},
   "outputs": [],
   "source": [
    "assert df.isna().sum().sum() == 0"
   ]
  }
 ],
 "metadata": {
  "kernelspec": {
   "display_name": "Python 3 (ipykernel)",
   "language": "python",
   "name": "python3"
  },
  "language_info": {
   "codemirror_mode": {
    "name": "ipython",
    "version": 3
   },
   "file_extension": ".py",
   "mimetype": "text/x-python",
   "name": "python",
   "nbconvert_exporter": "python",
   "pygments_lexer": "ipython3",
   "version": "3.10.16"
  }
 },
 "nbformat": 4,
 "nbformat_minor": 5
}
