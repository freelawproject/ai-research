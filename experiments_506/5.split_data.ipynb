{
 "cells": [
  {
   "cell_type": "markdown",
   "id": "e203a744-fedd-427d-be20-6c09dcb656de",
   "metadata": {},
   "source": [
    "# Split the joined data to train/val/test sets for experiments"
   ]
  },
  {
   "cell_type": "markdown",
   "id": "30bba314-824d-4bcb-aa3f-70e900ed1637",
   "metadata": {},
   "source": [
    "# Import Libaries"
   ]
  },
  {
   "cell_type": "code",
   "execution_count": 1,
   "id": "ba24944c-f737-42e4-8c8b-3c42daf43ed9",
   "metadata": {},
   "outputs": [],
   "source": [
    "import random\n",
    "random.seed(1234)\n",
    "\n",
    "import pandas as pd\n",
    "\n",
    "from sklearn.preprocessing import MultiLabelBinarizer"
   ]
  },
  {
   "cell_type": "markdown",
   "id": "c75c7a09-f933-4313-973a-b8715438b65f",
   "metadata": {},
   "source": [
    "# Load the data"
   ]
  },
  {
   "cell_type": "code",
   "execution_count": 3,
   "id": "e2e3dde9-4188-4dce-b009-4638c0c6fe79",
   "metadata": {
    "scrolled": true
   },
   "outputs": [
    {
     "data": {
      "text/html": [
       "<div>\n",
       "<style scoped>\n",
       "    .dataframe tbody tr th:only-of-type {\n",
       "        vertical-align: middle;\n",
       "    }\n",
       "\n",
       "    .dataframe tbody tr th {\n",
       "        vertical-align: top;\n",
       "    }\n",
       "\n",
       "    .dataframe thead th {\n",
       "        text-align: right;\n",
       "    }\n",
       "</style>\n",
       "<table border=\"1\" class=\"dataframe\">\n",
       "  <thead>\n",
       "    <tr style=\"text-align: right;\">\n",
       "      <th></th>\n",
       "      <th>case_id</th>\n",
       "      <th>doc_id</th>\n",
       "      <th>doc_title</th>\n",
       "      <th>doc_date</th>\n",
       "      <th>doc_type</th>\n",
       "      <th>doc_source</th>\n",
       "      <th>doc_url</th>\n",
       "      <th>doc_len</th>\n",
       "      <th>complaint_flag</th>\n",
       "      <th>opinion_flag</th>\n",
       "      <th>...</th>\n",
       "      <th>case_name</th>\n",
       "      <th>case_status</th>\n",
       "      <th>case_state</th>\n",
       "      <th>court_name</th>\n",
       "      <th>case_type</th>\n",
       "      <th>case_ongoing</th>\n",
       "      <th>case_special_collections</th>\n",
       "      <th>case_causes_of_action</th>\n",
       "      <th>issue_category</th>\n",
       "      <th>issues</th>\n",
       "    </tr>\n",
       "  </thead>\n",
       "  <tbody>\n",
       "    <tr>\n",
       "      <th>0</th>\n",
       "      <td>689</td>\n",
       "      <td>3434</td>\n",
       "      <td>Memorandum Opinion and Order</td>\n",
       "      <td>1999-11-17</td>\n",
       "      <td>Deleted</td>\n",
       "      <td>None</td>\n",
       "      <td>None</td>\n",
       "      <td>29396</td>\n",
       "      <td>False</td>\n",
       "      <td>True</td>\n",
       "      <td>...</td>\n",
       "      <td>Williams v. Illinois Department of Corrections</td>\n",
       "      <td>Coding Complete</td>\n",
       "      <td>Illinois</td>\n",
       "      <td>Northern District of Illinois</td>\n",
       "      <td>Prison Conditions</td>\n",
       "      <td>No</td>\n",
       "      <td>None</td>\n",
       "      <td>42 U.S.C. § 1983, Americans with Disabilities ...</td>\n",
       "      <td>[Disability and Disability Rights, Discriminat...</td>\n",
       "      <td>[Disability (inc. reasonable accommodations), ...</td>\n",
       "    </tr>\n",
       "    <tr>\n",
       "      <th>1</th>\n",
       "      <td>17891</td>\n",
       "      <td>110352</td>\n",
       "      <td>Opinion</td>\n",
       "      <td>2020-10-23</td>\n",
       "      <td>Coding Complete</td>\n",
       "      <td>None</td>\n",
       "      <td>None</td>\n",
       "      <td>19824</td>\n",
       "      <td>False</td>\n",
       "      <td>True</td>\n",
       "      <td>...</td>\n",
       "      <td>Common Cause Indiana v. Lawson</td>\n",
       "      <td>Coding Complete</td>\n",
       "      <td>Indiana</td>\n",
       "      <td>Southern District of Indiana</td>\n",
       "      <td>Election/Voting Rights</td>\n",
       "      <td>No</td>\n",
       "      <td>COVID-19 (novel coronavirus), Healthy Election...</td>\n",
       "      <td>42 U.S.C. § 1983</td>\n",
       "      <td>[Voting]</td>\n",
       "      <td>[Election administration, Voting: General &amp; Mi...</td>\n",
       "    </tr>\n",
       "    <tr>\n",
       "      <th>2</th>\n",
       "      <td>199</td>\n",
       "      <td>885</td>\n",
       "      <td>Opinion and Order (Granting in part and denyin...</td>\n",
       "      <td>2000-06-06</td>\n",
       "      <td>Deleted</td>\n",
       "      <td>Westlaw</td>\n",
       "      <td>None</td>\n",
       "      <td>99451</td>\n",
       "      <td>False</td>\n",
       "      <td>True</td>\n",
       "      <td>...</td>\n",
       "      <td>Benjamin v. Horn</td>\n",
       "      <td>Approved</td>\n",
       "      <td>New York</td>\n",
       "      <td>Southern District of New York</td>\n",
       "      <td>Jail Conditions</td>\n",
       "      <td>Yes</td>\n",
       "      <td>None</td>\n",
       "      <td>42 U.S.C. § 1983</td>\n",
       "      <td>[Affected Sex/Gender(s), General/Misc., Jails,...</td>\n",
       "      <td>[Access to lawyers or judicial system, Bathing...</td>\n",
       "    </tr>\n",
       "    <tr>\n",
       "      <th>3</th>\n",
       "      <td>45341</td>\n",
       "      <td>154633</td>\n",
       "      <td>Opinion</td>\n",
       "      <td>2001-04-13</td>\n",
       "      <td>Coding Complete</td>\n",
       "      <td>RECAP</td>\n",
       "      <td>https://www.courtlistener.com/docket/6164539/1...</td>\n",
       "      <td>1042</td>\n",
       "      <td>False</td>\n",
       "      <td>True</td>\n",
       "      <td>...</td>\n",
       "      <td>Gregorio T v. Pete Wilson</td>\n",
       "      <td>Approved</td>\n",
       "      <td>California</td>\n",
       "      <td>Central District of California</td>\n",
       "      <td>Immigration and/or the Border</td>\n",
       "      <td>Perhaps, but long-dormant</td>\n",
       "      <td>None</td>\n",
       "      <td>42 U.S.C. § 1983, Ex parte Young (federal or s...</td>\n",
       "      <td>[General/Misc., Immigration/Border]</td>\n",
       "      <td>[Education, Government services, Undocumented ...</td>\n",
       "    </tr>\n",
       "    <tr>\n",
       "      <th>4</th>\n",
       "      <td>43823</td>\n",
       "      <td>150624</td>\n",
       "      <td>Opinion</td>\n",
       "      <td>2018-03-12</td>\n",
       "      <td>Coding Complete</td>\n",
       "      <td>RECAP</td>\n",
       "      <td>https://plus.lexis.com/document?pdmfid=1530671...</td>\n",
       "      <td>3320</td>\n",
       "      <td>False</td>\n",
       "      <td>True</td>\n",
       "      <td>...</td>\n",
       "      <td>Common Cause v. Kemp</td>\n",
       "      <td>Approved</td>\n",
       "      <td>Georgia</td>\n",
       "      <td>Northern District of Georgia</td>\n",
       "      <td>Election/Voting Rights</td>\n",
       "      <td>No</td>\n",
       "      <td>Law Firm Antiracism Alliance (LFAA) project</td>\n",
       "      <td>National Voter Registration Act (\"Motor Voter ...</td>\n",
       "      <td>[Voting]</td>\n",
       "      <td>[Voter registration rules, Voting: General &amp; M...</td>\n",
       "    </tr>\n",
       "  </tbody>\n",
       "</table>\n",
       "<p>5 rows × 21 columns</p>\n",
       "</div>"
      ],
      "text/plain": [
       "   case_id  doc_id                                          doc_title  \\\n",
       "0      689    3434                       Memorandum Opinion and Order   \n",
       "1    17891  110352                                            Opinion   \n",
       "2      199     885  Opinion and Order (Granting in part and denyin...   \n",
       "3    45341  154633                                            Opinion   \n",
       "4    43823  150624                                            Opinion   \n",
       "\n",
       "     doc_date         doc_type doc_source  \\\n",
       "0  1999-11-17          Deleted       None   \n",
       "1  2020-10-23  Coding Complete       None   \n",
       "2  2000-06-06          Deleted    Westlaw   \n",
       "3  2001-04-13  Coding Complete      RECAP   \n",
       "4  2018-03-12  Coding Complete      RECAP   \n",
       "\n",
       "                                             doc_url  doc_len  complaint_flag  \\\n",
       "0                                               None    29396           False   \n",
       "1                                               None    19824           False   \n",
       "2                                               None    99451           False   \n",
       "3  https://www.courtlistener.com/docket/6164539/1...     1042           False   \n",
       "4  https://plus.lexis.com/document?pdmfid=1530671...     3320           False   \n",
       "\n",
       "   opinion_flag  ...                                       case_name  \\\n",
       "0          True  ...  Williams v. Illinois Department of Corrections   \n",
       "1          True  ...                  Common Cause Indiana v. Lawson   \n",
       "2          True  ...                                Benjamin v. Horn   \n",
       "3          True  ...                       Gregorio T v. Pete Wilson   \n",
       "4          True  ...                            Common Cause v. Kemp   \n",
       "\n",
       "       case_status  case_state                      court_name  \\\n",
       "0  Coding Complete    Illinois   Northern District of Illinois   \n",
       "1  Coding Complete     Indiana    Southern District of Indiana   \n",
       "2         Approved    New York   Southern District of New York   \n",
       "3         Approved  California  Central District of California   \n",
       "4         Approved     Georgia    Northern District of Georgia   \n",
       "\n",
       "                       case_type               case_ongoing  \\\n",
       "0              Prison Conditions                         No   \n",
       "1         Election/Voting Rights                         No   \n",
       "2                Jail Conditions                        Yes   \n",
       "3  Immigration and/or the Border  Perhaps, but long-dormant   \n",
       "4         Election/Voting Rights                         No   \n",
       "\n",
       "                            case_special_collections  \\\n",
       "0                                               None   \n",
       "1  COVID-19 (novel coronavirus), Healthy Election...   \n",
       "2                                               None   \n",
       "3                                               None   \n",
       "4        Law Firm Antiracism Alliance (LFAA) project   \n",
       "\n",
       "                               case_causes_of_action  \\\n",
       "0  42 U.S.C. § 1983, Americans with Disabilities ...   \n",
       "1                                   42 U.S.C. § 1983   \n",
       "2                                   42 U.S.C. § 1983   \n",
       "3  42 U.S.C. § 1983, Ex parte Young (federal or s...   \n",
       "4  National Voter Registration Act (\"Motor Voter ...   \n",
       "\n",
       "                                      issue_category  \\\n",
       "0  [Disability and Disability Rights, Discriminat...   \n",
       "1                                           [Voting]   \n",
       "2  [Affected Sex/Gender(s), General/Misc., Jails,...   \n",
       "3                [General/Misc., Immigration/Border]   \n",
       "4                                           [Voting]   \n",
       "\n",
       "                                              issues  \n",
       "0  [Disability (inc. reasonable accommodations), ...  \n",
       "1  [Election administration, Voting: General & Mi...  \n",
       "2  [Access to lawyers or judicial system, Bathing...  \n",
       "3  [Education, Government services, Undocumented ...  \n",
       "4  [Voter registration rules, Voting: General & M...  \n",
       "\n",
       "[5 rows x 21 columns]"
      ]
     },
     "execution_count": 3,
     "metadata": {},
     "output_type": "execute_result"
    }
   ],
   "source": [
    "df = pd.read_json(\"data/clean_joined.json\")\n",
    "df.head()"
   ]
  },
  {
   "cell_type": "markdown",
   "id": "fb4cfd80-efd4-4123-82b7-76e77eb9adaa",
   "metadata": {},
   "source": [
    "## Given how imbalanced the categories are (some categories appear in many cases while other categories only appear in a handful of cases), the best way to produce a balanced dataset for training is to generate binary-classification dataset & models"
   ]
  },
  {
   "cell_type": "code",
   "execution_count": 3,
   "id": "f6dc462b-f6f4-4b15-aac0-883bfeb7b6a3",
   "metadata": {},
   "outputs": [
    {
     "name": "stderr",
     "output_type": "stream",
     "text": [
      "/var/folders/rx/3t2jtk8j69j_db_cydq_v6wc0000gn/T/ipykernel_65153/447014691.py:2: SettingWithCopyWarning: \n",
      "A value is trying to be set on a copy of a slice from a DataFrame.\n",
      "Try using .loc[row_indexer,col_indexer] = value instead\n",
      "\n",
      "See the caveats in the documentation: https://pandas.pydata.org/pandas-docs/stable/user_guide/indexing.html#returning-a-view-versus-a-copy\n",
      "  cases[\"issue_category\"] = cases[\"issue_category\"].apply(tuple)\n"
     ]
    }
   ],
   "source": [
    "cases = df[[\"case_id\", \"issue_category\"]]\n",
    "cases[\"issue_category\"] = cases[\"issue_category\"].apply(tuple)\n",
    "cases = cases.drop_duplicates()\n",
    "assert len(cases) == cases[\"case_id\"].nunique()"
   ]
  },
  {
   "cell_type": "code",
   "execution_count": 4,
   "id": "e65d21f4-bc6f-492c-8464-2e36e1ce4930",
   "metadata": {},
   "outputs": [
    {
     "data": {
      "text/plain": [
       "(8078, 17)"
      ]
     },
     "execution_count": 4,
     "metadata": {},
     "output_type": "execute_result"
    }
   ],
   "source": [
    "mlb = MultiLabelBinarizer()\n",
    "binary_matrix = mlb.fit_transform(cases['issue_category'].to_list())\n",
    "binary_matrix.shape"
   ]
  },
  {
   "cell_type": "code",
   "execution_count": 5,
   "id": "6b5048e3-c9fc-4f48-8377-9c864ca258ca",
   "metadata": {
    "scrolled": true
   },
   "outputs": [
    {
     "data": {
      "text/plain": [
       "General/Misc.                                                5285\n",
       "Discrimination Basis                                         4192\n",
       "Discrimination Area                                          2822\n",
       "Affected Sex/Gender(s)                                       1935\n",
       "Jails, Prisons, Detention Centers, and Other Institutions    1916\n",
       "EEOC-centric                                                 1419\n",
       "Affected Race(s)                                             1131\n",
       "Disability and Disability Rights                             1090\n",
       "Medical/Mental Health Care                                   1030\n",
       "Immigration/Border                                            876\n",
       "Voting                                                        713\n",
       "Affected National Origin/Ethnicity(s)                         520\n",
       "Policing                                                      471\n",
       "Reproductive rights                                           419\n",
       "LGBTQ+                                                        371\n",
       "Benefits (Source)                                             294\n",
       "COVID-19                                                      217\n",
       "dtype: int64"
      ]
     },
     "execution_count": 5,
     "metadata": {},
     "output_type": "execute_result"
    }
   ],
   "source": [
    "category_df = pd.DataFrame(binary_matrix, columns=mlb.classes_)\n",
    "category_df.sum().sort_values(ascending=False)"
   ]
  },
  {
   "cell_type": "code",
   "execution_count": 6,
   "id": "28f56f9b-dcf9-46b9-a964-e0a8927d044b",
   "metadata": {},
   "outputs": [],
   "source": [
    "category_df['case_id'] = cases['case_id'].values"
   ]
  },
  {
   "cell_type": "markdown",
   "id": "f9bedee9-aad1-47c4-9837-171c6ee19080",
   "metadata": {},
   "source": [
    "## To ensure no case level data leakage, we will start by sampling from the least common categories, while keeping track of the case ids in train set"
   ]
  },
  {
   "cell_type": "code",
   "execution_count": 7,
   "id": "8db87f6d-6c67-4694-aa2b-ceea1affdbce",
   "metadata": {},
   "outputs": [],
   "source": [
    "cats = category_df.sum().sort_values(ascending=False).index.drop(\"case_id\")"
   ]
  },
  {
   "cell_type": "code",
   "execution_count": 8,
   "id": "5d14ef07-bc0d-478c-8bef-75db6b342115",
   "metadata": {
    "scrolled": true
   },
   "outputs": [
    {
     "name": "stdout",
     "output_type": "stream",
     "text": [
      "COVID-19\n",
      "Benefits (Source)\n",
      "LGBTQ+\n",
      "Reproductive rights\n",
      "Policing\n",
      "Affected National Origin/Ethnicity(s)\n",
      "Voting\n",
      "Immigration/Border\n",
      "Medical/Mental Health Care\n",
      "Disability and Disability Rights\n",
      "Affected Race(s)\n",
      "EEOC-centric\n",
      "Jails, Prisons, Detention Centers, and Other Institutions\n",
      "Affected Sex/Gender(s)\n",
      "Discrimination Area\n",
      "Discrimination Basis\n",
      "General/Misc.\n"
     ]
    }
   ],
   "source": [
    "for cat in cats[::-1]:\n",
    "    print(cat)"
   ]
  },
  {
   "cell_type": "code",
   "execution_count": 9,
   "id": "f6c479ff-d15b-4839-a2be-23dfc8eeea21",
   "metadata": {},
   "outputs": [],
   "source": [
    "train = {}\n",
    "num_samples = 120\n",
    "\n",
    "for cat in cats[::-1]:\n",
    "\n",
    "    # Flatten all case_ids already in train\n",
    "    train_ids = set(train_id for ids in train.values() for train_id in ids)\n",
    "    \n",
    "    # Get list of all case_ids for this category\n",
    "    cat_ids = category_df[category_df[cat] == 1]['case_id'].to_list()\n",
    "\n",
    "    # Filter cat_ids already in train_ids\n",
    "    existing_ids = [cat_id for cat_id in cat_ids if cat_id in train_ids]\n",
    "\n",
    "    # If we already have enough ids in train, do not add more, simply sample from the existing ids\n",
    "    if len(existing_ids) >= num_samples:\n",
    "        sampled_ids = random.sample(existing_ids, num_samples)\n",
    "    # Otherwise, get more ids to be added to train_id\n",
    "    else:\n",
    "        remaining_ids = [cat_id for cat_id in cat_ids if cat_id not in train_ids]\n",
    "        addl_ids = random.sample(remaining_ids, (num_samples - len(existing_ids)))\n",
    "        sampled_ids = list(set(existing_ids + addl_ids))\n",
    "\n",
    "    # Also get equal number of negative samples\n",
    "    neg_ids = category_df[category_df[cat] == 0]['case_id'].to_list()\n",
    "    neg_samples = random.sample(neg_ids, num_samples)\n",
    "    \n",
    "    train[cat] = list(set(sampled_ids + neg_samples))"
   ]
  },
  {
   "cell_type": "code",
   "execution_count": 10,
   "id": "b53629e4-9486-4a95-9698-8d56022cd0e4",
   "metadata": {
    "scrolled": true
   },
   "outputs": [
    {
     "name": "stdout",
     "output_type": "stream",
     "text": [
      "COVID-19\n",
      "240\n",
      "Benefits (Source)\n",
      "240\n",
      "LGBTQ+\n",
      "240\n",
      "Reproductive rights\n",
      "240\n",
      "Policing\n",
      "240\n",
      "Affected National Origin/Ethnicity(s)\n",
      "240\n",
      "Voting\n",
      "240\n",
      "Immigration/Border\n",
      "240\n",
      "Medical/Mental Health Care\n",
      "240\n",
      "Disability and Disability Rights\n",
      "240\n",
      "Affected Race(s)\n",
      "240\n",
      "EEOC-centric\n",
      "240\n",
      "Jails, Prisons, Detention Centers, and Other Institutions\n",
      "240\n",
      "Affected Sex/Gender(s)\n",
      "240\n",
      "Discrimination Area\n",
      "240\n",
      "Discrimination Basis\n",
      "240\n",
      "General/Misc.\n",
      "240\n"
     ]
    }
   ],
   "source": [
    "for key, val in train.items():\n",
    "    print(key)\n",
    "    print(len(val))"
   ]
  },
  {
   "cell_type": "code",
   "execution_count": 11,
   "id": "bffdba58-bf26-4259-9785-6389ae5b510e",
   "metadata": {},
   "outputs": [
    {
     "data": {
      "text/plain": [
       "2299"
      ]
     },
     "execution_count": 11,
     "metadata": {},
     "output_type": "execute_result"
    }
   ],
   "source": [
    "train_ids = list(set(train_id for ids in train.values() for train_id in ids))\n",
    "len(train_ids)"
   ]
  },
  {
   "cell_type": "markdown",
   "id": "1301e4ef-5928-4024-996f-b6667fd05a36",
   "metadata": {},
   "source": [
    "## We have sampled ~2K cases for training, now we will randomly sample ~800 cases from the rest of the cases to be put into val/test, while adhereing to the underlying distribution of categories & ensuring the cases in val are not in test"
   ]
  },
  {
   "cell_type": "code",
   "execution_count": 12,
   "id": "0b0a4ca2-3e63-4ba8-9066-5fdc4e109425",
   "metadata": {},
   "outputs": [
    {
     "data": {
      "text/plain": [
       "5779"
      ]
     },
     "execution_count": 12,
     "metadata": {},
     "output_type": "execute_result"
    }
   ],
   "source": [
    "remaining_ids = category_df[~category_df['case_id'].isin(train_ids)][\"case_id\"].to_list()\n",
    "len(remaining_ids)"
   ]
  },
  {
   "cell_type": "code",
   "execution_count": 13,
   "id": "97d03cb9-973f-472d-a2d0-8ac763727ee7",
   "metadata": {},
   "outputs": [
    {
     "data": {
      "text/plain": [
       "800"
      ]
     },
     "execution_count": 13,
     "metadata": {},
     "output_type": "execute_result"
    }
   ],
   "source": [
    "val_ids = random.sample(remaining_ids, 800)\n",
    "len(val_ids)"
   ]
  },
  {
   "cell_type": "code",
   "execution_count": 14,
   "id": "5b304f68-eb2f-41d8-8e00-efece45323ec",
   "metadata": {
    "scrolled": true
   },
   "outputs": [
    {
     "data": {
      "text/plain": [
       "case_id                                                      13660250\n",
       "General/Misc.                                                     546\n",
       "Discrimination Basis                                              422\n",
       "Discrimination Area                                               302\n",
       "Affected Sex/Gender(s)                                            222\n",
       "Jails, Prisons, Detention Centers, and Other Institutions         187\n",
       "EEOC-centric                                                      148\n",
       "Affected Race(s)                                                  106\n",
       "Disability and Disability Rights                                  104\n",
       "Medical/Mental Health Care                                        101\n",
       "Immigration/Border                                                 85\n",
       "Voting                                                             53\n",
       "Reproductive rights                                                41\n",
       "Affected National Origin/Ethnicity(s)                              40\n",
       "Policing                                                           37\n",
       "LGBTQ+                                                             32\n",
       "Benefits (Source)                                                  20\n",
       "COVID-19                                                           11\n",
       "dtype: int64"
      ]
     },
     "execution_count": 14,
     "metadata": {},
     "output_type": "execute_result"
    }
   ],
   "source": [
    "val_df = category_df[category_df['case_id'].isin(val_ids)]\n",
    "val_df.sum().sort_values(ascending=False)"
   ]
  },
  {
   "cell_type": "code",
   "execution_count": 15,
   "id": "2bafd075-1428-43f5-9312-47dae6dd9f3e",
   "metadata": {},
   "outputs": [
    {
     "data": {
      "text/plain": [
       "4979"
      ]
     },
     "execution_count": 15,
     "metadata": {},
     "output_type": "execute_result"
    }
   ],
   "source": [
    "remaining_ids = category_df[~((category_df['case_id'].isin(train_ids)) | (category_df['case_id'].isin(val_ids)))][\"case_id\"].to_list()\n",
    "len(remaining_ids)"
   ]
  },
  {
   "cell_type": "code",
   "execution_count": 16,
   "id": "8cc2ae25-2197-44e7-a087-5e4a80c2ffdb",
   "metadata": {},
   "outputs": [
    {
     "data": {
      "text/plain": [
       "800"
      ]
     },
     "execution_count": 16,
     "metadata": {},
     "output_type": "execute_result"
    }
   ],
   "source": [
    "test_ids = random.sample(remaining_ids, 800)\n",
    "len(test_ids)"
   ]
  },
  {
   "cell_type": "code",
   "execution_count": 17,
   "id": "d2446acf-782b-4913-97df-35ca801ed6ef",
   "metadata": {
    "scrolled": true
   },
   "outputs": [
    {
     "data": {
      "text/plain": [
       "case_id                                                      13622053\n",
       "General/Misc.                                                     548\n",
       "Discrimination Basis                                              440\n",
       "Discrimination Area                                               308\n",
       "Affected Sex/Gender(s)                                            196\n",
       "Jails, Prisons, Detention Centers, and Other Institutions         190\n",
       "EEOC-centric                                                      154\n",
       "Affected Race(s)                                                  138\n",
       "Medical/Mental Health Care                                        103\n",
       "Disability and Disability Rights                                  101\n",
       "Immigration/Border                                                 90\n",
       "Voting                                                             59\n",
       "Affected National Origin/Ethnicity(s)                              53\n",
       "Policing                                                           45\n",
       "Reproductive rights                                                33\n",
       "Benefits (Source)                                                  23\n",
       "LGBTQ+                                                             20\n",
       "COVID-19                                                           10\n",
       "dtype: int64"
      ]
     },
     "execution_count": 17,
     "metadata": {},
     "output_type": "execute_result"
    }
   ],
   "source": [
    "test_df = category_df[category_df['case_id'].isin(test_ids)]\n",
    "test_df.sum().sort_values(ascending=False)"
   ]
  },
  {
   "cell_type": "markdown",
   "id": "48ea5924-f698-4f28-8ef4-1015dae8f164",
   "metadata": {},
   "source": [
    "## Produce dataframes for train, val & test"
   ]
  },
  {
   "cell_type": "code",
   "execution_count": 19,
   "id": "68b1a9fe-9161-44e2-9a25-ce46fee12eec",
   "metadata": {},
   "outputs": [
    {
     "data": {
      "text/plain": [
       "dict_keys(['COVID-19', 'Benefits (Source)', 'LGBTQ+', 'Reproductive rights', 'Policing', 'Affected National Origin/Ethnicity(s)', 'Voting', 'Immigration/Border', 'Medical/Mental Health Care', 'Disability and Disability Rights', 'Affected Race(s)', 'EEOC-centric', 'Jails, Prisons, Detention Centers, and Other Institutions', 'Affected Sex/Gender(s)', 'Discrimination Area', 'Discrimination Basis', 'General/Misc.'])"
      ]
     },
     "execution_count": 19,
     "metadata": {},
     "output_type": "execute_result"
    }
   ],
   "source": [
    "train.keys()"
   ]
  },
  {
   "cell_type": "code",
   "execution_count": 20,
   "id": "46ec0b3e-0582-4a64-8ff2-6a7e9a595707",
   "metadata": {},
   "outputs": [],
   "source": [
    "abbreviations = {\n",
    "    'COVID-19': 'COVID',\n",
    "    'Benefits (Source)': 'BENEFITS',\n",
    "    'LGBTQ+': 'LGBTQ',\n",
    "    'Reproductive rights': 'REPRO',\n",
    "    'Policing': 'POLICING',\n",
    "    'Affected National Origin/Ethnicity(s)': 'NATION_ORIG',\n",
    "    'Voting': 'VOTE',\n",
    "    'Immigration/Border': 'IMMIGRATION',\n",
    "    'Medical/Mental Health Care': 'MED',\n",
    "    'Disability and Disability Rights': 'DISABILITY',\n",
    "    'Affected Race(s)': 'RACE',\n",
    "    'EEOC-centric': 'EEOC',\n",
    "    'Jails, Prisons, Detention Centers, and Other Institutions': 'PRISON',\n",
    "    'Affected Sex/Gender(s)': 'GENDER',\n",
    "    'Discrimination Area': 'DISC_AREA',\n",
    "    'Discrimination Basis': 'DISC_BASE',\n",
    "    'General/Misc.': 'GENERAL'\n",
    "}"
   ]
  },
  {
   "cell_type": "code",
   "execution_count": 25,
   "id": "07c07010-0e35-4e29-9470-a9e1cbf477b8",
   "metadata": {},
   "outputs": [],
   "source": [
    "filenames = []\n",
    "\n",
    "for key, value in train.items():\n",
    "    sub_df = df[df[\"case_id\"].isin(value)]\n",
    "    filename = f\"data/train/{abbreviations[key]}.json\"\n",
    "    sub_df.to_json(filename)\n",
    "    filenames.append(filename)"
   ]
  },
  {
   "cell_type": "code",
   "execution_count": 34,
   "id": "711d1a17-e93d-4435-8eb6-cca3d21fb90e",
   "metadata": {
    "scrolled": true
   },
   "outputs": [
    {
     "name": "stdout",
     "output_type": "stream",
     "text": [
      "------\n",
      "data/train/COVID.json\n",
      "number of records:  794\n",
      "number of pos cases:  120\n",
      "number of neg cases:  120\n",
      "------\n",
      "data/train/BENEFITS.json\n",
      "number of records:  663\n",
      "number of pos cases:  120\n",
      "number of neg cases:  120\n",
      "------\n",
      "data/train/LGBTQ.json\n",
      "number of records:  568\n",
      "number of pos cases:  120\n",
      "number of neg cases:  120\n",
      "------\n",
      "data/train/REPRO.json\n",
      "number of records:  621\n",
      "number of pos cases:  120\n",
      "number of neg cases:  120\n",
      "------\n",
      "data/train/POLICING.json\n",
      "number of records:  666\n",
      "number of pos cases:  120\n",
      "number of neg cases:  120\n",
      "------\n",
      "data/train/NATION_ORIG.json\n",
      "number of records:  707\n",
      "number of pos cases:  120\n",
      "number of neg cases:  120\n",
      "------\n",
      "data/train/VOTE.json\n",
      "number of records:  699\n",
      "number of pos cases:  120\n",
      "number of neg cases:  120\n",
      "------\n",
      "data/train/IMMIGRATION.json\n",
      "number of records:  740\n",
      "number of pos cases:  120\n",
      "number of neg cases:  120\n",
      "------\n",
      "data/train/MED.json\n",
      "number of records:  658\n",
      "number of pos cases:  120\n",
      "number of neg cases:  120\n",
      "------\n",
      "data/train/DISABILITY.json\n",
      "number of records:  745\n",
      "number of pos cases:  120\n",
      "number of neg cases:  120\n",
      "------\n",
      "data/train/RACE.json\n",
      "number of records:  803\n",
      "number of pos cases:  120\n",
      "number of neg cases:  120\n",
      "------\n",
      "data/train/EEOC.json\n",
      "number of records:  625\n",
      "number of pos cases:  120\n",
      "number of neg cases:  120\n",
      "------\n",
      "data/train/PRISON.json\n",
      "number of records:  638\n",
      "number of pos cases:  120\n",
      "number of neg cases:  120\n",
      "------\n",
      "data/train/GENDER.json\n",
      "number of records:  572\n",
      "number of pos cases:  120\n",
      "number of neg cases:  120\n",
      "------\n",
      "data/train/DISC_AREA.json\n",
      "number of records:  726\n",
      "number of pos cases:  120\n",
      "number of neg cases:  120\n",
      "------\n",
      "data/train/DISC_BASE.json\n",
      "number of records:  614\n",
      "number of pos cases:  120\n",
      "number of neg cases:  120\n",
      "------\n",
      "data/train/GENERAL.json\n",
      "number of records:  615\n",
      "number of pos cases:  120\n",
      "number of neg cases:  120\n"
     ]
    },
    {
     "name": "stderr",
     "output_type": "stream",
     "text": [
      "/var/folders/rx/3t2jtk8j69j_db_cydq_v6wc0000gn/T/ipykernel_65153/459506058.py:8: SettingWithCopyWarning: \n",
      "A value is trying to be set on a copy of a slice from a DataFrame.\n",
      "Try using .loc[row_indexer,col_indexer] = value instead\n",
      "\n",
      "See the caveats in the documentation: https://pandas.pydata.org/pandas-docs/stable/user_guide/indexing.html#returning-a-view-versus-a-copy\n",
      "  cases[\"issue_category\"] = cases[\"issue_category\"].apply(tuple)\n",
      "/var/folders/rx/3t2jtk8j69j_db_cydq_v6wc0000gn/T/ipykernel_65153/459506058.py:8: SettingWithCopyWarning: \n",
      "A value is trying to be set on a copy of a slice from a DataFrame.\n",
      "Try using .loc[row_indexer,col_indexer] = value instead\n",
      "\n",
      "See the caveats in the documentation: https://pandas.pydata.org/pandas-docs/stable/user_guide/indexing.html#returning-a-view-versus-a-copy\n",
      "  cases[\"issue_category\"] = cases[\"issue_category\"].apply(tuple)\n",
      "/var/folders/rx/3t2jtk8j69j_db_cydq_v6wc0000gn/T/ipykernel_65153/459506058.py:8: SettingWithCopyWarning: \n",
      "A value is trying to be set on a copy of a slice from a DataFrame.\n",
      "Try using .loc[row_indexer,col_indexer] = value instead\n",
      "\n",
      "See the caveats in the documentation: https://pandas.pydata.org/pandas-docs/stable/user_guide/indexing.html#returning-a-view-versus-a-copy\n",
      "  cases[\"issue_category\"] = cases[\"issue_category\"].apply(tuple)\n",
      "/var/folders/rx/3t2jtk8j69j_db_cydq_v6wc0000gn/T/ipykernel_65153/459506058.py:8: SettingWithCopyWarning: \n",
      "A value is trying to be set on a copy of a slice from a DataFrame.\n",
      "Try using .loc[row_indexer,col_indexer] = value instead\n",
      "\n",
      "See the caveats in the documentation: https://pandas.pydata.org/pandas-docs/stable/user_guide/indexing.html#returning-a-view-versus-a-copy\n",
      "  cases[\"issue_category\"] = cases[\"issue_category\"].apply(tuple)\n",
      "/var/folders/rx/3t2jtk8j69j_db_cydq_v6wc0000gn/T/ipykernel_65153/459506058.py:8: SettingWithCopyWarning: \n",
      "A value is trying to be set on a copy of a slice from a DataFrame.\n",
      "Try using .loc[row_indexer,col_indexer] = value instead\n",
      "\n",
      "See the caveats in the documentation: https://pandas.pydata.org/pandas-docs/stable/user_guide/indexing.html#returning-a-view-versus-a-copy\n",
      "  cases[\"issue_category\"] = cases[\"issue_category\"].apply(tuple)\n",
      "/var/folders/rx/3t2jtk8j69j_db_cydq_v6wc0000gn/T/ipykernel_65153/459506058.py:8: SettingWithCopyWarning: \n",
      "A value is trying to be set on a copy of a slice from a DataFrame.\n",
      "Try using .loc[row_indexer,col_indexer] = value instead\n",
      "\n",
      "See the caveats in the documentation: https://pandas.pydata.org/pandas-docs/stable/user_guide/indexing.html#returning-a-view-versus-a-copy\n",
      "  cases[\"issue_category\"] = cases[\"issue_category\"].apply(tuple)\n",
      "/var/folders/rx/3t2jtk8j69j_db_cydq_v6wc0000gn/T/ipykernel_65153/459506058.py:8: SettingWithCopyWarning: \n",
      "A value is trying to be set on a copy of a slice from a DataFrame.\n",
      "Try using .loc[row_indexer,col_indexer] = value instead\n",
      "\n",
      "See the caveats in the documentation: https://pandas.pydata.org/pandas-docs/stable/user_guide/indexing.html#returning-a-view-versus-a-copy\n",
      "  cases[\"issue_category\"] = cases[\"issue_category\"].apply(tuple)\n",
      "/var/folders/rx/3t2jtk8j69j_db_cydq_v6wc0000gn/T/ipykernel_65153/459506058.py:8: SettingWithCopyWarning: \n",
      "A value is trying to be set on a copy of a slice from a DataFrame.\n",
      "Try using .loc[row_indexer,col_indexer] = value instead\n",
      "\n",
      "See the caveats in the documentation: https://pandas.pydata.org/pandas-docs/stable/user_guide/indexing.html#returning-a-view-versus-a-copy\n",
      "  cases[\"issue_category\"] = cases[\"issue_category\"].apply(tuple)\n",
      "/var/folders/rx/3t2jtk8j69j_db_cydq_v6wc0000gn/T/ipykernel_65153/459506058.py:8: SettingWithCopyWarning: \n",
      "A value is trying to be set on a copy of a slice from a DataFrame.\n",
      "Try using .loc[row_indexer,col_indexer] = value instead\n",
      "\n",
      "See the caveats in the documentation: https://pandas.pydata.org/pandas-docs/stable/user_guide/indexing.html#returning-a-view-versus-a-copy\n",
      "  cases[\"issue_category\"] = cases[\"issue_category\"].apply(tuple)\n",
      "/var/folders/rx/3t2jtk8j69j_db_cydq_v6wc0000gn/T/ipykernel_65153/459506058.py:8: SettingWithCopyWarning: \n",
      "A value is trying to be set on a copy of a slice from a DataFrame.\n",
      "Try using .loc[row_indexer,col_indexer] = value instead\n",
      "\n",
      "See the caveats in the documentation: https://pandas.pydata.org/pandas-docs/stable/user_guide/indexing.html#returning-a-view-versus-a-copy\n",
      "  cases[\"issue_category\"] = cases[\"issue_category\"].apply(tuple)\n",
      "/var/folders/rx/3t2jtk8j69j_db_cydq_v6wc0000gn/T/ipykernel_65153/459506058.py:8: SettingWithCopyWarning: \n",
      "A value is trying to be set on a copy of a slice from a DataFrame.\n",
      "Try using .loc[row_indexer,col_indexer] = value instead\n",
      "\n",
      "See the caveats in the documentation: https://pandas.pydata.org/pandas-docs/stable/user_guide/indexing.html#returning-a-view-versus-a-copy\n",
      "  cases[\"issue_category\"] = cases[\"issue_category\"].apply(tuple)\n",
      "/var/folders/rx/3t2jtk8j69j_db_cydq_v6wc0000gn/T/ipykernel_65153/459506058.py:8: SettingWithCopyWarning: \n",
      "A value is trying to be set on a copy of a slice from a DataFrame.\n",
      "Try using .loc[row_indexer,col_indexer] = value instead\n",
      "\n",
      "See the caveats in the documentation: https://pandas.pydata.org/pandas-docs/stable/user_guide/indexing.html#returning-a-view-versus-a-copy\n",
      "  cases[\"issue_category\"] = cases[\"issue_category\"].apply(tuple)\n",
      "/var/folders/rx/3t2jtk8j69j_db_cydq_v6wc0000gn/T/ipykernel_65153/459506058.py:8: SettingWithCopyWarning: \n",
      "A value is trying to be set on a copy of a slice from a DataFrame.\n",
      "Try using .loc[row_indexer,col_indexer] = value instead\n",
      "\n",
      "See the caveats in the documentation: https://pandas.pydata.org/pandas-docs/stable/user_guide/indexing.html#returning-a-view-versus-a-copy\n",
      "  cases[\"issue_category\"] = cases[\"issue_category\"].apply(tuple)\n",
      "/var/folders/rx/3t2jtk8j69j_db_cydq_v6wc0000gn/T/ipykernel_65153/459506058.py:8: SettingWithCopyWarning: \n",
      "A value is trying to be set on a copy of a slice from a DataFrame.\n",
      "Try using .loc[row_indexer,col_indexer] = value instead\n",
      "\n",
      "See the caveats in the documentation: https://pandas.pydata.org/pandas-docs/stable/user_guide/indexing.html#returning-a-view-versus-a-copy\n",
      "  cases[\"issue_category\"] = cases[\"issue_category\"].apply(tuple)\n",
      "/var/folders/rx/3t2jtk8j69j_db_cydq_v6wc0000gn/T/ipykernel_65153/459506058.py:8: SettingWithCopyWarning: \n",
      "A value is trying to be set on a copy of a slice from a DataFrame.\n",
      "Try using .loc[row_indexer,col_indexer] = value instead\n",
      "\n",
      "See the caveats in the documentation: https://pandas.pydata.org/pandas-docs/stable/user_guide/indexing.html#returning-a-view-versus-a-copy\n",
      "  cases[\"issue_category\"] = cases[\"issue_category\"].apply(tuple)\n",
      "/var/folders/rx/3t2jtk8j69j_db_cydq_v6wc0000gn/T/ipykernel_65153/459506058.py:8: SettingWithCopyWarning: \n",
      "A value is trying to be set on a copy of a slice from a DataFrame.\n",
      "Try using .loc[row_indexer,col_indexer] = value instead\n",
      "\n",
      "See the caveats in the documentation: https://pandas.pydata.org/pandas-docs/stable/user_guide/indexing.html#returning-a-view-versus-a-copy\n",
      "  cases[\"issue_category\"] = cases[\"issue_category\"].apply(tuple)\n",
      "/var/folders/rx/3t2jtk8j69j_db_cydq_v6wc0000gn/T/ipykernel_65153/459506058.py:8: SettingWithCopyWarning: \n",
      "A value is trying to be set on a copy of a slice from a DataFrame.\n",
      "Try using .loc[row_indexer,col_indexer] = value instead\n",
      "\n",
      "See the caveats in the documentation: https://pandas.pydata.org/pandas-docs/stable/user_guide/indexing.html#returning-a-view-versus-a-copy\n",
      "  cases[\"issue_category\"] = cases[\"issue_category\"].apply(tuple)\n"
     ]
    }
   ],
   "source": [
    "for i, filename in enumerate(filenames):\n",
    "    reload = pd.read_json(filename)\n",
    "    print(\"------\")\n",
    "    print(filename)\n",
    "    print(\"number of records: \", len(reload))\n",
    "    \n",
    "    cases = reload[[\"case_id\", \"issue_category\"]]\n",
    "    cases[\"issue_category\"] = cases[\"issue_category\"].apply(tuple)\n",
    "    cases = cases.drop_duplicates()\n",
    "    \n",
    "    mlb = MultiLabelBinarizer()\n",
    "    binary_matrix = mlb.fit_transform(cases['issue_category'].to_list())\n",
    "    category_df = pd.DataFrame(binary_matrix, columns=mlb.classes_)\n",
    "\n",
    "    print(\"number of pos cases: \", len(category_df[category_df[list(train.keys())[i]] == 1]))\n",
    "    print(\"number of neg cases: \", len(category_df[category_df[list(train.keys())[i]] == 0]))"
   ]
  },
  {
   "cell_type": "code",
   "execution_count": 35,
   "id": "8e6c7a05-f43f-45f4-b90f-7b03d55cd8f7",
   "metadata": {},
   "outputs": [
    {
     "name": "stdout",
     "output_type": "stream",
     "text": [
      "2184\n"
     ]
    }
   ],
   "source": [
    "sub_df = df[df[\"case_id\"].isin(val_ids)]\n",
    "sub_df.to_json(\"data/val/val.json\")\n",
    "print(len(sub_df))"
   ]
  },
  {
   "cell_type": "code",
   "execution_count": 37,
   "id": "5514cb09-b869-4c20-b8af-b3c8b6c84e01",
   "metadata": {},
   "outputs": [
    {
     "name": "stdout",
     "output_type": "stream",
     "text": [
      "2310\n"
     ]
    }
   ],
   "source": [
    "sub_df = df[df[\"case_id\"].isin(test_ids)]\n",
    "sub_df.to_json(\"data/test/test.json\")\n",
    "print(len(sub_df))"
   ]
  }
 ],
 "metadata": {
  "kernelspec": {
   "display_name": "Python 3 (ipykernel)",
   "language": "python",
   "name": "python3"
  },
  "language_info": {
   "codemirror_mode": {
    "name": "ipython",
    "version": 3
   },
   "file_extension": ".py",
   "mimetype": "text/x-python",
   "name": "python",
   "nbconvert_exporter": "python",
   "pygments_lexer": "ipython3",
   "version": "3.11.11"
  }
 },
 "nbformat": 4,
 "nbformat_minor": 5
}
