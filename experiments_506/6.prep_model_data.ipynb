{
 "cells": [
  {
   "cell_type": "markdown",
   "id": "4deeaf51-7049-48cb-88ac-2331f4af63e5",
   "metadata": {},
   "source": [
    "# Prepare model data\n",
    "\n",
    "Since the actual contents of the documents were saved as separate txt files to save memory when working with dfs, this notebook outlines the steps to actually combine all the contents (and metadata) for a case + the issue category labels for modeling."
   ]
  },
  {
   "cell_type": "markdown",
   "id": "dadfb260-18f7-4d9d-b744-5682710cf685",
   "metadata": {},
   "source": [
    "# Import Libraries"
   ]
  },
  {
   "cell_type": "code",
   "execution_count": 1,
   "id": "183f972a-3d39-4b1f-bde8-d1d1a7ae64f2",
   "metadata": {},
   "outputs": [],
   "source": [
    "import pandas as pd"
   ]
  },
  {
   "cell_type": "markdown",
   "id": "4a7e8dcd-0bce-4e91-a995-2ff529e99d52",
   "metadata": {},
   "source": [
    "# Helper Functions"
   ]
  },
  {
   "cell_type": "code",
   "execution_count": 2,
   "id": "ea825a50-1226-4161-a8b7-407fc51dd2e4",
   "metadata": {},
   "outputs": [],
   "source": [
    "def load_content(filename):\n",
    "    try:\n",
    "        with open(f\"docs/{filename}.txt\", 'r', encoding='utf-8') as f:\n",
    "            return f.read()\n",
    "    except Exception as e:\n",
    "        print(f\"[Error reading {filename}: {e}]\")\n",
    "        return \"\"\n",
    "\n",
    "def save_content(filepath, content):\n",
    "    try:\n",
    "        with open(filepath, 'w', encoding='utf-8') as f:\n",
    "            f.write(content)\n",
    "    except Exception as e:\n",
    "        print(f\"[Error saving {filepath}: {e}]\")\n",
    "    \n",
    "\n",
    "def process_cases(df, filepath):\n",
    "    case_groups = df.groupby(\"case_id\")\n",
    "    records = []\n",
    "\n",
    "    for case_id, group in case_groups:\n",
    "        first_row = group.iloc[0]\n",
    "\n",
    "        # Compose the metadata sentence\n",
    "        metadata_sentence = (\n",
    "            f\"The case \\\"{first_row['case_name']}\\\" from {first_row['case_state']} \"\n",
    "            f\"was filed in {first_row['court_name']}.\"\n",
    "        )\n",
    "\n",
    "        # Compose the document text\n",
    "        document_texts = []\n",
    "        for _, row in group.iterrows():\n",
    "            content = load_content(row['case_doc_id'])\n",
    "            document_texts.append(f\"\\n\\nDocument Title: {row['doc_title']}\\nDocument Content: \\n{content}\")\n",
    "\n",
    "        # Combine metadata and document texts\n",
    "        full_content = metadata_sentence + ''.join(document_texts)\n",
    "\n",
    "        # Save the content to file\n",
    "        save_content(f\"{filepath}{case_id}.txt\", full_content)\n",
    "\n",
    "        # Add summary info for metadata\n",
    "        records.append({\n",
    "            \"case_id\": case_id,\n",
    "            \"content\": full_content,\n",
    "            \"num_tokens\": int(len(full_content) / 4),  # Rough token estimate\n",
    "            \"issue_category\": first_row[\"issue_category\"]\n",
    "        })\n",
    "\n",
    "    return pd.DataFrame(records)\n",
    "\n",
    "def process_df(filename, og_path, new_path):\n",
    "    print(f\"Processing: {filename}\")\n",
    "\n",
    "    df = pd.read_json(f\"{og_path}{filename}.json\")\n",
    "\n",
    "    df[\"case_doc_id\"] = df[\"case_id\"].astype(str) + \"_\" + df[\"doc_id\"].astype(str)\n",
    "    df = df[[\"case_id\", \"doc_id\", \"case_doc_id\", \"doc_title\", \"case_name\", \"case_state\", \"court_name\", \"issue_category\"]]\n",
    "    \n",
    "    processed_df = process_cases(df, filepath=f\"{new_path}docs/\")\n",
    "    processed_df.to_json(f\"{new_path}{filename}.json\")"
   ]
  },
  {
   "cell_type": "markdown",
   "id": "68bca990-d486-4553-8eac-9f6a2f38c6e6",
   "metadata": {},
   "source": [
    "# Prepare train data"
   ]
  },
  {
   "cell_type": "code",
   "execution_count": 3,
   "id": "ef87023e-40ed-4ff8-a07f-7eb1ec506400",
   "metadata": {
    "scrolled": true
   },
   "outputs": [
    {
     "data": {
      "text/plain": [
       "['COVID',\n",
       " 'BENEFITS',\n",
       " 'LGBTQ',\n",
       " 'REPRO',\n",
       " 'POLICING',\n",
       " 'NATION_ORIG',\n",
       " 'VOTE',\n",
       " 'IMMIGRATION',\n",
       " 'MED',\n",
       " 'DISABILITY',\n",
       " 'RACE',\n",
       " 'EEOC',\n",
       " 'PRISON',\n",
       " 'GENDER',\n",
       " 'DISC_AREA',\n",
       " 'DISC_BASE',\n",
       " 'GENERAL']"
      ]
     },
     "execution_count": 3,
     "metadata": {},
     "output_type": "execute_result"
    }
   ],
   "source": [
    "abbreviations = {\n",
    "    'COVID-19': 'COVID',\n",
    "    'Benefits (Source)': 'BENEFITS',\n",
    "    'LGBTQ+': 'LGBTQ',\n",
    "    'Reproductive rights': 'REPRO',\n",
    "    'Policing': 'POLICING',\n",
    "    'Affected National Origin/Ethnicity(s)': 'NATION_ORIG',\n",
    "    'Voting': 'VOTE',\n",
    "    'Immigration/Border': 'IMMIGRATION',\n",
    "    'Medical/Mental Health Care': 'MED',\n",
    "    'Disability and Disability Rights': 'DISABILITY',\n",
    "    'Affected Race(s)': 'RACE',\n",
    "    'EEOC-centric': 'EEOC',\n",
    "    'Jails, Prisons, Detention Centers, and Other Institutions': 'PRISON',\n",
    "    'Affected Sex/Gender(s)': 'GENDER',\n",
    "    'Discrimination Area': 'DISC_AREA',\n",
    "    'Discrimination Basis': 'DISC_BASE',\n",
    "    'General/Misc.': 'GENERAL'\n",
    "}\n",
    "\n",
    "filenames = list(abbreviations.values())\n",
    "filenames"
   ]
  },
  {
   "cell_type": "code",
   "execution_count": 4,
   "id": "b4c5fb8a-9f76-49c2-a532-94e43907b2f8",
   "metadata": {
    "scrolled": true
   },
   "outputs": [
    {
     "name": "stdout",
     "output_type": "stream",
     "text": [
      "Processing: COVID\n",
      "Processing: BENEFITS\n",
      "Processing: LGBTQ\n",
      "Processing: REPRO\n",
      "Processing: POLICING\n",
      "Processing: NATION_ORIG\n",
      "Processing: VOTE\n",
      "Processing: IMMIGRATION\n",
      "Processing: MED\n",
      "Processing: DISABILITY\n",
      "Processing: RACE\n",
      "Processing: EEOC\n",
      "Processing: PRISON\n",
      "Processing: GENDER\n",
      "Processing: DISC_AREA\n",
      "Processing: DISC_BASE\n",
      "Processing: GENERAL\n"
     ]
    }
   ],
   "source": [
    "for filename in filenames:\n",
    "    process_df(filename, og_path=\"data/train/\", new_path=\"data/train/clean/\")"
   ]
  },
  {
   "cell_type": "markdown",
   "id": "055d016f-7394-4ea4-a9f3-b2b3d9ea77cd",
   "metadata": {},
   "source": [
    "# Prepare val & test data"
   ]
  },
  {
   "cell_type": "code",
   "execution_count": 5,
   "id": "42939b85-41b7-4b9b-8979-af522b4e9981",
   "metadata": {},
   "outputs": [
    {
     "name": "stdout",
     "output_type": "stream",
     "text": [
      "Processing: val\n"
     ]
    }
   ],
   "source": [
    "process_df(\"val\", og_path=\"data/val/\", new_path=\"data/val/clean/\")"
   ]
  },
  {
   "cell_type": "code",
   "execution_count": 6,
   "id": "e6c05567-4849-48fc-b451-28de93d8f1be",
   "metadata": {},
   "outputs": [
    {
     "name": "stdout",
     "output_type": "stream",
     "text": [
      "Processing: test\n"
     ]
    }
   ],
   "source": [
    "process_df(\"test\", og_path=\"data/test/\", new_path=\"data/test/clean/\")"
   ]
  }
 ],
 "metadata": {
  "kernelspec": {
   "display_name": "Python 3 (ipykernel)",
   "language": "python",
   "name": "python3"
  },
  "language_info": {
   "codemirror_mode": {
    "name": "ipython",
    "version": 3
   },
   "file_extension": ".py",
   "mimetype": "text/x-python",
   "name": "python",
   "nbconvert_exporter": "python",
   "pygments_lexer": "ipython3",
   "version": "3.11.11"
  }
 },
 "nbformat": 4,
 "nbformat_minor": 5
}
